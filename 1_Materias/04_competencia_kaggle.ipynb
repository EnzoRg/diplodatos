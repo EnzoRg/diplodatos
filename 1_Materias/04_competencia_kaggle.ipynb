{
  "cells": [
    {
      "cell_type": "markdown",
      "metadata": {
        "id": "NMEtjNDCvPAn"
      },
      "source": [
        "# DiploDatos Kaggle Competition"
      ]
    },
    {
      "cell_type": "markdown",
      "source": [
        "## Introducción"
      ],
      "metadata": {
        "id": "ZsL9DLYwGNYE"
      }
    },
    {
      "cell_type": "markdown",
      "metadata": {
        "id": "5zUIYFDDvPAp"
      },
      "source": [
        "Presentamos un código creado como ejemplo de base para la competición.\n",
        "\n",
        "Deben:\n",
        "\n",
        "- Explorar los datos y aprender de ellos.\n",
        "- Probar diferentes modelos y ver cuáles ajustan mejor dado los datos.\n",
        "- **Obtener una accuracy mejor que la que se presenta en este ejemplo.**\n",
        "- Tratar de obtener la accuracy más alta posible!\n",
        "- Discutir la elección de modelo.\n",
        "\n",
        "El análisis exploratorio y el preprocesamiento de los datos queda a libertad de cada grupo y no deben quedarse con este simple ejemplo."
      ]
    },
    {
      "cell_type": "markdown",
      "source": [
        "## Paquetes de Python y Setup"
      ],
      "metadata": {
        "id": "jY-BrT1iGSly"
      }
    },
    {
      "cell_type": "markdown",
      "source": [
        "Se importan los paquetes necesarios para este notebook\n",
        "- *pandas*\n",
        "- *numpy*\n",
        "- *tensorflow*\n",
        "- *seaborn*\n",
        "- *matplotlib*\n",
        "- *sklearn*\n",
        "- *xgboost*\n",
        "- *imblearn*"
      ],
      "metadata": {
        "id": "qGYoZUXfGVPi"
      }
    },
    {
      "cell_type": "code",
      "execution_count": null,
      "metadata": {
        "id": "mfXomyLDvPAp"
      },
      "outputs": [],
      "source": [
        "import pandas as pd\n",
        "import numpy as np\n",
        "import tensorflow as tf\n",
        "import seaborn as sns\n",
        "import matplotlib.pyplot as plt\n",
        "\n",
        "from sklearn.model_selection import train_test_split, GridSearchCV\n",
        "from sklearn.preprocessing import StandardScaler\n",
        "from sklearn.metrics import accuracy_score, ConfusionMatrixDisplay\n",
        "from sklearn.ensemble import RandomForestClassifier\n",
        "from sklearn.ensemble import VotingClassifier\n",
        "from sklearn.ensemble import AdaBoostClassifier\n",
        "from xgboost import XGBClassifier\n",
        "\n",
        "from imblearn.combine import SMOTETomek\n",
        "from lightgbm import LGBMClassifier"
      ]
    },
    {
      "cell_type": "markdown",
      "metadata": {
        "id": "OTwArNHkvPAq"
      },
      "source": [
        "## Leer el dataset"
      ]
    },
    {
      "cell_type": "markdown",
      "source": [
        "Se cargan los archivos de entrenamiento y prueba"
      ],
      "metadata": {
        "id": "oZED7IW1GrLV"
      }
    },
    {
      "cell_type": "code",
      "execution_count": null,
      "metadata": {
        "id": "1mhGq32DvPAq"
      },
      "outputs": [],
      "source": [
        "train_df = pd.read_csv('https://raw.githubusercontent.com/DiploDatos/AprendizajeSupervisado/master/Pr%C3%A1ctico/diabetes_prediction_dataset_train-labeled.csv')"
      ]
    },
    {
      "cell_type": "code",
      "execution_count": null,
      "metadata": {
        "id": "A0GExoHdvPAr"
      },
      "outputs": [],
      "source": [
        "test_df = pd.read_csv('https://raw.githubusercontent.com/DiploDatos/AprendizajeSupervisado/master/Pr%C3%A1ctico/diabetes_prediction_dataset_test.csv')"
      ]
    },
    {
      "cell_type": "code",
      "execution_count": null,
      "metadata": {
        "colab": {
          "base_uri": "https://localhost:8080/"
        },
        "id": "EmUeHaTjNDC0",
        "outputId": "722de95d-c529-4b15-beab-0af864939b26"
      },
      "outputs": [
        {
          "output_type": "stream",
          "name": "stdout",
          "text": [
            "Train shape:\t95000\n",
            "Test shape:\t5000\n"
          ]
        }
      ],
      "source": [
        "print(f'Train shape:\\t{train_df.shape[0]}')\n",
        "print(f'Test shape:\\t{test_df.shape[0]}')"
      ]
    },
    {
      "cell_type": "markdown",
      "metadata": {
        "id": "YT0bO8Y5vPAs"
      },
      "source": [
        "## Analisis de los datos\n"
      ]
    },
    {
      "cell_type": "markdown",
      "metadata": {
        "id": "hqPK10yyOgQs"
      },
      "source": [
        "Es necesario conocer la variable objetivo `diabetes` del dataset"
      ]
    },
    {
      "cell_type": "code",
      "execution_count": null,
      "metadata": {
        "colab": {
          "base_uri": "https://localhost:8080/",
          "height": 428
        },
        "id": "RIxIwPdzP_lo",
        "outputId": "a86a5995-e545-48e6-df55-fee331e62242"
      },
      "outputs": [
        {
          "output_type": "display_data",
          "data": {
            "text/plain": [
              "<Figure size 640x480 with 1 Axes>"
            ],
            "image/png": "[encoded data removed]"
          },
          "metadata": {}
        }
      ],
      "source": [
        "plt.pie(train_df.diabetes.value_counts(), labels=['No','Si'], autopct='%1.1f%%')\n",
        "plt.title('Pacientes con diabetes')\n",
        "plt.show()"
      ]
    },
    {
      "cell_type": "markdown",
      "metadata": {
        "id": "Vapa1psPQwQ-"
      },
      "source": [
        "Se puede observar que la variable objetivo esta muy desbalanceada. Se debe tener en cuenta esto a la hora de entrenar el modelo. Se crea un histograma por cada variable para ver su compartamiento con respecto a la variable objetivo"
      ]
    },
    {
      "cell_type": "markdown",
      "metadata": {
        "id": "bMmQ4K9BwZBi"
      },
      "source": [
        "### Histogramas"
      ]
    },
    {
      "cell_type": "code",
      "execution_count": null,
      "metadata": {
        "colab": {
          "base_uri": "https://localhost:8080/",
          "height": 234
        },
        "id": "YNT6srlqPH2_",
        "outputId": "32bb2d10-d19d-4e11-a84f-a26a1a01ba3f"
      },
      "outputs": [
        {
          "output_type": "display_data",
          "data": {
            "text/plain": [
              "<Figure size 600x200 with 1 Axes>"
            ],
            "image/png": "[encoded data removed]"
          },
          "metadata": {}
        }
      ],
      "source": [
        "fig = plt.figure(figsize=(6,2))\n",
        "sns.histplot(data=train_df, x=\"gender\", hue=\"diabetes\", multiple=\"stack\", bins=50, legend=False)\n",
        "plt.show()"
      ]
    },
    {
      "cell_type": "code",
      "execution_count": null,
      "metadata": {
        "colab": {
          "base_uri": "https://localhost:8080/",
          "height": 234
        },
        "id": "8qpUv2rFPYey",
        "outputId": "bea83a68-cf03-4c5a-d878-f41a9f74f1ad"
      },
      "outputs": [
        {
          "output_type": "display_data",
          "data": {
            "text/plain": [
              "<Figure size 600x200 with 1 Axes>"
            ],
            "image/png": "[encoded data removed]"
          },
          "metadata": {}
        }
      ],
      "source": [
        "fig = plt.figure(figsize=(6,2))\n",
        "sns.histplot(data=train_df, x=\"age\", hue=\"diabetes\", multiple=\"stack\", bins=50, legend=False)\n",
        "plt.show()"
      ]
    },
    {
      "cell_type": "code",
      "execution_count": null,
      "metadata": {
        "colab": {
          "base_uri": "https://localhost:8080/",
          "height": 234
        },
        "id": "ldMInw3KPa7Y",
        "outputId": "2d4bcd9a-db6c-476b-ff9a-300cd8fe5f0d"
      },
      "outputs": [
        {
          "output_type": "display_data",
          "data": {
            "text/plain": [
              "<Figure size 600x200 with 1 Axes>"
            ],
            "image/png": "[encoded data removed]"
          },
          "metadata": {}
        }
      ],
      "source": [
        "fig = plt.figure(figsize=(6,2))\n",
        "sns.histplot(data=train_df, x=\"hypertension\", hue=\"diabetes\", multiple=\"stack\", bins=50, legend=False)\n",
        "plt.show()"
      ]
    },
    {
      "cell_type": "code",
      "execution_count": null,
      "metadata": {
        "colab": {
          "base_uri": "https://localhost:8080/",
          "height": 234
        },
        "id": "_CmfaqVlPgVi",
        "outputId": "90c8cec7-0bb3-4edc-ad23-d86a3f027f05"
      },
      "outputs": [
        {
          "output_type": "display_data",
          "data": {
            "text/plain": [
              "<Figure size 600x200 with 1 Axes>"
            ],
            "image/png": "[encoded data removed]"
          },
          "metadata": {}
        }
      ],
      "source": [
        "fig = plt.figure(figsize=(6,2))\n",
        "sns.histplot(data=train_df, x=\"heart_disease\", hue=\"diabetes\", multiple=\"stack\", bins=50, legend=False)\n",
        "plt.show()"
      ]
    },
    {
      "cell_type": "code",
      "execution_count": null,
      "metadata": {
        "colab": {
          "base_uri": "https://localhost:8080/",
          "height": 234
        },
        "id": "0p7wS7gYPmNw",
        "outputId": "78023266-3cfb-47b6-cd17-da9747b6695b"
      },
      "outputs": [
        {
          "output_type": "display_data",
          "data": {
            "text/plain": [
              "<Figure size 600x200 with 1 Axes>"
            ],
            "image/png": "[encoded data removed]"
          },
          "metadata": {}
        }
      ],
      "source": [
        "fig = plt.figure(figsize=(6,2))\n",
        "sns.histplot(data=train_df, x=\"smoking_history\", hue=\"diabetes\", multiple=\"stack\", bins=50, legend=False)\n",
        "plt.show()"
      ]
    },
    {
      "cell_type": "code",
      "execution_count": null,
      "metadata": {
        "colab": {
          "base_uri": "https://localhost:8080/",
          "height": 234
        },
        "id": "y9ubO_pKPrJI",
        "outputId": "bb081423-7e42-4fd3-fa4b-13db16772fa4"
      },
      "outputs": [
        {
          "output_type": "display_data",
          "data": {
            "text/plain": [
              "<Figure size 600x200 with 1 Axes>"
            ],
            "image/png": "[encoded data removed]"
          },
          "metadata": {}
        }
      ],
      "source": [
        "fig = plt.figure(figsize=(6,2))\n",
        "sns.histplot(data=train_df, x=\"bmi\", hue=\"diabetes\", multiple=\"stack\", bins=50, legend=False)\n",
        "plt.show()"
      ]
    },
    {
      "cell_type": "code",
      "execution_count": null,
      "metadata": {
        "colab": {
          "base_uri": "https://localhost:8080/",
          "height": 234
        },
        "id": "lzk07tPUPyWp",
        "outputId": "7debf74e-a4b8-48f3-8866-dbd802b1067c"
      },
      "outputs": [
        {
          "output_type": "display_data",
          "data": {
            "text/plain": [
              "<Figure size 600x200 with 1 Axes>"
            ],
            "image/png": "[encoded data removed]"
          },
          "metadata": {}
        }
      ],
      "source": [
        "fig = plt.figure(figsize=(6,2))\n",
        "sns.histplot(data=train_df, x=\"HbA1c_level\", hue=\"diabetes\", multiple=\"stack\", bins=50, legend=False)\n",
        "plt.show()"
      ]
    },
    {
      "cell_type": "code",
      "execution_count": null,
      "metadata": {
        "colab": {
          "base_uri": "https://localhost:8080/",
          "height": 234
        },
        "id": "tSG9PHlMP19w",
        "outputId": "347466f3-75f8-4d32-e658-28dbb9537f38"
      },
      "outputs": [
        {
          "output_type": "display_data",
          "data": {
            "text/plain": [
              "<Figure size 600x200 with 1 Axes>"
            ],
            "image/png": "[encoded data removed]"
          },
          "metadata": {}
        }
      ],
      "source": [
        "fig = plt.figure(figsize=(6,2))\n",
        "sns.histplot(data=train_df, x=\"blood_glucose_level\", hue=\"diabetes\", multiple=\"stack\", bins=50, legend=False)\n",
        "plt.show()"
      ]
    },
    {
      "cell_type": "markdown",
      "metadata": {
        "id": "_tObVvU-OEp1"
      },
      "source": [
        "Luego de observar los histogramas se obtienen las siguientes conclusiones:\n",
        "- age: presenta cierta discrepancia, ya que muestra que la gran mayoría de pacientes tiene 80 años y viendo la distribución de todas las edades, puede ser erróneo\n",
        "- bmi: presenta una gran cantidad de datos alrededor de 27, pero esto corresponde a un valor esperado para una persona \"saludable\"\n",
        "- smoke_history: se puede observar que la categoría **No_Info**, es decir los datos faltantes, tiene una gran cantidad de valores"
      ]
    },
    {
      "cell_type": "markdown",
      "source": [
        "## Preprocesamiento de datos\n"
      ],
      "metadata": {
        "id": "27w5yYBN_zlx"
      }
    },
    {
      "cell_type": "markdown",
      "source": [
        "A partir del análisis realizado, se crea una función `preprocess_data` que realiza las siguientes tareas:\n",
        "- Elimina las filas con valores `No_Info` de `smoking_history`\n",
        "- Elimina las filas con valors `Other` de `gender`\n",
        "- Elimina los valores iguales a 80 y menores a 2 de `age`\n",
        "- Codifica los valores de las variables categoricas de `gender` y `smoking_history`\n",
        "- Aplica `StandardScaler()`"
      ],
      "metadata": {
        "id": "kQvNvX8BHlCr"
      }
    },
    {
      "cell_type": "code",
      "source": [
        "def preprocess_data(df):\n",
        "    new_df = df.copy(deep=True)\n",
        "    new_df = new_df[new_df['smoking_history'] != 'No Info']\n",
        "    new_df = new_df[new_df['gender'] != 'Other']\n",
        "    new_df = new_df[(new_df['age'] != 80) & (new_df['age'] >= 2)]\n",
        "\n",
        "    new_df = pd.get_dummies(new_df, columns=['gender', 'smoking_history'], dtype=float)\n",
        "    scaler = StandardScaler()\n",
        "    new_df[['age', 'bmi', 'HbA1c_level', 'blood_glucose_level']] = scaler.fit_transform(new_df[['age', 'bmi', 'HbA1c_level', 'blood_glucose_level']])\n",
        "\n",
        "    return new_df"
      ],
      "metadata": {
        "id": "GljfHXkBFzWZ"
      },
      "execution_count": null,
      "outputs": []
    },
    {
      "cell_type": "code",
      "source": [
        "df = preprocess_data(train_df)"
      ],
      "metadata": {
        "id": "BO69itxcGmrP"
      },
      "execution_count": null,
      "outputs": []
    },
    {
      "cell_type": "markdown",
      "source": [
        "Se obtiene un dataset de entrenamiento menor al original"
      ],
      "metadata": {
        "id": "fW6uUyGWIS1k"
      }
    },
    {
      "cell_type": "code",
      "source": [
        "df.shape"
      ],
      "metadata": {
        "colab": {
          "base_uri": "https://localhost:8080/"
        },
        "id": "S8IP4hwV8u0B",
        "outputId": "0728cee4-cf6b-4561-9724-6e726f8fe69a"
      },
      "execution_count": null,
      "outputs": [
        {
          "output_type": "execute_result",
          "data": {
            "text/plain": [
              "(57233, 15)"
            ]
          },
          "metadata": {},
          "execution_count": 7
        }
      ]
    },
    {
      "cell_type": "markdown",
      "source": [
        "### Submuestreo"
      ],
      "metadata": {
        "id": "n7oohcoEHNVH"
      }
    },
    {
      "cell_type": "markdown",
      "source": [
        "Al tener la variable objetico `diabetes` desbalanceada, se prodece a utilizar la técnica de submuestreo"
      ],
      "metadata": {
        "id": "6DpTMF7pIa0f"
      }
    },
    {
      "cell_type": "markdown",
      "source": [
        "Al tener la variable objetico `diabetes` desbalanceada, se prodece a utilizar la técnica de submuestreo SMOTETomek. Combina dos métodos, sobremuestreo y submuestreo para el balanceo de conjuntos de datos desequilibrados:\n",
        "\n",
        "- SMOTE (Synthetic Minority Over-sampling Technique): Esta técnica genera nuevas muestras sintéticas de la clase minoritaria. Lo hace seleccionando aleatoriamente una muestra de la clase minoritaria y encontrando sus k vecinos más cercanos. Luego, crea un nuevo ejemplo sintético en el espacio entre la muestra seleccionada y uno de sus vecinos\n",
        "\n",
        "- Tomek Links: Es una técnica de submuestreo que identifica y elimina parejas de ejemplos (un ejemplo de la clase mayoritaria y otro de la clase minoritaria) que son los vecinos más cercanos entre sí y pertenecen a diferentes clases. Si un par de ejemplos es un Tomek Link, significa que la frontera de decisión entre las clases es ruidosa en ese punto, y eliminando estos ejemplos se puede mejorar la separación entre clases\n",
        "\n",
        "Ver [link](https://imbalanced-learn.org/stable/references/generated/imblearn.combine.SMOTETomek.html)"
      ],
      "metadata": {
        "id": "1SmDqCDyXPoE"
      }
    },
    {
      "cell_type": "code",
      "source": [
        "def smote_tomek(df):\n",
        "    X = df.drop('diabetes', axis=1)\n",
        "    y = df['diabetes']\n",
        "\n",
        "    smote_tomek = SMOTETomek(random_state=42)\n",
        "    X_resampled, y_resampled = smote_tomek.fit_resample(X, y)\n",
        "    resampled_df = pd.concat([pd.DataFrame(X_resampled, columns=X.columns), pd.DataFrame(y_resampled, columns=['diabetes'])], axis=1)\n",
        "\n",
        "    X = resampled_df.drop(columns= 'diabetes')\n",
        "    y = resampled_df['diabetes']\n",
        "\n",
        "    return X, y"
      ],
      "metadata": {
        "id": "w2wVWAgpHbtm"
      },
      "execution_count": null,
      "outputs": []
    },
    {
      "cell_type": "markdown",
      "source": [
        "**Aclaración: No se utilizo `SMOTETomek` para la entrega del trabajo**"
      ],
      "metadata": {
        "id": "6ES_B68tI1ZN"
      }
    },
    {
      "cell_type": "code",
      "source": [
        "#X, y = smote_tomek(df)"
      ],
      "metadata": {
        "id": "Gs27M-KAHwze"
      },
      "execution_count": null,
      "outputs": []
    },
    {
      "cell_type": "markdown",
      "source": [
        "Se extran la columna `patient` y se separan los datos"
      ],
      "metadata": {
        "id": "77DpjvZfJBLa"
      }
    },
    {
      "cell_type": "code",
      "source": [
        "PatientId_train = df['patient']\n",
        "df = df.drop('patient', axis=1)"
      ],
      "metadata": {
        "id": "oyeuCGZ2KqlG"
      },
      "execution_count": null,
      "outputs": []
    },
    {
      "cell_type": "code",
      "source": [
        "X = df.drop(columns = 'diabetes')\n",
        "y = df['diabetes']"
      ],
      "metadata": {
        "id": "_RAXzvggPAqe"
      },
      "execution_count": null,
      "outputs": []
    },
    {
      "cell_type": "markdown",
      "source": [
        "Se utilizar `test_train_split` para separar los datos de entrenamiento"
      ],
      "metadata": {
        "id": "AheYaHpZemzc"
      }
    },
    {
      "cell_type": "code",
      "source": [
        "X_train, X_test, y_train, y_test = train_test_split(X, y, test_size=0.2, random_state=42)"
      ],
      "metadata": {
        "id": "5Es44wiTHwJ_"
      },
      "execution_count": null,
      "outputs": []
    },
    {
      "cell_type": "markdown",
      "source": [
        "## Clasificador por votación"
      ],
      "metadata": {
        "id": "yT16V8gTc2yZ"
      }
    },
    {
      "cell_type": "markdown",
      "source": [
        "Un clasificador de votación es un modelo de aprendizaje automático que adquiere experiencia entrenando en un conjunto de varios modelos y pronostica una salida (clase) basada en la clase con mayor probabilidad de convertirse en la salida.\n",
        "\n",
        "\n",
        "\n",
        "\n",
        "Se basa en construir un modelo único que aprenda de varios modelos y que pueda predecir en función de la mayoría de votos para cada modelo, en lugar de construir modelos especializados separados y determinar la precisión de cada uno de ellos. Existen principalmente dos tipos diferentes de clasificadores de votación:\n",
        "\n",
        "- `hard`: la salida prevista es la clase con la mayor cantidad de votos, es decir, la clase con la mayor probabilidad de ser predicha por cada modelo.\n",
        "- `soft`: las probabilidades promedio de los modelos determinan cuál será la predicción final"
      ],
      "metadata": {
        "id": "_Wo95l1SdEWl"
      }
    },
    {
      "cell_type": "markdown",
      "source": [
        "A partir de esto se plantean dos modelos:\n",
        "- `XGBClassifier`: Un clasificador basado en el algoritmo de Gradient Boosting de XGBoost, conocido por su eficiencia y flexibilidad\n",
        "- `RandomForestClassifier`: Un clasificador basado en el algoritmo de Random Forest, que construye múltiples árboles de decisión y combina sus predicciones para mejorar la precisión y reducir el sobreajuste\n",
        "\n"
      ],
      "metadata": {
        "id": "p1IAMMjLZLtU"
      }
    },
    {
      "cell_type": "markdown",
      "source": [
        "### Sin ajuste de hiperparámetros"
      ],
      "metadata": {
        "id": "9TfrMuqQRhk2"
      }
    },
    {
      "cell_type": "markdown",
      "source": [
        "Primero se instancia el clasificador por votacíon mediante `VotingClassifier` con los modelos mencionados sin ajustar hiperparámetros"
      ],
      "metadata": {
        "id": "gj_ttcA3dg1t"
      }
    },
    {
      "cell_type": "code",
      "source": [
        "xgb = XGBClassifier(random_state=6)\n",
        "rf = RandomForestClassifier(random_state=6)"
      ],
      "metadata": {
        "id": "fa3G_nwbcqIr"
      },
      "execution_count": null,
      "outputs": []
    },
    {
      "cell_type": "code",
      "source": [
        "voting_clf = VotingClassifier(\n",
        "    estimators=[('rf', rf), ('xgb', xgb)],\n",
        "    voting='soft'\n",
        ")\n",
        "\n",
        "voting_clf.fit(X_train, y_train)"
      ],
      "metadata": {
        "colab": {
          "base_uri": "https://localhost:8080/",
          "height": 110
        },
        "id": "SuN32i2X_yZr",
        "outputId": "03431a1b-dfed-42ff-a32f-dea29a213028"
      },
      "execution_count": null,
      "outputs": [
        {
          "output_type": "execute_result",
          "data": {
            "text/plain": [
              "VotingClassifier(estimators=[('rf', RandomForestClassifier(random_state=6)),\n",
              "                             ('xgb',\n",
              "                              XGBClassifier(base_score=None, booster=None,\n",
              "                                            callbacks=None,\n",
              "                                            colsample_bylevel=None,\n",
              "                                            colsample_bynode=None,\n",
              "                                            colsample_bytree=None, device=None,\n",
              "                                            early_stopping_rounds=None,\n",
              "                                            enable_categorical=False,\n",
              "                                            eval_metric=None,\n",
              "                                            feature_types=None, gamma=None,\n",
              "                                            grow_policy=None,\n",
              "                                            importance_type=None,\n",
              "                                            interaction_constraints=None,\n",
              "                                            learning_rate=None, max_bin=None,\n",
              "                                            max_cat_threshold=None,\n",
              "                                            max_cat_to_onehot=None,\n",
              "                                            max_delta_step=None, max_depth=None,\n",
              "                                            max_leaves=None,\n",
              "                                            min_child_weight=None, missing=nan,\n",
              "                                            monotone_constraints=None,\n",
              "                                            multi_strategy=None,\n",
              "                                            n_estimators=None, n_jobs=None,\n",
              "                                            num_parallel_tree=None,\n",
              "                                            random_state=6, ...))],\n",
              "                 voting='soft')"
            ],
            "text/html": [
              "<style>#sk-container-id-1 {color: black;background-color: white;}#sk-container-id-1 pre{padding: 0;}#sk-container-id-1 div.sk-toggleable {background-color: white;}#sk-container-id-1 label.sk-toggleable__label {cursor: pointer;display: block;width: 100%;margin-bottom: 0;padding: 0.3em;box-sizing: border-box;text-align: center;}#sk-container-id-1 label.sk-toggleable__label-arrow:before {content: \"▸\";float: left;margin-right: 0.25em;color: #696969;}#sk-container-id-1 label.sk-toggleable__label-arrow:hover:before {color: black;}#sk-container-id-1 div.sk-estimator:hover label.sk-toggleable__label-arrow:before {color: black;}#sk-container-id-1 div.sk-toggleable__content {max-height: 0;max-width: 0;overflow: hidden;text-align: left;background-color: #f0f8ff;}#sk-container-id-1 div.sk-toggleable__content pre {margin: 0.2em;color: black;border-radius: 0.25em;background-color: #f0f8ff;}#sk-container-id-1 input.sk-toggleable__control:checked~div.sk-toggleable__content {max-height: 200px;max-width: 100%;overflow: auto;}#sk-container-id-1 input.sk-toggleable__control:checked~label.sk-toggleable__label-arrow:before {content: \"▾\";}#sk-container-id-1 div.sk-estimator input.sk-toggleable__control:checked~label.sk-toggleable__label {background-color: #d4ebff;}#sk-container-id-1 div.sk-label input.sk-toggleable__control:checked~label.sk-toggleable__label {background-color: #d4ebff;}#sk-container-id-1 input.sk-hidden--visually {border: 0;clip: rect(1px 1px 1px 1px);clip: rect(1px, 1px, 1px, 1px);height: 1px;margin: -1px;overflow: hidden;padding: 0;position: absolute;width: 1px;}#sk-container-id-1 div.sk-estimator {font-family: monospace;background-color: #f0f8ff;border: 1px dotted black;border-radius: 0.25em;box-sizing: border-box;margin-bottom: 0.5em;}#sk-container-id-1 div.sk-estimator:hover {background-color: #d4ebff;}#sk-container-id-1 div.sk-parallel-item::after {content: \"\";width: 100%;border-bottom: 1px solid gray;flex-grow: 1;}#sk-container-id-1 div.sk-label:hover label.sk-toggleable__label {background-color: #d4ebff;}#sk-container-id-1 div.sk-serial::before {content: \"\";position: absolute;border-left: 1px solid gray;box-sizing: border-box;top: 0;bottom: 0;left: 50%;z-index: 0;}#sk-container-id-1 div.sk-serial {display: flex;flex-direction: column;align-items: center;background-color: white;padding-right: 0.2em;padding-left: 0.2em;position: relative;}#sk-container-id-1 div.sk-item {position: relative;z-index: 1;}#sk-container-id-1 div.sk-parallel {display: flex;align-items: stretch;justify-content: center;background-color: white;position: relative;}#sk-container-id-1 div.sk-item::before, #sk-container-id-1 div.sk-parallel-item::before {content: \"\";position: absolute;border-left: 1px solid gray;box-sizing: border-box;top: 0;bottom: 0;left: 50%;z-index: -1;}#sk-container-id-1 div.sk-parallel-item {display: flex;flex-direction: column;z-index: 1;position: relative;background-color: white;}#sk-container-id-1 div.sk-parallel-item:first-child::after {align-self: flex-end;width: 50%;}#sk-container-id-1 div.sk-parallel-item:last-child::after {align-self: flex-start;width: 50%;}#sk-container-id-1 div.sk-parallel-item:only-child::after {width: 0;}#sk-container-id-1 div.sk-dashed-wrapped {border: 1px dashed gray;margin: 0 0.4em 0.5em 0.4em;box-sizing: border-box;padding-bottom: 0.4em;background-color: white;}#sk-container-id-1 div.sk-label label {font-family: monospace;font-weight: bold;display: inline-block;line-height: 1.2em;}#sk-container-id-1 div.sk-label-container {text-align: center;}#sk-container-id-1 div.sk-container {/* jupyter's `normalize.less` sets `[hidden] { display: none; }` but bootstrap.min.css set `[hidden] { display: none !important; }` so we also need the `!important` here to be able to override the default hidden behavior on the sphinx rendered scikit-learn.org. See: https://github.com/scikit-learn/scikit-learn/issues/21755 */display: inline-block !important;position: relative;}#sk-container-id-1 div.sk-text-repr-fallback {display: none;}</style><div id=\"sk-container-id-1\" class=\"sk-top-container\"><div class=\"sk-text-repr-fallback\"><pre>VotingClassifier(estimators=[(&#x27;rf&#x27;, RandomForestClassifier(random_state=6)),\n",
              "                             (&#x27;xgb&#x27;,\n",
              "                              XGBClassifier(base_score=None, booster=None,\n",
              "                                            callbacks=None,\n",
              "                                            colsample_bylevel=None,\n",
              "                                            colsample_bynode=None,\n",
              "                                            colsample_bytree=None, device=None,\n",
              "                                            early_stopping_rounds=None,\n",
              "                                            enable_categorical=False,\n",
              "                                            eval_metric=None,\n",
              "                                            feature_types=None, gamma=None,\n",
              "                                            grow_policy=None,\n",
              "                                            importance_type=None,\n",
              "                                            interaction_constraints=None,\n",
              "                                            learning_rate=None, max_bin=None,\n",
              "                                            max_cat_threshold=None,\n",
              "                                            max_cat_to_onehot=None,\n",
              "                                            max_delta_step=None, max_depth=None,\n",
              "                                            max_leaves=None,\n",
              "                                            min_child_weight=None, missing=nan,\n",
              "                                            monotone_constraints=None,\n",
              "                                            multi_strategy=None,\n",
              "                                            n_estimators=None, n_jobs=None,\n",
              "                                            num_parallel_tree=None,\n",
              "                                            random_state=6, ...))],\n",
              "                 voting=&#x27;soft&#x27;)</pre><b>In a Jupyter environment, please rerun this cell to show the HTML representation or trust the notebook. <br />On GitHub, the HTML representation is unable to render, please try loading this page with nbviewer.org.</b></div><div class=\"sk-container\" hidden><div class=\"sk-item sk-dashed-wrapped\"><div class=\"sk-label-container\"><div class=\"sk-label sk-toggleable\"><input class=\"sk-toggleable__control sk-hidden--visually\" id=\"sk-estimator-id-1\" type=\"checkbox\" ><label for=\"sk-estimator-id-1\" class=\"sk-toggleable__label sk-toggleable__label-arrow\">VotingClassifier</label><div class=\"sk-toggleable__content\"><pre>VotingClassifier(estimators=[(&#x27;rf&#x27;, RandomForestClassifier(random_state=6)),\n",
              "                             (&#x27;xgb&#x27;,\n",
              "                              XGBClassifier(base_score=None, booster=None,\n",
              "                                            callbacks=None,\n",
              "                                            colsample_bylevel=None,\n",
              "                                            colsample_bynode=None,\n",
              "                                            colsample_bytree=None, device=None,\n",
              "                                            early_stopping_rounds=None,\n",
              "                                            enable_categorical=False,\n",
              "                                            eval_metric=None,\n",
              "                                            feature_types=None, gamma=None,\n",
              "                                            grow_policy=None,\n",
              "                                            importance_type=None,\n",
              "                                            interaction_constraints=None,\n",
              "                                            learning_rate=None, max_bin=None,\n",
              "                                            max_cat_threshold=None,\n",
              "                                            max_cat_to_onehot=None,\n",
              "                                            max_delta_step=None, max_depth=None,\n",
              "                                            max_leaves=None,\n",
              "                                            min_child_weight=None, missing=nan,\n",
              "                                            monotone_constraints=None,\n",
              "                                            multi_strategy=None,\n",
              "                                            n_estimators=None, n_jobs=None,\n",
              "                                            num_parallel_tree=None,\n",
              "                                            random_state=6, ...))],\n",
              "                 voting=&#x27;soft&#x27;)</pre></div></div></div><div class=\"sk-parallel\"><div class=\"sk-parallel-item\"><div class=\"sk-item\"><div class=\"sk-label-container\"><div class=\"sk-label sk-toggleable\"><label>rf</label></div></div><div class=\"sk-serial\"><div class=\"sk-item\"><div class=\"sk-estimator sk-toggleable\"><input class=\"sk-toggleable__control sk-hidden--visually\" id=\"sk-estimator-id-2\" type=\"checkbox\" ><label for=\"sk-estimator-id-2\" class=\"sk-toggleable__label sk-toggleable__label-arrow\">RandomForestClassifier</label><div class=\"sk-toggleable__content\"><pre>RandomForestClassifier(random_state=6)</pre></div></div></div></div></div></div><div class=\"sk-parallel-item\"><div class=\"sk-item\"><div class=\"sk-label-container\"><div class=\"sk-label sk-toggleable\"><label>xgb</label></div></div><div class=\"sk-serial\"><div class=\"sk-item\"><div class=\"sk-estimator sk-toggleable\"><input class=\"sk-toggleable__control sk-hidden--visually\" id=\"sk-estimator-id-3\" type=\"checkbox\" ><label for=\"sk-estimator-id-3\" class=\"sk-toggleable__label sk-toggleable__label-arrow\">XGBClassifier</label><div class=\"sk-toggleable__content\"><pre>XGBClassifier(base_score=None, booster=None, callbacks=None,\n",
              "              colsample_bylevel=None, colsample_bynode=None,\n",
              "              colsample_bytree=None, device=None, early_stopping_rounds=None,\n",
              "              enable_categorical=False, eval_metric=None, feature_types=None,\n",
              "              gamma=None, grow_policy=None, importance_type=None,\n",
              "              interaction_constraints=None, learning_rate=None, max_bin=None,\n",
              "              max_cat_threshold=None, max_cat_to_onehot=None,\n",
              "              max_delta_step=None, max_depth=None, max_leaves=None,\n",
              "              min_child_weight=None, missing=nan, monotone_constraints=None,\n",
              "              multi_strategy=None, n_estimators=None, n_jobs=None,\n",
              "              num_parallel_tree=None, random_state=6, ...)</pre></div></div></div></div></div></div></div></div></div></div>"
            ]
          },
          "metadata": {},
          "execution_count": 12
        }
      ]
    },
    {
      "cell_type": "code",
      "source": [
        "name = 'voting_clf'\n",
        "train_predictions = voting_clf.predict(X_train)\n",
        "accuracy = accuracy_score(y_train, train_predictions)\n",
        "print(f\"Accuracy train {name}: %.4f%%\" % (accuracy * 100.0))\n",
        "\n",
        "test_predictions = voting_clf.predict(X_test)\n",
        "accuracy = accuracy_score(y_test, test_predictions)\n",
        "print(f\"Accuracy test {name}: %.4f%%\" % (accuracy * 100.0))\n",
        "ConfusionMatrixDisplay.from_predictions(y_test, test_predictions)\n",
        "plt.show()"
      ],
      "metadata": {
        "colab": {
          "base_uri": "https://localhost:8080/",
          "height": 484
        },
        "id": "d5j8WHBBApkd",
        "outputId": "3646a2c5-7c48-4915-e870-2f6c8cebef76"
      },
      "execution_count": null,
      "outputs": [
        {
          "output_type": "stream",
          "name": "stdout",
          "text": [
            "Accuracy train voting_clf: 98.4384%\n",
            "Accuracy test voting_clf: 96.5231%\n"
          ]
        },
        {
          "output_type": "display_data",
          "data": {
            "text/plain": [
              "<Figure size 640x480 with 2 Axes>"
            ],
            "image/png": "[encoded data removed]"
          },
          "metadata": {}
        }
      ]
    },
    {
      "cell_type": "markdown",
      "source": [
        "### Con ajuste de hyperparámetros"
      ],
      "metadata": {
        "id": "TEAqUZ3bRk5-"
      }
    },
    {
      "cell_type": "markdown",
      "source": [
        "Ahora si instancia el mismo modelo, pero con ajuste de hiperparámetros. Para este caso se utiliza la GPU para entrenar más rápido el modelo `XGBClassifier`"
      ],
      "metadata": {
        "id": "1FF7x5PdKbjZ"
      }
    },
    {
      "cell_type": "code",
      "source": [
        "print(\"GPU está\", \"disponible\" if tf.config.list_physical_devices('GPU') else \"no disponible\")"
      ],
      "metadata": {
        "colab": {
          "base_uri": "https://localhost:8080/"
        },
        "id": "g51rGSBXRmxV",
        "outputId": "e4129a59-a689-43ff-801e-e3d4a955f935"
      },
      "execution_count": null,
      "outputs": [
        {
          "output_type": "stream",
          "name": "stdout",
          "text": [
            "GPU está disponible\n"
          ]
        }
      ]
    },
    {
      "cell_type": "code",
      "source": [
        "rf = RandomForestClassifier(random_state=6)\n",
        "xgb_clf = XGBClassifier(device='cuda', random_state=6)"
      ],
      "metadata": {
        "id": "l_K-pXU8RwaN"
      },
      "execution_count": null,
      "outputs": []
    },
    {
      "cell_type": "code",
      "source": [
        "voting_clf = VotingClassifier(\n",
        "    estimators=[('rf', rf), ('xgb', xgb_clf)],\n",
        "    voting='soft'\n",
        ")\n",
        "\n",
        "param_grid = {\n",
        "    'rf__n_estimators': [50, 100, 200],\n",
        "    'rf__max_depth': [None, 10, 20, 30],\n",
        "    'xgb__n_estimators': [50, 100, 200],\n",
        "    'xgb__learning_rate': [0.01, 0.1, 0.2],\n",
        "    'xgb__max_depth': [3, 6, 9]\n",
        "}\n",
        "\n",
        "grid_search = GridSearchCV(estimator=voting_clf, param_grid=param_grid, cv=5, scoring='accuracy')\n",
        "\n",
        "grid_search.fit(X_train, y_train)"
      ],
      "metadata": {
        "colab": {
          "base_uri": "https://localhost:8080/",
          "height": 151
        },
        "id": "EIAZD3Q4R7Ze",
        "outputId": "7d802cef-6c12-4d1a-df04-f8a6b0be6364"
      },
      "execution_count": null,
      "outputs": [
        {
          "output_type": "execute_result",
          "data": {
            "text/plain": [
              "GridSearchCV(cv=5,\n",
              "             estimator=VotingClassifier(estimators=[('rf',\n",
              "                                                     RandomForestClassifier(random_state=6)),\n",
              "                                                    ('xgb',\n",
              "                                                     XGBClassifier(base_score=None,\n",
              "                                                                   booster=None,\n",
              "                                                                   callbacks=None,\n",
              "                                                                   colsample_bylevel=None,\n",
              "                                                                   colsample_bynode=None,\n",
              "                                                                   colsample_bytree=None,\n",
              "                                                                   device='cuda',\n",
              "                                                                   early_stopping_rounds=None,\n",
              "                                                                   enable_categorical=False,\n",
              "                                                                   eval_metric=None,\n",
              "                                                                   feature_types=None,\n",
              "                                                                   gamma=None,\n",
              "                                                                   gr...\n",
              "                                                                   min_child_weight=None,\n",
              "                                                                   missing=nan,\n",
              "                                                                   monotone_constraints=None,\n",
              "                                                                   multi_strategy=None,\n",
              "                                                                   n_estimators=None,\n",
              "                                                                   n_jobs=None,\n",
              "                                                                   num_parallel_tree=None,\n",
              "                                                                   random_state=6, ...))],\n",
              "                                        voting='soft'),\n",
              "             param_grid={'rf__max_depth': [None, 10, 20, 30],\n",
              "                         'rf__n_estimators': [50, 100, 200],\n",
              "                         'xgb__learning_rate': [0.01, 0.1, 0.2],\n",
              "                         'xgb__max_depth': [3, 6, 9],\n",
              "                         'xgb__n_estimators': [50, 100, 200]},\n",
              "             scoring='accuracy')"
            ],
            "text/html": [
              "<style>#sk-container-id-2 {color: black;background-color: white;}#sk-container-id-2 pre{padding: 0;}#sk-container-id-2 div.sk-toggleable {background-color: white;}#sk-container-id-2 label.sk-toggleable__label {cursor: pointer;display: block;width: 100%;margin-bottom: 0;padding: 0.3em;box-sizing: border-box;text-align: center;}#sk-container-id-2 label.sk-toggleable__label-arrow:before {content: \"▸\";float: left;margin-right: 0.25em;color: #696969;}#sk-container-id-2 label.sk-toggleable__label-arrow:hover:before {color: black;}#sk-container-id-2 div.sk-estimator:hover label.sk-toggleable__label-arrow:before {color: black;}#sk-container-id-2 div.sk-toggleable__content {max-height: 0;max-width: 0;overflow: hidden;text-align: left;background-color: #f0f8ff;}#sk-container-id-2 div.sk-toggleable__content pre {margin: 0.2em;color: black;border-radius: 0.25em;background-color: #f0f8ff;}#sk-container-id-2 input.sk-toggleable__control:checked~div.sk-toggleable__content {max-height: 200px;max-width: 100%;overflow: auto;}#sk-container-id-2 input.sk-toggleable__control:checked~label.sk-toggleable__label-arrow:before {content: \"▾\";}#sk-container-id-2 div.sk-estimator input.sk-toggleable__control:checked~label.sk-toggleable__label {background-color: #d4ebff;}#sk-container-id-2 div.sk-label input.sk-toggleable__control:checked~label.sk-toggleable__label {background-color: #d4ebff;}#sk-container-id-2 input.sk-hidden--visually {border: 0;clip: rect(1px 1px 1px 1px);clip: rect(1px, 1px, 1px, 1px);height: 1px;margin: -1px;overflow: hidden;padding: 0;position: absolute;width: 1px;}#sk-container-id-2 div.sk-estimator {font-family: monospace;background-color: #f0f8ff;border: 1px dotted black;border-radius: 0.25em;box-sizing: border-box;margin-bottom: 0.5em;}#sk-container-id-2 div.sk-estimator:hover {background-color: #d4ebff;}#sk-container-id-2 div.sk-parallel-item::after {content: \"\";width: 100%;border-bottom: 1px solid gray;flex-grow: 1;}#sk-container-id-2 div.sk-label:hover label.sk-toggleable__label {background-color: #d4ebff;}#sk-container-id-2 div.sk-serial::before {content: \"\";position: absolute;border-left: 1px solid gray;box-sizing: border-box;top: 0;bottom: 0;left: 50%;z-index: 0;}#sk-container-id-2 div.sk-serial {display: flex;flex-direction: column;align-items: center;background-color: white;padding-right: 0.2em;padding-left: 0.2em;position: relative;}#sk-container-id-2 div.sk-item {position: relative;z-index: 1;}#sk-container-id-2 div.sk-parallel {display: flex;align-items: stretch;justify-content: center;background-color: white;position: relative;}#sk-container-id-2 div.sk-item::before, #sk-container-id-2 div.sk-parallel-item::before {content: \"\";position: absolute;border-left: 1px solid gray;box-sizing: border-box;top: 0;bottom: 0;left: 50%;z-index: -1;}#sk-container-id-2 div.sk-parallel-item {display: flex;flex-direction: column;z-index: 1;position: relative;background-color: white;}#sk-container-id-2 div.sk-parallel-item:first-child::after {align-self: flex-end;width: 50%;}#sk-container-id-2 div.sk-parallel-item:last-child::after {align-self: flex-start;width: 50%;}#sk-container-id-2 div.sk-parallel-item:only-child::after {width: 0;}#sk-container-id-2 div.sk-dashed-wrapped {border: 1px dashed gray;margin: 0 0.4em 0.5em 0.4em;box-sizing: border-box;padding-bottom: 0.4em;background-color: white;}#sk-container-id-2 div.sk-label label {font-family: monospace;font-weight: bold;display: inline-block;line-height: 1.2em;}#sk-container-id-2 div.sk-label-container {text-align: center;}#sk-container-id-2 div.sk-container {/* jupyter's `normalize.less` sets `[hidden] { display: none; }` but bootstrap.min.css set `[hidden] { display: none !important; }` so we also need the `!important` here to be able to override the default hidden behavior on the sphinx rendered scikit-learn.org. See: https://github.com/scikit-learn/scikit-learn/issues/21755 */display: inline-block !important;position: relative;}#sk-container-id-2 div.sk-text-repr-fallback {display: none;}</style><div id=\"sk-container-id-2\" class=\"sk-top-container\"><div class=\"sk-text-repr-fallback\"><pre>GridSearchCV(cv=5,\n",
              "             estimator=VotingClassifier(estimators=[(&#x27;rf&#x27;,\n",
              "                                                     RandomForestClassifier(random_state=6)),\n",
              "                                                    (&#x27;xgb&#x27;,\n",
              "                                                     XGBClassifier(base_score=None,\n",
              "                                                                   booster=None,\n",
              "                                                                   callbacks=None,\n",
              "                                                                   colsample_bylevel=None,\n",
              "                                                                   colsample_bynode=None,\n",
              "                                                                   colsample_bytree=None,\n",
              "                                                                   device=&#x27;cuda&#x27;,\n",
              "                                                                   early_stopping_rounds=None,\n",
              "                                                                   enable_categorical=False,\n",
              "                                                                   eval_metric=None,\n",
              "                                                                   feature_types=None,\n",
              "                                                                   gamma=None,\n",
              "                                                                   gr...\n",
              "                                                                   min_child_weight=None,\n",
              "                                                                   missing=nan,\n",
              "                                                                   monotone_constraints=None,\n",
              "                                                                   multi_strategy=None,\n",
              "                                                                   n_estimators=None,\n",
              "                                                                   n_jobs=None,\n",
              "                                                                   num_parallel_tree=None,\n",
              "                                                                   random_state=6, ...))],\n",
              "                                        voting=&#x27;soft&#x27;),\n",
              "             param_grid={&#x27;rf__max_depth&#x27;: [None, 10, 20, 30],\n",
              "                         &#x27;rf__n_estimators&#x27;: [50, 100, 200],\n",
              "                         &#x27;xgb__learning_rate&#x27;: [0.01, 0.1, 0.2],\n",
              "                         &#x27;xgb__max_depth&#x27;: [3, 6, 9],\n",
              "                         &#x27;xgb__n_estimators&#x27;: [50, 100, 200]},\n",
              "             scoring=&#x27;accuracy&#x27;)</pre><b>In a Jupyter environment, please rerun this cell to show the HTML representation or trust the notebook. <br />On GitHub, the HTML representation is unable to render, please try loading this page with nbviewer.org.</b></div><div class=\"sk-container\" hidden><div class=\"sk-item sk-dashed-wrapped\"><div class=\"sk-label-container\"><div class=\"sk-label sk-toggleable\"><input class=\"sk-toggleable__control sk-hidden--visually\" id=\"sk-estimator-id-4\" type=\"checkbox\" ><label for=\"sk-estimator-id-4\" class=\"sk-toggleable__label sk-toggleable__label-arrow\">GridSearchCV</label><div class=\"sk-toggleable__content\"><pre>GridSearchCV(cv=5,\n",
              "             estimator=VotingClassifier(estimators=[(&#x27;rf&#x27;,\n",
              "                                                     RandomForestClassifier(random_state=6)),\n",
              "                                                    (&#x27;xgb&#x27;,\n",
              "                                                     XGBClassifier(base_score=None,\n",
              "                                                                   booster=None,\n",
              "                                                                   callbacks=None,\n",
              "                                                                   colsample_bylevel=None,\n",
              "                                                                   colsample_bynode=None,\n",
              "                                                                   colsample_bytree=None,\n",
              "                                                                   device=&#x27;cuda&#x27;,\n",
              "                                                                   early_stopping_rounds=None,\n",
              "                                                                   enable_categorical=False,\n",
              "                                                                   eval_metric=None,\n",
              "                                                                   feature_types=None,\n",
              "                                                                   gamma=None,\n",
              "                                                                   gr...\n",
              "                                                                   min_child_weight=None,\n",
              "                                                                   missing=nan,\n",
              "                                                                   monotone_constraints=None,\n",
              "                                                                   multi_strategy=None,\n",
              "                                                                   n_estimators=None,\n",
              "                                                                   n_jobs=None,\n",
              "                                                                   num_parallel_tree=None,\n",
              "                                                                   random_state=6, ...))],\n",
              "                                        voting=&#x27;soft&#x27;),\n",
              "             param_grid={&#x27;rf__max_depth&#x27;: [None, 10, 20, 30],\n",
              "                         &#x27;rf__n_estimators&#x27;: [50, 100, 200],\n",
              "                         &#x27;xgb__learning_rate&#x27;: [0.01, 0.1, 0.2],\n",
              "                         &#x27;xgb__max_depth&#x27;: [3, 6, 9],\n",
              "                         &#x27;xgb__n_estimators&#x27;: [50, 100, 200]},\n",
              "             scoring=&#x27;accuracy&#x27;)</pre></div></div></div><div class=\"sk-parallel\"><div class=\"sk-parallel-item\"><div class=\"sk-item\"><div class=\"sk-label-container\"><div class=\"sk-label sk-toggleable\"><input class=\"sk-toggleable__control sk-hidden--visually\" id=\"sk-estimator-id-5\" type=\"checkbox\" ><label for=\"sk-estimator-id-5\" class=\"sk-toggleable__label sk-toggleable__label-arrow\">estimator: VotingClassifier</label><div class=\"sk-toggleable__content\"><pre>VotingClassifier(estimators=[(&#x27;rf&#x27;, RandomForestClassifier(random_state=6)),\n",
              "                             (&#x27;xgb&#x27;,\n",
              "                              XGBClassifier(base_score=None, booster=None,\n",
              "                                            callbacks=None,\n",
              "                                            colsample_bylevel=None,\n",
              "                                            colsample_bynode=None,\n",
              "                                            colsample_bytree=None,\n",
              "                                            device=&#x27;cuda&#x27;,\n",
              "                                            early_stopping_rounds=None,\n",
              "                                            enable_categorical=False,\n",
              "                                            eval_metric=None,\n",
              "                                            feature_types=None, gamma=None,\n",
              "                                            grow_policy=None,\n",
              "                                            importance_type=None,\n",
              "                                            interaction_constraints=None,\n",
              "                                            learning_rate=None, max_bin=None,\n",
              "                                            max_cat_threshold=None,\n",
              "                                            max_cat_to_onehot=None,\n",
              "                                            max_delta_step=None, max_depth=None,\n",
              "                                            max_leaves=None,\n",
              "                                            min_child_weight=None, missing=nan,\n",
              "                                            monotone_constraints=None,\n",
              "                                            multi_strategy=None,\n",
              "                                            n_estimators=None, n_jobs=None,\n",
              "                                            num_parallel_tree=None,\n",
              "                                            random_state=6, ...))],\n",
              "                 voting=&#x27;soft&#x27;)</pre></div></div></div><div class=\"sk-serial\"><div class=\"sk-item sk-dashed-wrapped\"><div class=\"sk-parallel\"><div class=\"sk-parallel-item\"><div class=\"sk-item\"><div class=\"sk-label-container\"><div class=\"sk-label sk-toggleable\"><label>rf</label></div></div><div class=\"sk-serial\"><div class=\"sk-item\"><div class=\"sk-estimator sk-toggleable\"><input class=\"sk-toggleable__control sk-hidden--visually\" id=\"sk-estimator-id-6\" type=\"checkbox\" ><label for=\"sk-estimator-id-6\" class=\"sk-toggleable__label sk-toggleable__label-arrow\">RandomForestClassifier</label><div class=\"sk-toggleable__content\"><pre>RandomForestClassifier(random_state=6)</pre></div></div></div></div></div></div><div class=\"sk-parallel-item\"><div class=\"sk-item\"><div class=\"sk-label-container\"><div class=\"sk-label sk-toggleable\"><label>xgb</label></div></div><div class=\"sk-serial\"><div class=\"sk-item\"><div class=\"sk-estimator sk-toggleable\"><input class=\"sk-toggleable__control sk-hidden--visually\" id=\"sk-estimator-id-7\" type=\"checkbox\" ><label for=\"sk-estimator-id-7\" class=\"sk-toggleable__label sk-toggleable__label-arrow\">XGBClassifier</label><div class=\"sk-toggleable__content\"><pre>XGBClassifier(base_score=None, booster=None, callbacks=None,\n",
              "              colsample_bylevel=None, colsample_bynode=None,\n",
              "              colsample_bytree=None, device=&#x27;cuda&#x27;, early_stopping_rounds=None,\n",
              "              enable_categorical=False, eval_metric=None, feature_types=None,\n",
              "              gamma=None, grow_policy=None, importance_type=None,\n",
              "              interaction_constraints=None, learning_rate=None, max_bin=None,\n",
              "              max_cat_threshold=None, max_cat_to_onehot=None,\n",
              "              max_delta_step=None, max_depth=None, max_leaves=None,\n",
              "              min_child_weight=None, missing=nan, monotone_constraints=None,\n",
              "              multi_strategy=None, n_estimators=None, n_jobs=None,\n",
              "              num_parallel_tree=None, random_state=6, ...)</pre></div></div></div></div></div></div></div></div></div></div></div></div></div></div></div>"
            ]
          },
          "metadata": {},
          "execution_count": 27
        }
      ]
    },
    {
      "cell_type": "code",
      "source": [
        "print(f\"Mejores hiperparámetros: {grid_search.best_params_}\")\n",
        "print(f\"Mejor puntuación: {grid_search.best_score_}\")\n",
        "\n",
        "voting_clf = grid_search.best_estimator_"
      ],
      "metadata": {
        "colab": {
          "base_uri": "https://localhost:8080/"
        },
        "id": "qbj7BmSwSDlg",
        "outputId": "ae5b56f1-3af7-4f09-9eba-05f9f19c9f54"
      },
      "execution_count": null,
      "outputs": [
        {
          "output_type": "stream",
          "name": "stdout",
          "text": [
            "Mejores hiperparámetros: {'rf__max_depth': 10, 'rf__n_estimators': 200, 'xgb__learning_rate': 0.2, 'xgb__max_depth': 6, 'xgb__n_estimators': 50}\n",
            "Mejor puntuación: 0.9658410418931807\n"
          ]
        }
      ]
    },
    {
      "cell_type": "code",
      "source": [
        "name = 'voting_clf'\n",
        "train_predictions = voting_clf.predict(X_train)\n",
        "accuracy = accuracy_score(y_train, train_predictions)\n",
        "print(f\"Accuracy train {name}: %.4f%%\" % (accuracy * 100.0))\n",
        "\n",
        "test_predictions = voting_clf.predict(X_test)\n",
        "accuracy = accuracy_score(y_test, test_predictions)\n",
        "print(f\"Accuracy test {name}: %.4f%%\" % (accuracy * 100.0))\n",
        "ConfusionMatrixDisplay.from_predictions(y_test, test_predictions)\n",
        "plt.show()"
      ],
      "metadata": {
        "colab": {
          "base_uri": "https://localhost:8080/",
          "height": 484
        },
        "id": "Id_YQUf4SAEF",
        "outputId": "fa645e83-070b-426f-9c14-b2ace55e1f9e"
      },
      "execution_count": null,
      "outputs": [
        {
          "output_type": "stream",
          "name": "stdout",
          "text": [
            "Accuracy train voting_clf: 96.6911%\n",
            "Accuracy test voting_clf: 96.5581%\n"
          ]
        },
        {
          "output_type": "display_data",
          "data": {
            "text/plain": [
              "<Figure size 640x480 with 2 Axes>"
            ],
            "image/png": "[encoded data removed]"
          },
          "metadata": {}
        }
      ]
    },
    {
      "cell_type": "markdown",
      "source": [
        "Se decide utilizar el modelo con ajuste de hiperparámetros llamado `voting_clf`"
      ],
      "metadata": {
        "id": "nO9DdZVqK9pC"
      }
    },
    {
      "cell_type": "markdown",
      "metadata": {
        "id": "HBBLguMSvPAu"
      },
      "source": [
        "## Generar la salida para entregar"
      ]
    },
    {
      "cell_type": "markdown",
      "source": [
        "Se extrae la columna `patient` de `test_df`"
      ],
      "metadata": {
        "id": "S0tRYBVfKt_I"
      }
    },
    {
      "cell_type": "code",
      "source": [
        "PatientId_test = test_df['patient']\n",
        "test_df = test_df.drop('patient', axis=1)"
      ],
      "metadata": {
        "id": "0sYlYvvrKI1t"
      },
      "execution_count": null,
      "outputs": []
    },
    {
      "cell_type": "markdown",
      "metadata": {
        "id": "sp9qTsF3vPAu"
      },
      "source": [
        "Para poder evaluar nuestra predicción los datos de prueba deben tener exactamente el mismo tratamiento que los datos de entrenamiento"
      ]
    },
    {
      "cell_type": "code",
      "source": [
        "test_df = pd.get_dummies(test_df, columns=['gender', 'smoking_history'], dtype=float)\n",
        "scaler = StandardScaler()\n",
        "test_df[['age', 'bmi', 'HbA1c_level', 'blood_glucose_level']] = scaler.fit_transform(test_df[['age', 'bmi', 'HbA1c_level', 'blood_glucose_level']])"
      ],
      "metadata": {
        "id": "xMMGZKiLMICh"
      },
      "execution_count": null,
      "outputs": []
    },
    {
      "cell_type": "code",
      "source": [
        "X_test = test_df.drop(['diabetes', 'gender_Other', 'smoking_history_No Info'] , axis=1)"
      ],
      "metadata": {
        "id": "UIowgE2lJh6k"
      },
      "execution_count": null,
      "outputs": []
    },
    {
      "cell_type": "code",
      "source": [
        "X_test"
      ],
      "metadata": {
        "colab": {
          "base_uri": "https://localhost:8080/",
          "height": 461
        },
        "id": "qYUDrg5dJxbl",
        "outputId": "b29105b8-ce1c-4df9-ab4b-24fb1faf34b7"
      },
      "execution_count": null,
      "outputs": [
        {
          "output_type": "execute_result",
          "data": {
            "text/plain": [
              "           age  hypertension  heart_disease       bmi  HbA1c_level  \\\n",
              "0     0.534851             0              0  0.683720    -0.950085   \n",
              "1    -0.840774             0              0 -0.198857     0.997153   \n",
              "2    -0.175149             0              0 -0.743333     0.626250   \n",
              "3    -0.530149             0              0  0.540283    -0.486457   \n",
              "4    -0.485774             0              0  0.196327     0.997153   \n",
              "...        ...           ...            ...       ...          ...   \n",
              "4995 -0.796399             0              0 -0.665760     0.997153   \n",
              "4996  0.446101             0              0  0.000198    -1.413713   \n",
              "4997  1.688601             0              0 -0.515004     0.440799   \n",
              "4998 -0.752024             0              0 -0.678933     0.533525   \n",
              "4999 -0.441399             0              0 -0.531105     0.162622   \n",
              "\n",
              "      blood_glucose_level  gender_Female  gender_Male  \\\n",
              "0               -0.294803            0.0          1.0   \n",
              "1               -0.195048            1.0          0.0   \n",
              "2               -0.294803            1.0          0.0   \n",
              "3               -1.441995            1.0          0.0   \n",
              "4               -0.943216            0.0          1.0   \n",
              "...                   ...            ...          ...   \n",
              "4995             1.550679            1.0          0.0   \n",
              "4996             0.428426            1.0          0.0   \n",
              "4997            -0.294803            0.0          1.0   \n",
              "4998            -1.317300            0.0          1.0   \n",
              "4999             1.550679            1.0          0.0   \n",
              "\n",
              "      smoking_history_current  smoking_history_ever  smoking_history_former  \\\n",
              "0                         0.0                   0.0                     0.0   \n",
              "1                         0.0                   0.0                     0.0   \n",
              "2                         0.0                   0.0                     0.0   \n",
              "3                         0.0                   0.0                     0.0   \n",
              "4                         0.0                   1.0                     0.0   \n",
              "...                       ...                   ...                     ...   \n",
              "4995                      0.0                   0.0                     0.0   \n",
              "4996                      0.0                   0.0                     0.0   \n",
              "4997                      0.0                   0.0                     0.0   \n",
              "4998                      0.0                   0.0                     0.0   \n",
              "4999                      0.0                   0.0                     0.0   \n",
              "\n",
              "      smoking_history_never  smoking_history_not current  \n",
              "0                       1.0                          0.0  \n",
              "1                       1.0                          0.0  \n",
              "2                       1.0                          0.0  \n",
              "3                       0.0                          1.0  \n",
              "4                       0.0                          0.0  \n",
              "...                     ...                          ...  \n",
              "4995                    1.0                          0.0  \n",
              "4996                    0.0                          0.0  \n",
              "4997                    0.0                          0.0  \n",
              "4998                    1.0                          0.0  \n",
              "4999                    0.0                          0.0  \n",
              "\n",
              "[5000 rows x 13 columns]"
            ],
            "text/html": [
              "\n",
              "  <div id=\"df-d71261f5-b17f-427d-91a7-beed0af8aa7e\" class=\"colab-df-container\">\n",
              "    <div>\n",
              "<style scoped>\n",
              "    .dataframe tbody tr th:only-of-type {\n",
              "        vertical-align: middle;\n",
              "    }\n",
              "\n",
              "    .dataframe tbody tr th {\n",
              "        vertical-align: top;\n",
              "    }\n",
              "\n",
              "    .dataframe thead th {\n",
              "        text-align: right;\n",
              "    }\n",
              "</style>\n",
              "<table border=\"1\" class=\"dataframe\">\n",
              "  <thead>\n",
              "    <tr style=\"text-align: right;\">\n",
              "      <th></th>\n",
              "      <th>age</th>\n",
              "      <th>hypertension</th>\n",
              "      <th>heart_disease</th>\n",
              "      <th>bmi</th>\n",
              "      <th>HbA1c_level</th>\n",
              "      <th>blood_glucose_level</th>\n",
              "      <th>gender_Female</th>\n",
              "      <th>gender_Male</th>\n",
              "      <th>smoking_history_current</th>\n",
              "      <th>smoking_history_ever</th>\n",
              "      <th>smoking_history_former</th>\n",
              "      <th>smoking_history_never</th>\n",
              "      <th>smoking_history_not current</th>\n",
              "    </tr>\n",
              "  </thead>\n",
              "  <tbody>\n",
              "    <tr>\n",
              "      <th>0</th>\n",
              "      <td>0.534851</td>\n",
              "      <td>0</td>\n",
              "      <td>0</td>\n",
              "      <td>0.683720</td>\n",
              "      <td>-0.950085</td>\n",
              "      <td>-0.294803</td>\n",
              "      <td>0.0</td>\n",
              "      <td>1.0</td>\n",
              "      <td>0.0</td>\n",
              "      <td>0.0</td>\n",
              "      <td>0.0</td>\n",
              "      <td>1.0</td>\n",
              "      <td>0.0</td>\n",
              "    </tr>\n",
              "    <tr>\n",
              "      <th>1</th>\n",
              "      <td>-0.840774</td>\n",
              "      <td>0</td>\n",
              "      <td>0</td>\n",
              "      <td>-0.198857</td>\n",
              "      <td>0.997153</td>\n",
              "      <td>-0.195048</td>\n",
              "      <td>1.0</td>\n",
              "      <td>0.0</td>\n",
              "      <td>0.0</td>\n",
              "      <td>0.0</td>\n",
              "      <td>0.0</td>\n",
              "      <td>1.0</td>\n",
              "      <td>0.0</td>\n",
              "    </tr>\n",
              "    <tr>\n",
              "      <th>2</th>\n",
              "      <td>-0.175149</td>\n",
              "      <td>0</td>\n",
              "      <td>0</td>\n",
              "      <td>-0.743333</td>\n",
              "      <td>0.626250</td>\n",
              "      <td>-0.294803</td>\n",
              "      <td>1.0</td>\n",
              "      <td>0.0</td>\n",
              "      <td>0.0</td>\n",
              "      <td>0.0</td>\n",
              "      <td>0.0</td>\n",
              "      <td>1.0</td>\n",
              "      <td>0.0</td>\n",
              "    </tr>\n",
              "    <tr>\n",
              "      <th>3</th>\n",
              "      <td>-0.530149</td>\n",
              "      <td>0</td>\n",
              "      <td>0</td>\n",
              "      <td>0.540283</td>\n",
              "      <td>-0.486457</td>\n",
              "      <td>-1.441995</td>\n",
              "      <td>1.0</td>\n",
              "      <td>0.0</td>\n",
              "      <td>0.0</td>\n",
              "      <td>0.0</td>\n",
              "      <td>0.0</td>\n",
              "      <td>0.0</td>\n",
              "      <td>1.0</td>\n",
              "    </tr>\n",
              "    <tr>\n",
              "      <th>4</th>\n",
              "      <td>-0.485774</td>\n",
              "      <td>0</td>\n",
              "      <td>0</td>\n",
              "      <td>0.196327</td>\n",
              "      <td>0.997153</td>\n",
              "      <td>-0.943216</td>\n",
              "      <td>0.0</td>\n",
              "      <td>1.0</td>\n",
              "      <td>0.0</td>\n",
              "      <td>1.0</td>\n",
              "      <td>0.0</td>\n",
              "      <td>0.0</td>\n",
              "      <td>0.0</td>\n",
              "    </tr>\n",
              "    <tr>\n",
              "      <th>...</th>\n",
              "      <td>...</td>\n",
              "      <td>...</td>\n",
              "      <td>...</td>\n",
              "      <td>...</td>\n",
              "      <td>...</td>\n",
              "      <td>...</td>\n",
              "      <td>...</td>\n",
              "      <td>...</td>\n",
              "      <td>...</td>\n",
              "      <td>...</td>\n",
              "      <td>...</td>\n",
              "      <td>...</td>\n",
              "      <td>...</td>\n",
              "    </tr>\n",
              "    <tr>\n",
              "      <th>4995</th>\n",
              "      <td>-0.796399</td>\n",
              "      <td>0</td>\n",
              "      <td>0</td>\n",
              "      <td>-0.665760</td>\n",
              "      <td>0.997153</td>\n",
              "      <td>1.550679</td>\n",
              "      <td>1.0</td>\n",
              "      <td>0.0</td>\n",
              "      <td>0.0</td>\n",
              "      <td>0.0</td>\n",
              "      <td>0.0</td>\n",
              "      <td>1.0</td>\n",
              "      <td>0.0</td>\n",
              "    </tr>\n",
              "    <tr>\n",
              "      <th>4996</th>\n",
              "      <td>0.446101</td>\n",
              "      <td>0</td>\n",
              "      <td>0</td>\n",
              "      <td>0.000198</td>\n",
              "      <td>-1.413713</td>\n",
              "      <td>0.428426</td>\n",
              "      <td>1.0</td>\n",
              "      <td>0.0</td>\n",
              "      <td>0.0</td>\n",
              "      <td>0.0</td>\n",
              "      <td>0.0</td>\n",
              "      <td>0.0</td>\n",
              "      <td>0.0</td>\n",
              "    </tr>\n",
              "    <tr>\n",
              "      <th>4997</th>\n",
              "      <td>1.688601</td>\n",
              "      <td>0</td>\n",
              "      <td>0</td>\n",
              "      <td>-0.515004</td>\n",
              "      <td>0.440799</td>\n",
              "      <td>-0.294803</td>\n",
              "      <td>0.0</td>\n",
              "      <td>1.0</td>\n",
              "      <td>0.0</td>\n",
              "      <td>0.0</td>\n",
              "      <td>0.0</td>\n",
              "      <td>0.0</td>\n",
              "      <td>0.0</td>\n",
              "    </tr>\n",
              "    <tr>\n",
              "      <th>4998</th>\n",
              "      <td>-0.752024</td>\n",
              "      <td>0</td>\n",
              "      <td>0</td>\n",
              "      <td>-0.678933</td>\n",
              "      <td>0.533525</td>\n",
              "      <td>-1.317300</td>\n",
              "      <td>0.0</td>\n",
              "      <td>1.0</td>\n",
              "      <td>0.0</td>\n",
              "      <td>0.0</td>\n",
              "      <td>0.0</td>\n",
              "      <td>1.0</td>\n",
              "      <td>0.0</td>\n",
              "    </tr>\n",
              "    <tr>\n",
              "      <th>4999</th>\n",
              "      <td>-0.441399</td>\n",
              "      <td>0</td>\n",
              "      <td>0</td>\n",
              "      <td>-0.531105</td>\n",
              "      <td>0.162622</td>\n",
              "      <td>1.550679</td>\n",
              "      <td>1.0</td>\n",
              "      <td>0.0</td>\n",
              "      <td>0.0</td>\n",
              "      <td>0.0</td>\n",
              "      <td>0.0</td>\n",
              "      <td>0.0</td>\n",
              "      <td>0.0</td>\n",
              "    </tr>\n",
              "  </tbody>\n",
              "</table>\n",
              "<p>5000 rows × 13 columns</p>\n",
              "</div>\n",
              "    <div class=\"colab-df-buttons\">\n",
              "\n",
              "  <div class=\"colab-df-container\">\n",
              "    <button class=\"colab-df-convert\" onclick=\"convertToInteractive('df-d71261f5-b17f-427d-91a7-beed0af8aa7e')\"\n",
              "            title=\"Convert this dataframe to an interactive table.\"\n",
              "            style=\"display:none;\">\n",
              "\n",
              "  <svg xmlns=\"http://www.w3.org/2000/svg\" height=\"24px\" viewBox=\"0 -960 960 960\">\n",
              "    <path d=\"M120-120v-720h720v720H120Zm60-500h600v-160H180v160Zm220 220h160v-160H400v160Zm0 220h160v-160H400v160ZM180-400h160v-160H180v160Zm440 0h160v-160H620v160ZM180-180h160v-160H180v160Zm440 0h160v-160H620v160Z\"/>\n",
              "  </svg>\n",
              "    </button>\n",
              "\n",
              "  <style>\n",
              "    .colab-df-container {\n",
              "      display:flex;\n",
              "      gap: 12px;\n",
              "    }\n",
              "\n",
              "    .colab-df-convert {\n",
              "      background-color: #E8F0FE;\n",
              "      border: none;\n",
              "      border-radius: 50%;\n",
              "      cursor: pointer;\n",
              "      display: none;\n",
              "      fill: #1967D2;\n",
              "      height: 32px;\n",
              "      padding: 0 0 0 0;\n",
              "      width: 32px;\n",
              "    }\n",
              "\n",
              "    .colab-df-convert:hover {\n",
              "      background-color: #E2EBFA;\n",
              "      box-shadow: 0px 1px 2px rgba(60, 64, 67, 0.3), 0px 1px 3px 1px rgba(60, 64, 67, 0.15);\n",
              "      fill: #174EA6;\n",
              "    }\n",
              "\n",
              "    .colab-df-buttons div {\n",
              "      margin-bottom: 4px;\n",
              "    }\n",
              "\n",
              "    [theme=dark] .colab-df-convert {\n",
              "      background-color: #3B4455;\n",
              "      fill: #D2E3FC;\n",
              "    }\n",
              "\n",
              "    [theme=dark] .colab-df-convert:hover {\n",
              "      background-color: #434B5C;\n",
              "      box-shadow: 0px 1px 3px 1px rgba(0, 0, 0, 0.15);\n",
              "      filter: drop-shadow(0px 1px 2px rgba(0, 0, 0, 0.3));\n",
              "      fill: #FFFFFF;\n",
              "    }\n",
              "  </style>\n",
              "\n",
              "    <script>\n",
              "      const buttonEl =\n",
              "        document.querySelector('#df-d71261f5-b17f-427d-91a7-beed0af8aa7e button.colab-df-convert');\n",
              "      buttonEl.style.display =\n",
              "        google.colab.kernel.accessAllowed ? 'block' : 'none';\n",
              "\n",
              "      async function convertToInteractive(key) {\n",
              "        const element = document.querySelector('#df-d71261f5-b17f-427d-91a7-beed0af8aa7e');\n",
              "        const dataTable =\n",
              "          await google.colab.kernel.invokeFunction('convertToInteractive',\n",
              "                                                    [key], {});\n",
              "        if (!dataTable) return;\n",
              "\n",
              "        const docLinkHtml = 'Like what you see? Visit the ' +\n",
              "          '<a target=\"_blank\" href=https://colab.research.google.com/notebooks/data_table.ipynb>data table notebook</a>'\n",
              "          + ' to learn more about interactive tables.';\n",
              "        element.innerHTML = '';\n",
              "        dataTable['output_type'] = 'display_data';\n",
              "        await google.colab.output.renderOutput(dataTable, element);\n",
              "        const docLink = document.createElement('div');\n",
              "        docLink.innerHTML = docLinkHtml;\n",
              "        element.appendChild(docLink);\n",
              "      }\n",
              "    </script>\n",
              "  </div>\n",
              "\n",
              "\n",
              "<div id=\"df-daec0e42-cf18-4fa0-9854-a71f7bb6b7c6\">\n",
              "  <button class=\"colab-df-quickchart\" onclick=\"quickchart('df-daec0e42-cf18-4fa0-9854-a71f7bb6b7c6')\"\n",
              "            title=\"Suggest charts\"\n",
              "            style=\"display:none;\">\n",
              "\n",
              "<svg xmlns=\"http://www.w3.org/2000/svg\" height=\"24px\"viewBox=\"0 0 24 24\"\n",
              "     width=\"24px\">\n",
              "    <g>\n",
              "        <path d=\"M19 3H5c-1.1 0-2 .9-2 2v14c0 1.1.9 2 2 2h14c1.1 0 2-.9 2-2V5c0-1.1-.9-2-2-2zM9 17H7v-7h2v7zm4 0h-2V7h2v10zm4 0h-2v-4h2v4z\"/>\n",
              "    </g>\n",
              "</svg>\n",
              "  </button>\n",
              "\n",
              "<style>\n",
              "  .colab-df-quickchart {\n",
              "      --bg-color: #E8F0FE;\n",
              "      --fill-color: #1967D2;\n",
              "      --hover-bg-color: #E2EBFA;\n",
              "      --hover-fill-color: #174EA6;\n",
              "      --disabled-fill-color: #AAA;\n",
              "      --disabled-bg-color: #DDD;\n",
              "  }\n",
              "\n",
              "  [theme=dark] .colab-df-quickchart {\n",
              "      --bg-color: #3B4455;\n",
              "      --fill-color: #D2E3FC;\n",
              "      --hover-bg-color: #434B5C;\n",
              "      --hover-fill-color: #FFFFFF;\n",
              "      --disabled-bg-color: #3B4455;\n",
              "      --disabled-fill-color: #666;\n",
              "  }\n",
              "\n",
              "  .colab-df-quickchart {\n",
              "    background-color: var(--bg-color);\n",
              "    border: none;\n",
              "    border-radius: 50%;\n",
              "    cursor: pointer;\n",
              "    display: none;\n",
              "    fill: var(--fill-color);\n",
              "    height: 32px;\n",
              "    padding: 0;\n",
              "    width: 32px;\n",
              "  }\n",
              "\n",
              "  .colab-df-quickchart:hover {\n",
              "    background-color: var(--hover-bg-color);\n",
              "    box-shadow: 0 1px 2px rgba(60, 64, 67, 0.3), 0 1px 3px 1px rgba(60, 64, 67, 0.15);\n",
              "    fill: var(--button-hover-fill-color);\n",
              "  }\n",
              "\n",
              "  .colab-df-quickchart-complete:disabled,\n",
              "  .colab-df-quickchart-complete:disabled:hover {\n",
              "    background-color: var(--disabled-bg-color);\n",
              "    fill: var(--disabled-fill-color);\n",
              "    box-shadow: none;\n",
              "  }\n",
              "\n",
              "  .colab-df-spinner {\n",
              "    border: 2px solid var(--fill-color);\n",
              "    border-color: transparent;\n",
              "    border-bottom-color: var(--fill-color);\n",
              "    animation:\n",
              "      spin 1s steps(1) infinite;\n",
              "  }\n",
              "\n",
              "  @keyframes spin {\n",
              "    0% {\n",
              "      border-color: transparent;\n",
              "      border-bottom-color: var(--fill-color);\n",
              "      border-left-color: var(--fill-color);\n",
              "    }\n",
              "    20% {\n",
              "      border-color: transparent;\n",
              "      border-left-color: var(--fill-color);\n",
              "      border-top-color: var(--fill-color);\n",
              "    }\n",
              "    30% {\n",
              "      border-color: transparent;\n",
              "      border-left-color: var(--fill-color);\n",
              "      border-top-color: var(--fill-color);\n",
              "      border-right-color: var(--fill-color);\n",
              "    }\n",
              "    40% {\n",
              "      border-color: transparent;\n",
              "      border-right-color: var(--fill-color);\n",
              "      border-top-color: var(--fill-color);\n",
              "    }\n",
              "    60% {\n",
              "      border-color: transparent;\n",
              "      border-right-color: var(--fill-color);\n",
              "    }\n",
              "    80% {\n",
              "      border-color: transparent;\n",
              "      border-right-color: var(--fill-color);\n",
              "      border-bottom-color: var(--fill-color);\n",
              "    }\n",
              "    90% {\n",
              "      border-color: transparent;\n",
              "      border-bottom-color: var(--fill-color);\n",
              "    }\n",
              "  }\n",
              "</style>\n",
              "\n",
              "  <script>\n",
              "    async function quickchart(key) {\n",
              "      const quickchartButtonEl =\n",
              "        document.querySelector('#' + key + ' button');\n",
              "      quickchartButtonEl.disabled = true;  // To prevent multiple clicks.\n",
              "      quickchartButtonEl.classList.add('colab-df-spinner');\n",
              "      try {\n",
              "        const charts = await google.colab.kernel.invokeFunction(\n",
              "            'suggestCharts', [key], {});\n",
              "      } catch (error) {\n",
              "        console.error('Error during call to suggestCharts:', error);\n",
              "      }\n",
              "      quickchartButtonEl.classList.remove('colab-df-spinner');\n",
              "      quickchartButtonEl.classList.add('colab-df-quickchart-complete');\n",
              "    }\n",
              "    (() => {\n",
              "      let quickchartButtonEl =\n",
              "        document.querySelector('#df-daec0e42-cf18-4fa0-9854-a71f7bb6b7c6 button');\n",
              "      quickchartButtonEl.style.display =\n",
              "        google.colab.kernel.accessAllowed ? 'block' : 'none';\n",
              "    })();\n",
              "  </script>\n",
              "</div>\n",
              "\n",
              "  <div id=\"id_81e405cf-ebc6-4c19-9d3e-c9fea182f0bd\">\n",
              "    <style>\n",
              "      .colab-df-generate {\n",
              "        background-color: #E8F0FE;\n",
              "        border: none;\n",
              "        border-radius: 50%;\n",
              "        cursor: pointer;\n",
              "        display: none;\n",
              "        fill: #1967D2;\n",
              "        height: 32px;\n",
              "        padding: 0 0 0 0;\n",
              "        width: 32px;\n",
              "      }\n",
              "\n",
              "      .colab-df-generate:hover {\n",
              "        background-color: #E2EBFA;\n",
              "        box-shadow: 0px 1px 2px rgba(60, 64, 67, 0.3), 0px 1px 3px 1px rgba(60, 64, 67, 0.15);\n",
              "        fill: #174EA6;\n",
              "      }\n",
              "\n",
              "      [theme=dark] .colab-df-generate {\n",
              "        background-color: #3B4455;\n",
              "        fill: #D2E3FC;\n",
              "      }\n",
              "\n",
              "      [theme=dark] .colab-df-generate:hover {\n",
              "        background-color: #434B5C;\n",
              "        box-shadow: 0px 1px 3px 1px rgba(0, 0, 0, 0.15);\n",
              "        filter: drop-shadow(0px 1px 2px rgba(0, 0, 0, 0.3));\n",
              "        fill: #FFFFFF;\n",
              "      }\n",
              "    </style>\n",
              "    <button class=\"colab-df-generate\" onclick=\"generateWithVariable('X_test')\"\n",
              "            title=\"Generate code using this dataframe.\"\n",
              "            style=\"display:none;\">\n",
              "\n",
              "  <svg xmlns=\"http://www.w3.org/2000/svg\" height=\"24px\"viewBox=\"0 0 24 24\"\n",
              "       width=\"24px\">\n",
              "    <path d=\"M7,19H8.4L18.45,9,17,7.55,7,17.6ZM5,21V16.75L18.45,3.32a2,2,0,0,1,2.83,0l1.4,1.43a1.91,1.91,0,0,1,.58,1.4,1.91,1.91,0,0,1-.58,1.4L9.25,21ZM18.45,9,17,7.55Zm-12,3A5.31,5.31,0,0,0,4.9,8.1,5.31,5.31,0,0,0,1,6.5,5.31,5.31,0,0,0,4.9,4.9,5.31,5.31,0,0,0,6.5,1,5.31,5.31,0,0,0,8.1,4.9,5.31,5.31,0,0,0,12,6.5,5.46,5.46,0,0,0,6.5,12Z\"/>\n",
              "  </svg>\n",
              "    </button>\n",
              "    <script>\n",
              "      (() => {\n",
              "      const buttonEl =\n",
              "        document.querySelector('#id_81e405cf-ebc6-4c19-9d3e-c9fea182f0bd button.colab-df-generate');\n",
              "      buttonEl.style.display =\n",
              "        google.colab.kernel.accessAllowed ? 'block' : 'none';\n",
              "\n",
              "      buttonEl.onclick = () => {\n",
              "        google.colab.notebook.generateWithVariable('X_test');\n",
              "      }\n",
              "      })();\n",
              "    </script>\n",
              "  </div>\n",
              "\n",
              "    </div>\n",
              "  </div>\n"
            ],
            "application/vnd.google.colaboratory.intrinsic+json": {
              "type": "dataframe",
              "variable_name": "X_test",
              "summary": "{\n  \"name\": \"X_test\",\n  \"rows\": 5000,\n  \"fields\": [\n    {\n      \"column\": \"age\",\n      \"properties\": {\n        \"dtype\": \"number\",\n        \"std\": 1.0001000150025003,\n        \"min\": -1.8099237430843664,\n        \"max\": 1.7329760769920965,\n        \"num_unique_values\": 101,\n        \"samples\": [\n          -1.785073744346355,\n          -0.3526488170909915,\n          1.244851101781161\n        ],\n        \"semantic_type\": \"\",\n        \"description\": \"\"\n      }\n    },\n    {\n      \"column\": \"hypertension\",\n      \"properties\": {\n        \"dtype\": \"number\",\n        \"std\": 0,\n        \"min\": 0,\n        \"max\": 1,\n        \"num_unique_values\": 2,\n        \"samples\": [\n          1,\n          0\n        ],\n        \"semantic_type\": \"\",\n        \"description\": \"\"\n      }\n    },\n    {\n      \"column\": \"heart_disease\",\n      \"properties\": {\n        \"dtype\": \"number\",\n        \"std\": 0,\n        \"min\": 0,\n        \"max\": 1,\n        \"num_unique_values\": 2,\n        \"samples\": [\n          1,\n          0\n        ],\n        \"semantic_type\": \"\",\n        \"description\": \"\"\n      }\n    },\n    {\n      \"column\": \"bmi\",\n      \"properties\": {\n        \"dtype\": \"number\",\n        \"std\": 1.0001000150025003,\n        \"min\": -2.444088009184287,\n        \"max\": 8.992830883012005,\n        \"num_unique_values\": 1939,\n        \"samples\": [\n          -1.1590080517555255,\n          0.1743721774216979\n        ],\n        \"semantic_type\": \"\",\n        \"description\": \"\"\n      }\n    },\n    {\n      \"column\": \"HbA1c_level\",\n      \"properties\": {\n        \"dtype\": \"number\",\n        \"std\": 1.0001000150025003,\n        \"min\": -1.8773413095077445,\n        \"max\": 3.2225674152369463,\n        \"num_unique_values\": 18,\n        \"samples\": [\n          -0.9500851777359824,\n          0.9971526989847174\n        ],\n        \"semantic_type\": \"\",\n        \"description\": \"\"\n      }\n    },\n    {\n      \"column\": \"blood_glucose_level\",\n      \"properties\": {\n        \"dtype\": \"number\",\n        \"std\": 1.0001000150025003,\n        \"min\": -1.4419949197148347,\n        \"max\": 4.044573668467031,\n        \"num_unique_values\": 18,\n        \"samples\": [\n          -0.29480330582226283,\n          -0.19504751330986528\n        ],\n        \"semantic_type\": \"\",\n        \"description\": \"\"\n      }\n    },\n    {\n      \"column\": \"gender_Female\",\n      \"properties\": {\n        \"dtype\": \"number\",\n        \"std\": 0.4903909222766366,\n        \"min\": 0.0,\n        \"max\": 1.0,\n        \"num_unique_values\": 2,\n        \"samples\": [\n          1.0,\n          0.0\n        ],\n        \"semantic_type\": \"\",\n        \"description\": \"\"\n      }\n    },\n    {\n      \"column\": \"gender_Male\",\n      \"properties\": {\n        \"dtype\": \"number\",\n        \"std\": 0.4903109635406837,\n        \"min\": 0.0,\n        \"max\": 1.0,\n        \"num_unique_values\": 2,\n        \"samples\": [\n          0.0,\n          1.0\n        ],\n        \"semantic_type\": \"\",\n        \"description\": \"\"\n      }\n    },\n    {\n      \"column\": \"smoking_history_current\",\n      \"properties\": {\n        \"dtype\": \"number\",\n        \"std\": 0.2904614838058825,\n        \"min\": 0.0,\n        \"max\": 1.0,\n        \"num_unique_values\": 2,\n        \"samples\": [\n          1.0,\n          0.0\n        ],\n        \"semantic_type\": \"\",\n        \"description\": \"\"\n      }\n    },\n    {\n      \"column\": \"smoking_history_ever\",\n      \"properties\": {\n        \"dtype\": \"number\",\n        \"std\": 0.20152012820662474,\n        \"min\": 0.0,\n        \"max\": 1.0,\n        \"num_unique_values\": 2,\n        \"samples\": [\n          1.0,\n          0.0\n        ],\n        \"semantic_type\": \"\",\n        \"description\": \"\"\n      }\n    },\n    {\n      \"column\": \"smoking_history_former\",\n      \"properties\": {\n        \"dtype\": \"number\",\n        \"std\": 0.2836139054585897,\n        \"min\": 0.0,\n        \"max\": 1.0,\n        \"num_unique_values\": 2,\n        \"samples\": [\n          1.0,\n          0.0\n        ],\n        \"semantic_type\": \"\",\n        \"description\": \"\"\n      }\n    },\n    {\n      \"column\": \"smoking_history_never\",\n      \"properties\": {\n        \"dtype\": \"number\",\n        \"std\": 0.4741598100905443,\n        \"min\": 0.0,\n        \"max\": 1.0,\n        \"num_unique_values\": 2,\n        \"samples\": [\n          0.0,\n          1.0\n        ],\n        \"semantic_type\": \"\",\n        \"description\": \"\"\n      }\n    },\n    {\n      \"column\": \"smoking_history_not current\",\n      \"properties\": {\n        \"dtype\": \"number\",\n        \"std\": 0.24406342083704008,\n        \"min\": 0.0,\n        \"max\": 1.0,\n        \"num_unique_values\": 2,\n        \"samples\": [\n          1.0,\n          0.0\n        ],\n        \"semantic_type\": \"\",\n        \"description\": \"\"\n      }\n    }\n  ]\n}"
            }
          },
          "metadata": {},
          "execution_count": 38
        }
      ]
    },
    {
      "cell_type": "markdown",
      "metadata": {
        "id": "vRye5krjvPAy"
      },
      "source": [
        "Generamos la salida"
      ]
    },
    {
      "cell_type": "code",
      "execution_count": null,
      "metadata": {
        "id": "qWMjgtEJvPAy"
      },
      "outputs": [],
      "source": [
        "test_id = PatientId_test\n",
        "test_pred = np.int64(voting_clf.predict(X_test))"
      ]
    },
    {
      "cell_type": "markdown",
      "metadata": {
        "id": "-MWEyHScvPAy"
      },
      "source": [
        "Con el resultado predicho tenemos que generar el archivo `.csv` para subir a la competencia de Kaggle:"
      ]
    },
    {
      "cell_type": "code",
      "execution_count": null,
      "metadata": {
        "id": "3Bj3WoslvPAy"
      },
      "outputs": [],
      "source": [
        "submission = pd.DataFrame(list(zip(test_id, test_pred)), columns=[\"patient\", \"diabetes\"])\n",
        "submission.to_csv(\"sample_submission_vc_ht.csv\", header=True, index=False)"
      ]
    },
    {
      "cell_type": "markdown",
      "source": [
        "Se obtuvo los siguientes resultados en Kaggle:\n",
        "- Public Score:    **0.97333**\n",
        "- Private Score: **0.97314**"
      ],
      "metadata": {
        "id": "o5NYgBSHK7qU"
      }
    }
  ],
  "metadata": {
    "colab": {
      "provenance": [],
      "gpuType": "T4"
    },
    "kernelspec": {
      "display_name": "Python 3",
      "name": "python3"
    },
    "language_info": {
      "codemirror_mode": {
        "name": "ipython",
        "version": 3
      },
      "file_extension": ".py",
      "mimetype": "text/x-python",
      "name": "python",
      "nbconvert_exporter": "python",
      "pygments_lexer": "ipython3",
      "version": "3.12.4"
    },
    "vscode": {
      "interpreter": {
        "hash": "e6b65fc4380ac725e50a330b268a227bbdbe91bddfffbf68e5f7ce9848a2b8d5"
      }
    },
    "accelerator": "GPU"
  },
  "nbformat": 4,
  "nbformat_minor": 0
}