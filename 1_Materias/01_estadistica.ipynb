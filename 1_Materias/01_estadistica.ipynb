{
  "cells": [
    {
      "cell_type": "markdown",
      "metadata": {
        "id": "LYvAOR2VzHmW"
      },
      "source": [
        "**Diplomatura en Ciencia de Datos, Aprendizaje Automático y sus Aplicaciones**\n",
        "\n",
        "**Edición 2024**\n",
        "\n",
        "---\n",
        "\n",
        "### **Análisis y Visualización de Datos**\n",
        "### Estadística\n",
        "\n",
        "---"
      ]
    },
    {
      "cell_type": "markdown",
      "metadata": {},
      "source": [
        "El objetivo de este laboratorio es analizar la base de datos desde múltiples perspectivas, utilizando variables para realizar un análisis visual y aplicar medidas descriptivas que revelen relaciones significativas. Se busca formular preguntas, hipótesis y diseñar un enfoque adecuado para abordar el problema. Además, es esencial distinguir entre datos y modelos analíticos, comprendiendo cómo se generan predicciones. Posteriormente, se realizarán inferencias estadísticas para validar o refutar las hipótesis. Finalmente, se comunicarán los resultados de manera clara y efectiva."
      ]
    },
    {
      "cell_type": "markdown",
      "metadata": {},
      "source": [
        "## Paquetes de Python y Setup"
      ]
    },
    {
      "cell_type": "code",
      "execution_count": 1,
      "metadata": {
        "id": "Xwdfo7z20TUK"
      },
      "outputs": [],
      "source": [
        "import io\n",
        "import matplotlib\n",
        "import matplotlib.pyplot as plt\n",
        "import numpy\n",
        "import pandas as pd\n",
        "import seaborn\n",
        "import scipy.stats"
      ]
    },
    {
      "cell_type": "code",
      "execution_count": null,
      "metadata": {},
      "outputs": [],
      "source": [
        "seaborn.set_context(\"talk\", font_scale=1)\n",
        "pd.options.display.max_columns=None"
      ]
    },
    {
      "cell_type": "markdown",
      "metadata": {
        "id": "XY2Hl-Ma07Nn"
      },
      "source": [
        "## Lectura del dataset\n",
        "\n",
        "En la notebook 00 se explican los detalles de la siguiente sección."
      ]
    },
    {
      "cell_type": "code",
      "execution_count": 18,
      "metadata": {
        "id": "Vviv_sqXdR5W"
      },
      "outputs": [],
      "source": [
        "df = pd.read_csv('../Data/sysarmy_survey_2023_processed.csv')"
      ]
    },
    {
      "cell_type": "code",
      "execution_count": 19,
      "metadata": {
        "colab": {
          "base_uri": "https://localhost:8080/",
          "height": 643
        },
        "id": "gckNHXXLktJ4",
        "outputId": "0cdb57e6-a16a-4542-b728-13856a2b6e5b"
      },
      "outputs": [
        {
          "data": {
            "text/html": [
              "<div>\n",
              "<style scoped>\n",
              "    .dataframe tbody tr th:only-of-type {\n",
              "        vertical-align: middle;\n",
              "    }\n",
              "\n",
              "    .dataframe tbody tr th {\n",
              "        vertical-align: top;\n",
              "    }\n",
              "\n",
              "    .dataframe thead th {\n",
              "        text-align: right;\n",
              "    }\n",
              "</style>\n",
              "<table border=\"1\" class=\"dataframe\">\n",
              "  <thead>\n",
              "    <tr style=\"text-align: right;\">\n",
              "      <th></th>\n",
              "      <th>work_country</th>\n",
              "      <th>work_province</th>\n",
              "      <th>work_dedication</th>\n",
              "      <th>work_contract_type</th>\n",
              "      <th>salary_monthly_BRUTO</th>\n",
              "      <th>salary_monthly_NETO</th>\n",
              "      <th>salary_in_usd</th>\n",
              "      <th>salary_last_dollar_value</th>\n",
              "      <th>salary_has_bonus</th>\n",
              "      <th>salary_bonus_tied_to</th>\n",
              "      <th>salary_inflation_adjustment</th>\n",
              "      <th>salary_percentage_inflation_adjustment</th>\n",
              "      <th>¿En qué mes fue el último ajuste?</th>\n",
              "      <th>salary_comparison_last_semester</th>\n",
              "      <th>¿Contás con beneficios adicionales?</th>\n",
              "      <th>salary_satisfaction</th>\n",
              "      <th>Trabajo de</th>\n",
              "      <th>profile_years_experience</th>\n",
              "      <th>work_years_in_company</th>\n",
              "      <th>work_years_in_current_position</th>\n",
              "      <th>work_people_in_charge_of</th>\n",
              "      <th>tools_platform</th>\n",
              "      <th>tools_programming_languages</th>\n",
              "      <th>tools_frameworks</th>\n",
              "      <th>tools_data_bases</th>\n",
              "      <th>tools_qa_testing</th>\n",
              "      <th>company_employee_number</th>\n",
              "      <th>work_work_modality</th>\n",
              "      <th>Si trabajás bajo un esquema híbrido ¿Cuántos días a la semana vas a la oficina?</th>\n",
              "      <th>company_recommended</th>\n",
              "      <th>¿Qué tanto estás usando Copilot, ChatGPT u otras herramientas de IA para tu trabajo?</th>\n",
              "      <th>¿Salir o seguir contestando?</th>\n",
              "      <th>profile_studies_level</th>\n",
              "      <th>profile_studies_level_state</th>\n",
              "      <th>profile_career</th>\n",
              "      <th>Institución educativa</th>\n",
              "      <th>¿Salir o seguir contestando sobre las guardias?</th>\n",
              "      <th>work_on_call_duty</th>\n",
              "      <th>salary_on_call_duty_charge</th>\n",
              "      <th>Aclará el número que ingresaste en el campo anterior</th>\n",
              "      <th>¿Salir o seguir contestando sobre estudios?</th>\n",
              "      <th>profile_age</th>\n",
              "      <th>profile_gender</th>\n",
              "    </tr>\n",
              "  </thead>\n",
              "  <tbody>\n",
              "    <tr>\n",
              "      <th>0</th>\n",
              "      <td>Argentina</td>\n",
              "      <td>Catamarca</td>\n",
              "      <td>Full-Time</td>\n",
              "      <td>Staff (planta permanente)</td>\n",
              "      <td>680000.0</td>\n",
              "      <td>520000.0</td>\n",
              "      <td>NaN</td>\n",
              "      <td>NaN</td>\n",
              "      <td>No</td>\n",
              "      <td>No recibo bono</td>\n",
              "      <td>Uno</td>\n",
              "      <td>26.0</td>\n",
              "      <td>Abril</td>\n",
              "      <td>2</td>\n",
              "      <td>Abono de Internet, Clases de idiomas, Crédito ...</td>\n",
              "      <td>2</td>\n",
              "      <td>Infosec</td>\n",
              "      <td>10.0</td>\n",
              "      <td>1.0</td>\n",
              "      <td>1.0</td>\n",
              "      <td>0</td>\n",
              "      <td>Amazon Web Services, Linux</td>\n",
              "      <td>Bash/Shell, Python</td>\n",
              "      <td>Angular</td>\n",
              "      <td>Ninguna de las anteriores</td>\n",
              "      <td>Ninguna de las anteriores</td>\n",
              "      <td>De 201 a 500 personas</td>\n",
              "      <td>100% remoto</td>\n",
              "      <td>0</td>\n",
              "      <td>5</td>\n",
              "      <td>0</td>\n",
              "      <td>Terminar encuesta</td>\n",
              "      <td>NaN</td>\n",
              "      <td>NaN</td>\n",
              "      <td>NaN</td>\n",
              "      <td>NaN</td>\n",
              "      <td>NaN</td>\n",
              "      <td>NaN</td>\n",
              "      <td>NaN</td>\n",
              "      <td>NaN</td>\n",
              "      <td>NaN</td>\n",
              "      <td>36</td>\n",
              "      <td>Varón Cis</td>\n",
              "    </tr>\n",
              "    <tr>\n",
              "      <th>1</th>\n",
              "      <td>Argentina</td>\n",
              "      <td>Catamarca</td>\n",
              "      <td>Full-Time</td>\n",
              "      <td>Staff (planta permanente)</td>\n",
              "      <td>650000.0</td>\n",
              "      <td>520000.0</td>\n",
              "      <td>NaN</td>\n",
              "      <td>NaN</td>\n",
              "      <td>No</td>\n",
              "      <td>No recibo bono</td>\n",
              "      <td>Dos</td>\n",
              "      <td>24.0</td>\n",
              "      <td>Mayo</td>\n",
              "      <td>2</td>\n",
              "      <td>Ninguna de las anteriores</td>\n",
              "      <td>3</td>\n",
              "      <td>DevOps Engineer</td>\n",
              "      <td>23.0</td>\n",
              "      <td>2.0</td>\n",
              "      <td>2.0</td>\n",
              "      <td>4</td>\n",
              "      <td>Docker, Kubernetes, Linux, VMWare, Windows Server</td>\n",
              "      <td>Bash/Shell, CSS, HTML, Javascript, PHP, SQL, T...</td>\n",
              "      <td>Angular, Bootstrap, jQuery, Laravel, Node.js</td>\n",
              "      <td>MariaDB, Microsoft SQL Server, MongoDB, MySQL,...</td>\n",
              "      <td>PHPUnit, Postman</td>\n",
              "      <td>De 201 a 500 personas</td>\n",
              "      <td>100% presencial</td>\n",
              "      <td>0</td>\n",
              "      <td>4</td>\n",
              "      <td>1</td>\n",
              "      <td>Responder sobre mis estudios</td>\n",
              "      <td>Maestría</td>\n",
              "      <td>Completo</td>\n",
              "      <td>Licenciatura en Sistemas de Información</td>\n",
              "      <td>Universidad Siglo 21</td>\n",
              "      <td>Terminar encuesta</td>\n",
              "      <td>NaN</td>\n",
              "      <td>NaN</td>\n",
              "      <td>NaN</td>\n",
              "      <td>NaN</td>\n",
              "      <td>45</td>\n",
              "      <td>Varón Cis</td>\n",
              "    </tr>\n",
              "    <tr>\n",
              "      <th>2</th>\n",
              "      <td>Argentina</td>\n",
              "      <td>Catamarca</td>\n",
              "      <td>Full-Time</td>\n",
              "      <td>Staff (planta permanente)</td>\n",
              "      <td>125000.0</td>\n",
              "      <td>104000.0</td>\n",
              "      <td>NaN</td>\n",
              "      <td>NaN</td>\n",
              "      <td>No</td>\n",
              "      <td>No recibo bono</td>\n",
              "      <td>No</td>\n",
              "      <td>0.0</td>\n",
              "      <td>No tuve</td>\n",
              "      <td>3</td>\n",
              "      <td>Abono de Internet, Capacitaciones y/o cursos,</td>\n",
              "      <td>3</td>\n",
              "      <td>Developer</td>\n",
              "      <td>0.0</td>\n",
              "      <td>0.0</td>\n",
              "      <td>0.0</td>\n",
              "      <td>0</td>\n",
              "      <td>Ninguna de las anteriores</td>\n",
              "      <td>SQL, Oracle APEX, PL-SQL, SQL Developer</td>\n",
              "      <td>Ninguno de los anteriores</td>\n",
              "      <td>Oracle</td>\n",
              "      <td>Ninguna de las anteriores</td>\n",
              "      <td>De 11  a 50  personas</td>\n",
              "      <td>100% remoto</td>\n",
              "      <td>0</td>\n",
              "      <td>10</td>\n",
              "      <td>3</td>\n",
              "      <td>Terminar encuesta</td>\n",
              "      <td>NaN</td>\n",
              "      <td>NaN</td>\n",
              "      <td>NaN</td>\n",
              "      <td>NaN</td>\n",
              "      <td>NaN</td>\n",
              "      <td>NaN</td>\n",
              "      <td>NaN</td>\n",
              "      <td>NaN</td>\n",
              "      <td>NaN</td>\n",
              "      <td>29</td>\n",
              "      <td>Mujer Cis</td>\n",
              "    </tr>\n",
              "    <tr>\n",
              "      <th>3</th>\n",
              "      <td>Argentina</td>\n",
              "      <td>Chaco</td>\n",
              "      <td>Part-Time</td>\n",
              "      <td>Staff (planta permanente)</td>\n",
              "      <td>190000.0</td>\n",
              "      <td>240000.0</td>\n",
              "      <td>NaN</td>\n",
              "      <td>NaN</td>\n",
              "      <td>No</td>\n",
              "      <td>No recibo bono</td>\n",
              "      <td>Dos</td>\n",
              "      <td>11.0</td>\n",
              "      <td>Mayo</td>\n",
              "      <td>1</td>\n",
              "      <td>Capacitaciones y/o cursos, Descuento en gimnas...</td>\n",
              "      <td>2</td>\n",
              "      <td>Business Analyst</td>\n",
              "      <td>2.0</td>\n",
              "      <td>2.0</td>\n",
              "      <td>0.0</td>\n",
              "      <td>0</td>\n",
              "      <td>Azure, SAP, CRM</td>\n",
              "      <td>ABAP</td>\n",
              "      <td>Ninguno de los anteriores</td>\n",
              "      <td>Microsoft Azure (Tables, CosmosDB, SQL, etc)</td>\n",
              "      <td>Ninguna de las anteriores</td>\n",
              "      <td>De 501 a 1000 personas</td>\n",
              "      <td>Híbrido (presencial y remoto)</td>\n",
              "      <td>1</td>\n",
              "      <td>7</td>\n",
              "      <td>3</td>\n",
              "      <td>Terminar encuesta</td>\n",
              "      <td>NaN</td>\n",
              "      <td>NaN</td>\n",
              "      <td>NaN</td>\n",
              "      <td>NaN</td>\n",
              "      <td>NaN</td>\n",
              "      <td>NaN</td>\n",
              "      <td>NaN</td>\n",
              "      <td>NaN</td>\n",
              "      <td>NaN</td>\n",
              "      <td>23</td>\n",
              "      <td>Mujer Cis</td>\n",
              "    </tr>\n",
              "    <tr>\n",
              "      <th>4</th>\n",
              "      <td>Argentina</td>\n",
              "      <td>Chaco</td>\n",
              "      <td>Full-Time</td>\n",
              "      <td>Tercerizado (trabajo a través de consultora o ...</td>\n",
              "      <td>250000.0</td>\n",
              "      <td>207000.0</td>\n",
              "      <td>NaN</td>\n",
              "      <td>NaN</td>\n",
              "      <td>No</td>\n",
              "      <td>No recibo bono</td>\n",
              "      <td>Dos</td>\n",
              "      <td>60.0</td>\n",
              "      <td>Mayo</td>\n",
              "      <td>1</td>\n",
              "      <td>Ninguna de las anteriores</td>\n",
              "      <td>1</td>\n",
              "      <td>QA / Tester</td>\n",
              "      <td>3.0</td>\n",
              "      <td>0.0</td>\n",
              "      <td>0.0</td>\n",
              "      <td>1</td>\n",
              "      <td>Docker, Linux</td>\n",
              "      <td>Java</td>\n",
              "      <td>Lippia</td>\n",
              "      <td>Ninguna de las anteriores</td>\n",
              "      <td>Appium, Cucumber, Lippia, Selenium</td>\n",
              "      <td>De 51 a 100 personas</td>\n",
              "      <td>100% remoto</td>\n",
              "      <td>0</td>\n",
              "      <td>7</td>\n",
              "      <td>2</td>\n",
              "      <td>Terminar encuesta</td>\n",
              "      <td>NaN</td>\n",
              "      <td>NaN</td>\n",
              "      <td>NaN</td>\n",
              "      <td>NaN</td>\n",
              "      <td>NaN</td>\n",
              "      <td>NaN</td>\n",
              "      <td>NaN</td>\n",
              "      <td>NaN</td>\n",
              "      <td>NaN</td>\n",
              "      <td>32</td>\n",
              "      <td>Varón Cis</td>\n",
              "    </tr>\n",
              "  </tbody>\n",
              "</table>\n",
              "</div>"
            ],
            "text/plain": [
              "  work_country work_province work_dedication  \\\n",
              "0    Argentina     Catamarca       Full-Time   \n",
              "1    Argentina     Catamarca       Full-Time   \n",
              "2    Argentina     Catamarca       Full-Time   \n",
              "3    Argentina         Chaco       Part-Time   \n",
              "4    Argentina         Chaco       Full-Time   \n",
              "\n",
              "                                  work_contract_type  salary_monthly_BRUTO  \\\n",
              "0                          Staff (planta permanente)              680000.0   \n",
              "1                          Staff (planta permanente)              650000.0   \n",
              "2                          Staff (planta permanente)              125000.0   \n",
              "3                          Staff (planta permanente)              190000.0   \n",
              "4  Tercerizado (trabajo a través de consultora o ...              250000.0   \n",
              "\n",
              "   salary_monthly_NETO salary_in_usd salary_last_dollar_value  \\\n",
              "0             520000.0           NaN                      NaN   \n",
              "1             520000.0           NaN                      NaN   \n",
              "2             104000.0           NaN                      NaN   \n",
              "3             240000.0           NaN                      NaN   \n",
              "4             207000.0           NaN                      NaN   \n",
              "\n",
              "  salary_has_bonus salary_bonus_tied_to salary_inflation_adjustment  \\\n",
              "0               No       No recibo bono                         Uno   \n",
              "1               No       No recibo bono                         Dos   \n",
              "2               No       No recibo bono                          No   \n",
              "3               No       No recibo bono                         Dos   \n",
              "4               No       No recibo bono                         Dos   \n",
              "\n",
              "   salary_percentage_inflation_adjustment ¿En qué mes fue el último ajuste?  \\\n",
              "0                                    26.0                             Abril   \n",
              "1                                    24.0                              Mayo   \n",
              "2                                     0.0                           No tuve   \n",
              "3                                    11.0                              Mayo   \n",
              "4                                    60.0                              Mayo   \n",
              "\n",
              "   salary_comparison_last_semester  \\\n",
              "0                                2   \n",
              "1                                2   \n",
              "2                                3   \n",
              "3                                1   \n",
              "4                                1   \n",
              "\n",
              "                 ¿Contás con beneficios adicionales?  salary_satisfaction  \\\n",
              "0  Abono de Internet, Clases de idiomas, Crédito ...                    2   \n",
              "1                          Ninguna de las anteriores                    3   \n",
              "2     Abono de Internet, Capacitaciones y/o cursos,                     3   \n",
              "3  Capacitaciones y/o cursos, Descuento en gimnas...                    2   \n",
              "4                          Ninguna de las anteriores                    1   \n",
              "\n",
              "         Trabajo de  profile_years_experience  work_years_in_company  \\\n",
              "0           Infosec                      10.0                    1.0   \n",
              "1   DevOps Engineer                      23.0                    2.0   \n",
              "2         Developer                       0.0                    0.0   \n",
              "3  Business Analyst                       2.0                    2.0   \n",
              "4       QA / Tester                       3.0                    0.0   \n",
              "\n",
              "   work_years_in_current_position  work_people_in_charge_of  \\\n",
              "0                             1.0                         0   \n",
              "1                             2.0                         4   \n",
              "2                             0.0                         0   \n",
              "3                             0.0                         0   \n",
              "4                             0.0                         1   \n",
              "\n",
              "                                      tools_platform  \\\n",
              "0                         Amazon Web Services, Linux   \n",
              "1  Docker, Kubernetes, Linux, VMWare, Windows Server   \n",
              "2                          Ninguna de las anteriores   \n",
              "3                                    Azure, SAP, CRM   \n",
              "4                                      Docker, Linux   \n",
              "\n",
              "                         tools_programming_languages  \\\n",
              "0                                 Bash/Shell, Python   \n",
              "1  Bash/Shell, CSS, HTML, Javascript, PHP, SQL, T...   \n",
              "2            SQL, Oracle APEX, PL-SQL, SQL Developer   \n",
              "3                                               ABAP   \n",
              "4                                               Java   \n",
              "\n",
              "                               tools_frameworks  \\\n",
              "0                                       Angular   \n",
              "1  Angular, Bootstrap, jQuery, Laravel, Node.js   \n",
              "2                     Ninguno de los anteriores   \n",
              "3                     Ninguno de los anteriores   \n",
              "4                                        Lippia   \n",
              "\n",
              "                                    tools_data_bases  \\\n",
              "0                          Ninguna de las anteriores   \n",
              "1  MariaDB, Microsoft SQL Server, MongoDB, MySQL,...   \n",
              "2                                             Oracle   \n",
              "3       Microsoft Azure (Tables, CosmosDB, SQL, etc)   \n",
              "4                          Ninguna de las anteriores   \n",
              "\n",
              "                     tools_qa_testing company_employee_number  \\\n",
              "0           Ninguna de las anteriores   De 201 a 500 personas   \n",
              "1                    PHPUnit, Postman   De 201 a 500 personas   \n",
              "2           Ninguna de las anteriores   De 11  a 50  personas   \n",
              "3           Ninguna de las anteriores  De 501 a 1000 personas   \n",
              "4  Appium, Cucumber, Lippia, Selenium    De 51 a 100 personas   \n",
              "\n",
              "              work_work_modality  \\\n",
              "0                    100% remoto   \n",
              "1                100% presencial   \n",
              "2                    100% remoto   \n",
              "3  Híbrido (presencial y remoto)   \n",
              "4                    100% remoto   \n",
              "\n",
              "   Si trabajás bajo un esquema híbrido ¿Cuántos días a la semana vas a la oficina?  \\\n",
              "0                                                  0                                 \n",
              "1                                                  0                                 \n",
              "2                                                  0                                 \n",
              "3                                                  1                                 \n",
              "4                                                  0                                 \n",
              "\n",
              "   company_recommended  \\\n",
              "0                    5   \n",
              "1                    4   \n",
              "2                   10   \n",
              "3                    7   \n",
              "4                    7   \n",
              "\n",
              "   ¿Qué tanto estás usando Copilot, ChatGPT u otras herramientas de IA para tu trabajo?  \\\n",
              "0                                                  0                                      \n",
              "1                                                  1                                      \n",
              "2                                                  3                                      \n",
              "3                                                  3                                      \n",
              "4                                                  2                                      \n",
              "\n",
              "   ¿Salir o seguir contestando? profile_studies_level  \\\n",
              "0             Terminar encuesta                   NaN   \n",
              "1  Responder sobre mis estudios              Maestría   \n",
              "2             Terminar encuesta                   NaN   \n",
              "3             Terminar encuesta                   NaN   \n",
              "4             Terminar encuesta                   NaN   \n",
              "\n",
              "  profile_studies_level_state                           profile_career  \\\n",
              "0                         NaN                                      NaN   \n",
              "1                    Completo  Licenciatura en Sistemas de Información   \n",
              "2                         NaN                                      NaN   \n",
              "3                         NaN                                      NaN   \n",
              "4                         NaN                                      NaN   \n",
              "\n",
              "  Institución educativa ¿Salir o seguir contestando sobre las guardias?  \\\n",
              "0                   NaN                                             NaN   \n",
              "1  Universidad Siglo 21                               Terminar encuesta   \n",
              "2                   NaN                                             NaN   \n",
              "3                   NaN                                             NaN   \n",
              "4                   NaN                                             NaN   \n",
              "\n",
              "  work_on_call_duty  salary_on_call_duty_charge  \\\n",
              "0               NaN                         NaN   \n",
              "1               NaN                         NaN   \n",
              "2               NaN                         NaN   \n",
              "3               NaN                         NaN   \n",
              "4               NaN                         NaN   \n",
              "\n",
              "  Aclará el número que ingresaste en el campo anterior  \\\n",
              "0                                                NaN     \n",
              "1                                                NaN     \n",
              "2                                                NaN     \n",
              "3                                                NaN     \n",
              "4                                                NaN     \n",
              "\n",
              "  ¿Salir o seguir contestando sobre estudios?  profile_age profile_gender  \n",
              "0                                         NaN           36      Varón Cis  \n",
              "1                                         NaN           45      Varón Cis  \n",
              "2                                         NaN           29      Mujer Cis  \n",
              "3                                         NaN           23      Mujer Cis  \n",
              "4                                         NaN           32      Varón Cis  "
            ]
          },
          "execution_count": 19,
          "metadata": {},
          "output_type": "execute_result"
        }
      ],
      "source": [
        "df.head()"
      ]
    },
    {
      "cell_type": "code",
      "execution_count": 20,
      "metadata": {
        "colab": {
          "base_uri": "https://localhost:8080/"
        },
        "id": "BxFBTUsttpX4",
        "outputId": "2523b1f3-2f3b-4699-cd27-6a7b697a3f48"
      },
      "outputs": [
        {
          "data": {
            "text/plain": [
              "array(['Varón Cis', 'Mujer Cis', 'Hombre', 'Prefiero no decir', 'normal',\n",
              "       'Varon', 'Agénero', 'Masculino', 'Dolarsexual', '.', 'Queer',\n",
              "       'Mujer Trans', 'No binarie',\n",
              "       'BIEN MACHO Y PORONGUDO. QUE CLASE DE OPCIONES DE MIERDA SON ESTAS?',\n",
              "       'no entiendo por que la hacen tan dificil. que es eso de cis? soy heterosexual.',\n",
              "       'Hombre..... tipo normal', 'Cis', 'varon, no se que es varon cis',\n",
              "       'Dejen de preguntar boludeces', 'Normal', 'que pelotudos eh',\n",
              "       'hombre', 'Helicoptero de ataque apache', 'Varón Trans',\n",
              "       'Varoo natural', 'Varón', 'Bigénero', 'Mujer', 'Transformer',\n",
              "       'Fluido', 'masculino', 'Hombre, macho silencioso', 'varón',\n",
              "       'no compliquemos lo simple', 'Agenero, presentación mujer cis',\n",
              "       'Me considero perteneciente al genero de los que no se identifican con ningun genero',\n",
              "       'Macho', 'Porque tantas opciones? Solo hay 2. Soy hombre.',\n",
              "       'heterosexual', 'Machote', 'Puto', 'Gris', 'Heterosexual',\n",
              "       'Hombre    (sexo cromosómico:  XY)',\n",
              "       'yo que se que es todo eso masculino',\n",
              "       'Insisto, no es tan complicado. ',\n",
              "       'No corresponde, es como preguntar la religion o el color de piel',\n",
              "       'No entiendo', 'no entiendo ni mierda q es cada una',\n",
              "       'Que? Fluido obvio', 'Lesbiana', 'Reptiliano',\n",
              "       'Que trolo sos para poner esas opciones', 'Hombre heterosexual',\n",
              "       'HETERO', 'mujer', 'Varon heterosexual', 'Hombre normal',\n",
              "       'mujer de cuando solo existian hombres y mujeres :oP',\n",
              "       'Varón Cis, pero considero ofensivo el término y esta pregunta.',\n",
              "       'no entiendo esas clasificaciones', 'HOMBRE', 'Varón común',\n",
              "       'soy un pollo', 'Hombre Heterosexual',\n",
              "       'me identifico con el eter de alfa centauri en venus con papas',\n",
              "       'Hombre Hetero', 'iddqd', 'Perro',\n",
              "       'heterosexual, pedazos de transtornados... ', 'Hombre Normal',\n",
              "       'varon', 'Tantas opciones que no supe qué elegir',\n",
              "       'Hombre. Varon.', 'Helicóptero', 'hetero',\n",
              "       'Sin enfermedades psiquiatricas', 'helicoptero apache',\n",
              "       'Hombre. Nada de pelotudeces.', 'soy mujer', 'que pelotudez',\n",
              "       'Soy hombre, el resto no se que significa',\n",
              "       'Soy una paleta de Carne',\n",
              "       'Que ganas de joder. Hombre heterosexual.', 'Usen castellano...',\n",
              "       'Masculino, Hombre, no encontré la opción correcta',\n",
              "       'que dificil esta pregunta',\n",
              "       'Es hombre o mujer, no caigan en esta pavada',\n",
              "       'No deberia ser obligatorio esto', 'Dolphin', 'marika',\n",
              "       'Hombre con pene',\n",
              "       'Varon macho pecho peludo, dejen de agregar tantas opciones lgbtq+qweasdw3',\n",
              "       'Esto es una boludes de pregunta. (En la universidad tambien la hacen)',\n",
              "       'MASCULINO', 'hombre varon',\n",
              "       'HOMBRE. nada de varon cis ni esas pelotudeces', 'Varon no Cis',\n",
              "       'un muchacho simple',\n",
              "       'Me molestan estas estupideces soy Mujer de nacimiento.',\n",
              "       'Hombre, no tengo ni idea que quiere decir cad aúna de las anteriores opciones ',\n",
              "       'Si caigo al hospital con perdida de conocimiento, me van a tratar como lo que soy... Hombre',\n",
              "       'hombre de hombre porque soy hombre', 'en serio?',\n",
              "       'Hombre de verdad', 'Que carajo son todas esos géneros. Hombre.',\n",
              "       'Soy hombre',\n",
              "       'Varon (tiene que estar como opción, no dar por asumido nada)',\n",
              "       'Esto es una boludez', 'Mujer (nada de cis)', 'No se q elegir',\n",
              "       'macho machista respetuoso de todes les demas', 'cis', 'Hétero',\n",
              "       'Hombre a secas', 'Varón hetero', 'Tractor multi punto',\n",
              "       'que pelotudes...', 'varon bi', 'Que boludez es esto',\n",
              "       'Pregunto, ¿Qué tiene que ver esto con la temática de la encuesta?',\n",
              "       'no se que poner',\n",
              "       'me identifico con todos, con el ser humano, soy heterosexual',\n",
              "       'hombre clasico', 'arstotzko', 'varon normal', 'Camionero',\n",
              "       'Hombre)?', 'Otaku', 'Humano', 'Soy Hombre.', 'Normal :)',\n",
              "       'Hombre Varón', 'Es broma verdad?', 'no es relevante',\n",
              "       'Varon sin utero', 'Basta', 'Hetero', 'Hiperpiturro',\n",
              "       'Varon, sin mas', 'Pokemón', 'Pelutudeces NO',\n",
              "       'Mujer NB (consejo, quizá podrían hacer un refactor de esta pregunta permitiendo muchas respuestas, así elegiría mujer, NB y trans, mientras que un hombre cis elegiría hombre y cis, sé que no todos en la comunidad IT se toman esto seriamente pero es más correcto y fiel a las experiencias de las personas)',\n",
              "       'Varón Cis No binario'], dtype=object)"
            ]
          },
          "execution_count": 20,
          "metadata": {},
          "output_type": "execute_result"
        }
      ],
      "source": [
        "df.profile_gender.unique()"
      ]
    },
    {
      "cell_type": "markdown",
      "metadata": {
        "id": "em9jyoqJFOHJ"
      },
      "source": [
        "**Dada que las respuestas en la columna genero son muy diversas, a las mismas las vamos a analizar una por una y las vamos a categorizar de la siguiente forma:**\n",
        "1. H -> Se corresponde a Hombre\n",
        "2. M -> Se corresponde a Mujer\n",
        "3. NB -> Se corresponde al genero No Binario\n"
      ]
    },
    {
      "cell_type": "code",
      "execution_count": 21,
      "metadata": {
        "id": "pJjMneUJtr1H"
      },
      "outputs": [],
      "source": [
        "df.loc[:,'profile_g'] = df.profile_gender.replace({'Varón Cis':'H', 'Mujer Cis': 'M', 'Hombre': 'H', 'Prefiero no decir': 'NB', 'normal':'H',\n",
        "       'Varon':'H', 'Agénero':'NB', 'Masculino':'H', 'Dolarsexual':'H', '.':'NB', 'Queer':'NB',\n",
        "       'Mujer Trans': 'NB', 'No binarie': 'NB',\n",
        "       'BIEN MACHO Y PORONGUDO. QUE CLASE DE OPCIONES DE MIERDA SON ESTAS?': 'H',\n",
        "       'no entiendo por que la hacen tan dificil. que es eso de cis? soy heterosexual.': 'H',\n",
        "       'Hombre..... tipo normal': 'H', 'Cis': 'H', 'varon, no se que es varon cis': 'H',\n",
        "       'Dejen de preguntar boludeces': 'H', 'Normal': 'H', 'que pelotudos eh': 'H',\n",
        "       'hombre': 'H', 'Helicoptero de ataque apache': 'H', 'Varón Trans': 'NB',\n",
        "       'Varoo natural': 'H', 'Varón': 'H', 'Bigénero': 'NB', 'Mujer': 'M', 'Transformer': 'NB',\n",
        "       'Fluido': 'H', 'masculino': 'H', 'Hombre, macho silencioso': 'H', 'varón': 'H',\n",
        "       'no compliquemos lo simple': 'H', 'Agenero, presentación mujer cis': 'NB',\n",
        "       'Me considero perteneciente al genero de los que no se identifican con ningun genero': 'NB',\n",
        "       'Macho': 'H', 'Porque tantas opciones? Solo hay 2. Soy hombre.': 'H',\n",
        "       'heterosexual': 'H', 'Machote': 'H', 'Puto': 'NB', 'Gris': 'NB', 'Heterosexual': 'H',\n",
        "       'Hombre    (sexo cromosómico:  XY)': 'H',\n",
        "       'yo que se que es todo eso masculino': 'H',\n",
        "       'Insisto, no es tan complicado. ': 'H',\n",
        "       'No corresponde, es como preguntar la religion o el color de piel': 'M',\n",
        "       'No entiendo': 'M', 'no entiendo ni mierda q es cada una': 'H',\n",
        "       'Que? Fluido obvio': 'H', 'Lesbiana': 'M', 'Reptiliano': 'NB',\n",
        "       'Que trolo sos para poner esas opciones': 'H', 'Hombre heterosexual': 'H',\n",
        "       'HETERO': 'H', 'mujer':'M', 'Varon heterosexual':'H', 'Hombre normal': 'H',\n",
        "       'mujer de cuando solo existian hombres y mujeres :oP': 'M',\n",
        "       'Varón Cis, pero considero ofensivo el término y esta pregunta.': 'H',\n",
        "       'no entiendo esas clasificaciones': 'M', 'HOMBRE': 'H', 'Varón común': 'H',\n",
        "       'soy un pollo': 'NB', 'Hombre Heterosexual': 'H',\n",
        "       'me identifico con el eter de alfa centauri en venus con papas': 'NB',\n",
        "       'Hombre Hetero': 'H', 'iddqd': 'NB', 'Perro': 'NB',\n",
        "       'heterosexual, pedazos de transtornados... ': 'H', 'Hombre Normal': 'H',\n",
        "       'varon': 'H', 'Tantas opciones que no supe qué elegir': 'M',\n",
        "       'Hombre. Varon.': 'H', 'Helicóptero': 'H', 'hetero': 'H',\n",
        "       'Sin enfermedades psiquiatricas': 'H', 'helicoptero apache': 'H',\n",
        "       'Hombre. Nada de pelotudeces.': 'H', 'soy mujer': 'M', 'que pelotudez': 'M',\n",
        "       'Soy hombre, el resto no se que significa': 'H',\n",
        "       'Soy una paleta de Carne': 'NB',\n",
        "       'Que ganas de joder. Hombre heterosexual.': 'H', 'Usen castellano...': 'M',\n",
        "       'Masculino, Hombre, no encontré la opción correcta': 'H',\n",
        "       'que dificil esta pregunta': 'H',\n",
        "       'Es hombre o mujer, no caigan en esta pavada': 'H',\n",
        "       'No deberia ser obligatorio esto': 'M', 'Dolphin': 'NB', 'marika': 'NB',\n",
        "       'Hombre con pene': 'H',\n",
        "       'Varon macho pecho peludo, dejen de agregar tantas opciones lgbtq+qweasdw3': 'H',\n",
        "       'Esto es una boludes de pregunta. (En la universidad tambien la hacen)': 'H',\n",
        "       'MASCULINO': 'H', 'hombre varon': 'H',\n",
        "       'HOMBRE. nada de varon cis ni esas pelotudeces': 'H', 'Varon no Cis': 'NB',\n",
        "       'un muchacho simple': 'H',\n",
        "       'Me molestan estas estupideces soy Mujer de nacimiento.': 'M',\n",
        "       'Hombre, no tengo ni idea que quiere decir cad aúna de las anteriores opciones ': 'H',\n",
        "       'Si caigo al hospital con perdida de conocimiento, me van a tratar como lo que soy... Hombre': 'H',\n",
        "       'hombre de hombre porque soy hombre': 'H', 'en serio?': 'H',\n",
        "       'Hombre de verdad': 'H', 'Que carajo son todas esos géneros. Hombre.': 'H',\n",
        "       'Soy hombre': 'H',\n",
        "       'Varon (tiene que estar como opción, no dar por asumido nada)': 'H',\n",
        "       'Esto es una boludez': 'M', 'Mujer (nada de cis)': 'M', 'No se q elegir': 'NB',\n",
        "       'macho machista respetuoso de todes les demas': 'H', 'cis': 'NB', 'Hétero': 'H',\n",
        "       'Hombre a secas': 'H', 'Varón hetero': 'H', 'Tractor multi punto': 'H',\n",
        "       'que pelotudes...': 'M', 'varon bi': 'NB', 'Que boludez es esto': 'M',\n",
        "       'Pregunto, ¿Qué tiene que ver esto con la temática de la encuesta?': 'H',\n",
        "       'no se que poner': 'NB',\n",
        "       'me identifico con todos, con el ser humano, soy heterosexual': 'H',\n",
        "       'hombre clasico': 'H', 'arstotzko': 'NB', 'varon normal': 'H', 'Camionero': 'H',\n",
        "       'Hombre)?': 'H', 'Otaku': 'NB', 'Humano': 'NB', 'Soy Hombre.': 'H', 'Normal :)': 'H',\n",
        "       'Hombre Varón': 'H', 'Es broma verdad?': 'M', 'no es relevante': 'M',\n",
        "       'Varon sin utero': 'H', 'Basta': 'M', 'Hetero': 'H', 'Hiperpiturro': 'H',\n",
        "       'Varon, sin mas': 'H', 'Pokemón': 'NB', 'Pelutudeces NO': 'M',\n",
        "       'Mujer NB (consejo, quizá podrían hacer un refactor de esta pregunta permitiendo muchas respuestas, así elegiría mujer, NB y trans, mientras que un hombre cis elegiría hombre y cis, sé que no todos en la comunidad IT se toman esto seriamente pero es más correcto y fiel a las experiencias de las personas)': 'NB',\n",
        "       'Varón Cis No binario': 'NB'}).fillna(False)"
      ]
    },
    {
      "cell_type": "code",
      "execution_count": 22,
      "metadata": {
        "colab": {
          "base_uri": "https://localhost:8080/",
          "height": 643
        },
        "id": "_TggLSsDFOHK",
        "outputId": "f44f15cf-8bbc-4da9-ba6e-55df17ab8dfc"
      },
      "outputs": [
        {
          "data": {
            "text/html": [
              "<div>\n",
              "<style scoped>\n",
              "    .dataframe tbody tr th:only-of-type {\n",
              "        vertical-align: middle;\n",
              "    }\n",
              "\n",
              "    .dataframe tbody tr th {\n",
              "        vertical-align: top;\n",
              "    }\n",
              "\n",
              "    .dataframe thead th {\n",
              "        text-align: right;\n",
              "    }\n",
              "</style>\n",
              "<table border=\"1\" class=\"dataframe\">\n",
              "  <thead>\n",
              "    <tr style=\"text-align: right;\">\n",
              "      <th></th>\n",
              "      <th>work_country</th>\n",
              "      <th>work_province</th>\n",
              "      <th>work_dedication</th>\n",
              "      <th>work_contract_type</th>\n",
              "      <th>salary_monthly_BRUTO</th>\n",
              "      <th>salary_monthly_NETO</th>\n",
              "      <th>salary_in_usd</th>\n",
              "      <th>salary_last_dollar_value</th>\n",
              "      <th>salary_has_bonus</th>\n",
              "      <th>salary_bonus_tied_to</th>\n",
              "      <th>salary_inflation_adjustment</th>\n",
              "      <th>salary_percentage_inflation_adjustment</th>\n",
              "      <th>¿En qué mes fue el último ajuste?</th>\n",
              "      <th>salary_comparison_last_semester</th>\n",
              "      <th>¿Contás con beneficios adicionales?</th>\n",
              "      <th>salary_satisfaction</th>\n",
              "      <th>Trabajo de</th>\n",
              "      <th>profile_years_experience</th>\n",
              "      <th>work_years_in_company</th>\n",
              "      <th>work_years_in_current_position</th>\n",
              "      <th>work_people_in_charge_of</th>\n",
              "      <th>tools_platform</th>\n",
              "      <th>tools_programming_languages</th>\n",
              "      <th>tools_frameworks</th>\n",
              "      <th>tools_data_bases</th>\n",
              "      <th>tools_qa_testing</th>\n",
              "      <th>company_employee_number</th>\n",
              "      <th>work_work_modality</th>\n",
              "      <th>Si trabajás bajo un esquema híbrido ¿Cuántos días a la semana vas a la oficina?</th>\n",
              "      <th>company_recommended</th>\n",
              "      <th>¿Qué tanto estás usando Copilot, ChatGPT u otras herramientas de IA para tu trabajo?</th>\n",
              "      <th>¿Salir o seguir contestando?</th>\n",
              "      <th>profile_studies_level</th>\n",
              "      <th>profile_studies_level_state</th>\n",
              "      <th>profile_career</th>\n",
              "      <th>Institución educativa</th>\n",
              "      <th>¿Salir o seguir contestando sobre las guardias?</th>\n",
              "      <th>work_on_call_duty</th>\n",
              "      <th>salary_on_call_duty_charge</th>\n",
              "      <th>Aclará el número que ingresaste en el campo anterior</th>\n",
              "      <th>¿Salir o seguir contestando sobre estudios?</th>\n",
              "      <th>profile_age</th>\n",
              "      <th>profile_gender</th>\n",
              "      <th>profile_g</th>\n",
              "    </tr>\n",
              "  </thead>\n",
              "  <tbody>\n",
              "    <tr>\n",
              "      <th>0</th>\n",
              "      <td>Argentina</td>\n",
              "      <td>Catamarca</td>\n",
              "      <td>Full-Time</td>\n",
              "      <td>Staff (planta permanente)</td>\n",
              "      <td>680000.0</td>\n",
              "      <td>520000.0</td>\n",
              "      <td>NaN</td>\n",
              "      <td>NaN</td>\n",
              "      <td>No</td>\n",
              "      <td>No recibo bono</td>\n",
              "      <td>Uno</td>\n",
              "      <td>26.0</td>\n",
              "      <td>Abril</td>\n",
              "      <td>2</td>\n",
              "      <td>Abono de Internet, Clases de idiomas, Crédito ...</td>\n",
              "      <td>2</td>\n",
              "      <td>Infosec</td>\n",
              "      <td>10.0</td>\n",
              "      <td>1.0</td>\n",
              "      <td>1.0</td>\n",
              "      <td>0</td>\n",
              "      <td>Amazon Web Services, Linux</td>\n",
              "      <td>Bash/Shell, Python</td>\n",
              "      <td>Angular</td>\n",
              "      <td>Ninguna de las anteriores</td>\n",
              "      <td>Ninguna de las anteriores</td>\n",
              "      <td>De 201 a 500 personas</td>\n",
              "      <td>100% remoto</td>\n",
              "      <td>0</td>\n",
              "      <td>5</td>\n",
              "      <td>0</td>\n",
              "      <td>Terminar encuesta</td>\n",
              "      <td>NaN</td>\n",
              "      <td>NaN</td>\n",
              "      <td>NaN</td>\n",
              "      <td>NaN</td>\n",
              "      <td>NaN</td>\n",
              "      <td>NaN</td>\n",
              "      <td>NaN</td>\n",
              "      <td>NaN</td>\n",
              "      <td>NaN</td>\n",
              "      <td>36</td>\n",
              "      <td>Varón Cis</td>\n",
              "      <td>H</td>\n",
              "    </tr>\n",
              "    <tr>\n",
              "      <th>1</th>\n",
              "      <td>Argentina</td>\n",
              "      <td>Catamarca</td>\n",
              "      <td>Full-Time</td>\n",
              "      <td>Staff (planta permanente)</td>\n",
              "      <td>650000.0</td>\n",
              "      <td>520000.0</td>\n",
              "      <td>NaN</td>\n",
              "      <td>NaN</td>\n",
              "      <td>No</td>\n",
              "      <td>No recibo bono</td>\n",
              "      <td>Dos</td>\n",
              "      <td>24.0</td>\n",
              "      <td>Mayo</td>\n",
              "      <td>2</td>\n",
              "      <td>Ninguna de las anteriores</td>\n",
              "      <td>3</td>\n",
              "      <td>DevOps Engineer</td>\n",
              "      <td>23.0</td>\n",
              "      <td>2.0</td>\n",
              "      <td>2.0</td>\n",
              "      <td>4</td>\n",
              "      <td>Docker, Kubernetes, Linux, VMWare, Windows Server</td>\n",
              "      <td>Bash/Shell, CSS, HTML, Javascript, PHP, SQL, T...</td>\n",
              "      <td>Angular, Bootstrap, jQuery, Laravel, Node.js</td>\n",
              "      <td>MariaDB, Microsoft SQL Server, MongoDB, MySQL,...</td>\n",
              "      <td>PHPUnit, Postman</td>\n",
              "      <td>De 201 a 500 personas</td>\n",
              "      <td>100% presencial</td>\n",
              "      <td>0</td>\n",
              "      <td>4</td>\n",
              "      <td>1</td>\n",
              "      <td>Responder sobre mis estudios</td>\n",
              "      <td>Maestría</td>\n",
              "      <td>Completo</td>\n",
              "      <td>Licenciatura en Sistemas de Información</td>\n",
              "      <td>Universidad Siglo 21</td>\n",
              "      <td>Terminar encuesta</td>\n",
              "      <td>NaN</td>\n",
              "      <td>NaN</td>\n",
              "      <td>NaN</td>\n",
              "      <td>NaN</td>\n",
              "      <td>45</td>\n",
              "      <td>Varón Cis</td>\n",
              "      <td>H</td>\n",
              "    </tr>\n",
              "    <tr>\n",
              "      <th>2</th>\n",
              "      <td>Argentina</td>\n",
              "      <td>Catamarca</td>\n",
              "      <td>Full-Time</td>\n",
              "      <td>Staff (planta permanente)</td>\n",
              "      <td>125000.0</td>\n",
              "      <td>104000.0</td>\n",
              "      <td>NaN</td>\n",
              "      <td>NaN</td>\n",
              "      <td>No</td>\n",
              "      <td>No recibo bono</td>\n",
              "      <td>No</td>\n",
              "      <td>0.0</td>\n",
              "      <td>No tuve</td>\n",
              "      <td>3</td>\n",
              "      <td>Abono de Internet, Capacitaciones y/o cursos,</td>\n",
              "      <td>3</td>\n",
              "      <td>Developer</td>\n",
              "      <td>0.0</td>\n",
              "      <td>0.0</td>\n",
              "      <td>0.0</td>\n",
              "      <td>0</td>\n",
              "      <td>Ninguna de las anteriores</td>\n",
              "      <td>SQL, Oracle APEX, PL-SQL, SQL Developer</td>\n",
              "      <td>Ninguno de los anteriores</td>\n",
              "      <td>Oracle</td>\n",
              "      <td>Ninguna de las anteriores</td>\n",
              "      <td>De 11  a 50  personas</td>\n",
              "      <td>100% remoto</td>\n",
              "      <td>0</td>\n",
              "      <td>10</td>\n",
              "      <td>3</td>\n",
              "      <td>Terminar encuesta</td>\n",
              "      <td>NaN</td>\n",
              "      <td>NaN</td>\n",
              "      <td>NaN</td>\n",
              "      <td>NaN</td>\n",
              "      <td>NaN</td>\n",
              "      <td>NaN</td>\n",
              "      <td>NaN</td>\n",
              "      <td>NaN</td>\n",
              "      <td>NaN</td>\n",
              "      <td>29</td>\n",
              "      <td>Mujer Cis</td>\n",
              "      <td>M</td>\n",
              "    </tr>\n",
              "    <tr>\n",
              "      <th>3</th>\n",
              "      <td>Argentina</td>\n",
              "      <td>Chaco</td>\n",
              "      <td>Part-Time</td>\n",
              "      <td>Staff (planta permanente)</td>\n",
              "      <td>190000.0</td>\n",
              "      <td>240000.0</td>\n",
              "      <td>NaN</td>\n",
              "      <td>NaN</td>\n",
              "      <td>No</td>\n",
              "      <td>No recibo bono</td>\n",
              "      <td>Dos</td>\n",
              "      <td>11.0</td>\n",
              "      <td>Mayo</td>\n",
              "      <td>1</td>\n",
              "      <td>Capacitaciones y/o cursos, Descuento en gimnas...</td>\n",
              "      <td>2</td>\n",
              "      <td>Business Analyst</td>\n",
              "      <td>2.0</td>\n",
              "      <td>2.0</td>\n",
              "      <td>0.0</td>\n",
              "      <td>0</td>\n",
              "      <td>Azure, SAP, CRM</td>\n",
              "      <td>ABAP</td>\n",
              "      <td>Ninguno de los anteriores</td>\n",
              "      <td>Microsoft Azure (Tables, CosmosDB, SQL, etc)</td>\n",
              "      <td>Ninguna de las anteriores</td>\n",
              "      <td>De 501 a 1000 personas</td>\n",
              "      <td>Híbrido (presencial y remoto)</td>\n",
              "      <td>1</td>\n",
              "      <td>7</td>\n",
              "      <td>3</td>\n",
              "      <td>Terminar encuesta</td>\n",
              "      <td>NaN</td>\n",
              "      <td>NaN</td>\n",
              "      <td>NaN</td>\n",
              "      <td>NaN</td>\n",
              "      <td>NaN</td>\n",
              "      <td>NaN</td>\n",
              "      <td>NaN</td>\n",
              "      <td>NaN</td>\n",
              "      <td>NaN</td>\n",
              "      <td>23</td>\n",
              "      <td>Mujer Cis</td>\n",
              "      <td>M</td>\n",
              "    </tr>\n",
              "    <tr>\n",
              "      <th>4</th>\n",
              "      <td>Argentina</td>\n",
              "      <td>Chaco</td>\n",
              "      <td>Full-Time</td>\n",
              "      <td>Tercerizado (trabajo a través de consultora o ...</td>\n",
              "      <td>250000.0</td>\n",
              "      <td>207000.0</td>\n",
              "      <td>NaN</td>\n",
              "      <td>NaN</td>\n",
              "      <td>No</td>\n",
              "      <td>No recibo bono</td>\n",
              "      <td>Dos</td>\n",
              "      <td>60.0</td>\n",
              "      <td>Mayo</td>\n",
              "      <td>1</td>\n",
              "      <td>Ninguna de las anteriores</td>\n",
              "      <td>1</td>\n",
              "      <td>QA / Tester</td>\n",
              "      <td>3.0</td>\n",
              "      <td>0.0</td>\n",
              "      <td>0.0</td>\n",
              "      <td>1</td>\n",
              "      <td>Docker, Linux</td>\n",
              "      <td>Java</td>\n",
              "      <td>Lippia</td>\n",
              "      <td>Ninguna de las anteriores</td>\n",
              "      <td>Appium, Cucumber, Lippia, Selenium</td>\n",
              "      <td>De 51 a 100 personas</td>\n",
              "      <td>100% remoto</td>\n",
              "      <td>0</td>\n",
              "      <td>7</td>\n",
              "      <td>2</td>\n",
              "      <td>Terminar encuesta</td>\n",
              "      <td>NaN</td>\n",
              "      <td>NaN</td>\n",
              "      <td>NaN</td>\n",
              "      <td>NaN</td>\n",
              "      <td>NaN</td>\n",
              "      <td>NaN</td>\n",
              "      <td>NaN</td>\n",
              "      <td>NaN</td>\n",
              "      <td>NaN</td>\n",
              "      <td>32</td>\n",
              "      <td>Varón Cis</td>\n",
              "      <td>H</td>\n",
              "    </tr>\n",
              "  </tbody>\n",
              "</table>\n",
              "</div>"
            ],
            "text/plain": [
              "  work_country work_province work_dedication  \\\n",
              "0    Argentina     Catamarca       Full-Time   \n",
              "1    Argentina     Catamarca       Full-Time   \n",
              "2    Argentina     Catamarca       Full-Time   \n",
              "3    Argentina         Chaco       Part-Time   \n",
              "4    Argentina         Chaco       Full-Time   \n",
              "\n",
              "                                  work_contract_type  salary_monthly_BRUTO  \\\n",
              "0                          Staff (planta permanente)              680000.0   \n",
              "1                          Staff (planta permanente)              650000.0   \n",
              "2                          Staff (planta permanente)              125000.0   \n",
              "3                          Staff (planta permanente)              190000.0   \n",
              "4  Tercerizado (trabajo a través de consultora o ...              250000.0   \n",
              "\n",
              "   salary_monthly_NETO salary_in_usd salary_last_dollar_value  \\\n",
              "0             520000.0           NaN                      NaN   \n",
              "1             520000.0           NaN                      NaN   \n",
              "2             104000.0           NaN                      NaN   \n",
              "3             240000.0           NaN                      NaN   \n",
              "4             207000.0           NaN                      NaN   \n",
              "\n",
              "  salary_has_bonus salary_bonus_tied_to salary_inflation_adjustment  \\\n",
              "0               No       No recibo bono                         Uno   \n",
              "1               No       No recibo bono                         Dos   \n",
              "2               No       No recibo bono                          No   \n",
              "3               No       No recibo bono                         Dos   \n",
              "4               No       No recibo bono                         Dos   \n",
              "\n",
              "   salary_percentage_inflation_adjustment ¿En qué mes fue el último ajuste?  \\\n",
              "0                                    26.0                             Abril   \n",
              "1                                    24.0                              Mayo   \n",
              "2                                     0.0                           No tuve   \n",
              "3                                    11.0                              Mayo   \n",
              "4                                    60.0                              Mayo   \n",
              "\n",
              "   salary_comparison_last_semester  \\\n",
              "0                                2   \n",
              "1                                2   \n",
              "2                                3   \n",
              "3                                1   \n",
              "4                                1   \n",
              "\n",
              "                 ¿Contás con beneficios adicionales?  salary_satisfaction  \\\n",
              "0  Abono de Internet, Clases de idiomas, Crédito ...                    2   \n",
              "1                          Ninguna de las anteriores                    3   \n",
              "2     Abono de Internet, Capacitaciones y/o cursos,                     3   \n",
              "3  Capacitaciones y/o cursos, Descuento en gimnas...                    2   \n",
              "4                          Ninguna de las anteriores                    1   \n",
              "\n",
              "         Trabajo de  profile_years_experience  work_years_in_company  \\\n",
              "0           Infosec                      10.0                    1.0   \n",
              "1   DevOps Engineer                      23.0                    2.0   \n",
              "2         Developer                       0.0                    0.0   \n",
              "3  Business Analyst                       2.0                    2.0   \n",
              "4       QA / Tester                       3.0                    0.0   \n",
              "\n",
              "   work_years_in_current_position  work_people_in_charge_of  \\\n",
              "0                             1.0                         0   \n",
              "1                             2.0                         4   \n",
              "2                             0.0                         0   \n",
              "3                             0.0                         0   \n",
              "4                             0.0                         1   \n",
              "\n",
              "                                      tools_platform  \\\n",
              "0                         Amazon Web Services, Linux   \n",
              "1  Docker, Kubernetes, Linux, VMWare, Windows Server   \n",
              "2                          Ninguna de las anteriores   \n",
              "3                                    Azure, SAP, CRM   \n",
              "4                                      Docker, Linux   \n",
              "\n",
              "                         tools_programming_languages  \\\n",
              "0                                 Bash/Shell, Python   \n",
              "1  Bash/Shell, CSS, HTML, Javascript, PHP, SQL, T...   \n",
              "2            SQL, Oracle APEX, PL-SQL, SQL Developer   \n",
              "3                                               ABAP   \n",
              "4                                               Java   \n",
              "\n",
              "                               tools_frameworks  \\\n",
              "0                                       Angular   \n",
              "1  Angular, Bootstrap, jQuery, Laravel, Node.js   \n",
              "2                     Ninguno de los anteriores   \n",
              "3                     Ninguno de los anteriores   \n",
              "4                                        Lippia   \n",
              "\n",
              "                                    tools_data_bases  \\\n",
              "0                          Ninguna de las anteriores   \n",
              "1  MariaDB, Microsoft SQL Server, MongoDB, MySQL,...   \n",
              "2                                             Oracle   \n",
              "3       Microsoft Azure (Tables, CosmosDB, SQL, etc)   \n",
              "4                          Ninguna de las anteriores   \n",
              "\n",
              "                     tools_qa_testing company_employee_number  \\\n",
              "0           Ninguna de las anteriores   De 201 a 500 personas   \n",
              "1                    PHPUnit, Postman   De 201 a 500 personas   \n",
              "2           Ninguna de las anteriores   De 11  a 50  personas   \n",
              "3           Ninguna de las anteriores  De 501 a 1000 personas   \n",
              "4  Appium, Cucumber, Lippia, Selenium    De 51 a 100 personas   \n",
              "\n",
              "              work_work_modality  \\\n",
              "0                    100% remoto   \n",
              "1                100% presencial   \n",
              "2                    100% remoto   \n",
              "3  Híbrido (presencial y remoto)   \n",
              "4                    100% remoto   \n",
              "\n",
              "   Si trabajás bajo un esquema híbrido ¿Cuántos días a la semana vas a la oficina?  \\\n",
              "0                                                  0                                 \n",
              "1                                                  0                                 \n",
              "2                                                  0                                 \n",
              "3                                                  1                                 \n",
              "4                                                  0                                 \n",
              "\n",
              "   company_recommended  \\\n",
              "0                    5   \n",
              "1                    4   \n",
              "2                   10   \n",
              "3                    7   \n",
              "4                    7   \n",
              "\n",
              "   ¿Qué tanto estás usando Copilot, ChatGPT u otras herramientas de IA para tu trabajo?  \\\n",
              "0                                                  0                                      \n",
              "1                                                  1                                      \n",
              "2                                                  3                                      \n",
              "3                                                  3                                      \n",
              "4                                                  2                                      \n",
              "\n",
              "   ¿Salir o seguir contestando? profile_studies_level  \\\n",
              "0             Terminar encuesta                   NaN   \n",
              "1  Responder sobre mis estudios              Maestría   \n",
              "2             Terminar encuesta                   NaN   \n",
              "3             Terminar encuesta                   NaN   \n",
              "4             Terminar encuesta                   NaN   \n",
              "\n",
              "  profile_studies_level_state                           profile_career  \\\n",
              "0                         NaN                                      NaN   \n",
              "1                    Completo  Licenciatura en Sistemas de Información   \n",
              "2                         NaN                                      NaN   \n",
              "3                         NaN                                      NaN   \n",
              "4                         NaN                                      NaN   \n",
              "\n",
              "  Institución educativa ¿Salir o seguir contestando sobre las guardias?  \\\n",
              "0                   NaN                                             NaN   \n",
              "1  Universidad Siglo 21                               Terminar encuesta   \n",
              "2                   NaN                                             NaN   \n",
              "3                   NaN                                             NaN   \n",
              "4                   NaN                                             NaN   \n",
              "\n",
              "  work_on_call_duty  salary_on_call_duty_charge  \\\n",
              "0               NaN                         NaN   \n",
              "1               NaN                         NaN   \n",
              "2               NaN                         NaN   \n",
              "3               NaN                         NaN   \n",
              "4               NaN                         NaN   \n",
              "\n",
              "  Aclará el número que ingresaste en el campo anterior  \\\n",
              "0                                                NaN     \n",
              "1                                                NaN     \n",
              "2                                                NaN     \n",
              "3                                                NaN     \n",
              "4                                                NaN     \n",
              "\n",
              "  ¿Salir o seguir contestando sobre estudios?  profile_age profile_gender  \\\n",
              "0                                         NaN           36      Varón Cis   \n",
              "1                                         NaN           45      Varón Cis   \n",
              "2                                         NaN           29      Mujer Cis   \n",
              "3                                         NaN           23      Mujer Cis   \n",
              "4                                         NaN           32      Varón Cis   \n",
              "\n",
              "  profile_g  \n",
              "0         H  \n",
              "1         H  \n",
              "2         M  \n",
              "3         M  \n",
              "4         H  "
            ]
          },
          "execution_count": 22,
          "metadata": {},
          "output_type": "execute_result"
        }
      ],
      "source": [
        "df.head()"
      ]
    },
    {
      "cell_type": "code",
      "execution_count": 23,
      "metadata": {
        "id": "kxrU9LpGFOHL"
      },
      "outputs": [],
      "source": [
        "lenguajes = 'tools_programming_languages'\n",
        "neto = 'salary_monthly_NETO'\n",
        "bruto = 'salary_monthly_BRUTO'\n",
        "contrato = 'work_contract_type'\n",
        "modalidad = 'work_work_modality'\n",
        "dolares = 'salary_in_usd'\n",
        "genero = 'profile_g'"
      ]
    },
    {
      "cell_type": "code",
      "execution_count": 24,
      "metadata": {
        "colab": {
          "base_uri": "https://localhost:8080/",
          "height": 477
        },
        "id": "81YN1_qWFOHL",
        "outputId": "4bff9302-f922-4231-d650-67dd58da8359"
      },
      "outputs": [
        {
          "data": {
            "image/png": "[encoded data removed]",
            "text/plain": [
              "<Figure size 640x480 with 1 Axes>"
            ]
          },
          "metadata": {},
          "output_type": "display_data"
        }
      ],
      "source": [
        "seaborn.histplot(df[genero], bins=10, color='blue', log_scale=True);"
      ]
    },
    {
      "cell_type": "code",
      "execution_count": 25,
      "metadata": {
        "colab": {
          "base_uri": "https://localhost:8080/"
        },
        "id": "PPyznt8NFOHL",
        "outputId": "f1431041-ed93-446e-8fad-9b8c0554b5b7"
      },
      "outputs": [
        {
          "data": {
            "text/plain": [
              "array(['H', 'M', 'NB'], dtype=object)"
            ]
          },
          "execution_count": 25,
          "metadata": {},
          "output_type": "execute_result"
        }
      ],
      "source": [
        "df[genero].unique()"
      ]
    },
    {
      "cell_type": "code",
      "execution_count": 26,
      "metadata": {
        "colab": {
          "base_uri": "https://localhost:8080/",
          "height": 206
        },
        "id": "L9gBuMveFOHL",
        "outputId": "32a539c0-7777-4a38-84e5-74a2947d39ad"
      },
      "outputs": [
        {
          "data": {
            "text/html": [
              "<div>\n",
              "<style scoped>\n",
              "    .dataframe tbody tr th:only-of-type {\n",
              "        vertical-align: middle;\n",
              "    }\n",
              "\n",
              "    .dataframe tbody tr th {\n",
              "        vertical-align: top;\n",
              "    }\n",
              "\n",
              "    .dataframe thead tr th {\n",
              "        text-align: left;\n",
              "    }\n",
              "\n",
              "    .dataframe thead tr:last-of-type th {\n",
              "        text-align: right;\n",
              "    }\n",
              "</style>\n",
              "<table border=\"1\" class=\"dataframe\">\n",
              "  <thead>\n",
              "    <tr>\n",
              "      <th></th>\n",
              "      <th colspan=\"8\" halign=\"left\">salary_monthly_NETO</th>\n",
              "    </tr>\n",
              "    <tr>\n",
              "      <th></th>\n",
              "      <th>count</th>\n",
              "      <th>mean</th>\n",
              "      <th>std</th>\n",
              "      <th>min</th>\n",
              "      <th>25%</th>\n",
              "      <th>50%</th>\n",
              "      <th>75%</th>\n",
              "      <th>max</th>\n",
              "    </tr>\n",
              "    <tr>\n",
              "      <th>profile_g</th>\n",
              "      <th></th>\n",
              "      <th></th>\n",
              "      <th></th>\n",
              "      <th></th>\n",
              "      <th></th>\n",
              "      <th></th>\n",
              "      <th></th>\n",
              "      <th></th>\n",
              "    </tr>\n",
              "  </thead>\n",
              "  <tbody>\n",
              "    <tr>\n",
              "      <th>H</th>\n",
              "      <td>4207.0</td>\n",
              "      <td>603188.854935</td>\n",
              "      <td>1.020898e+06</td>\n",
              "      <td>1.0</td>\n",
              "      <td>269340.0</td>\n",
              "      <td>420000.0</td>\n",
              "      <td>625000.0</td>\n",
              "      <td>45000000.0</td>\n",
              "    </tr>\n",
              "    <tr>\n",
              "      <th>M</th>\n",
              "      <td>1012.0</td>\n",
              "      <td>406553.960553</td>\n",
              "      <td>4.235321e+05</td>\n",
              "      <td>1.0</td>\n",
              "      <td>199750.0</td>\n",
              "      <td>334000.0</td>\n",
              "      <td>470750.0</td>\n",
              "      <td>6000000.0</td>\n",
              "    </tr>\n",
              "    <tr>\n",
              "      <th>NB</th>\n",
              "      <td>347.0</td>\n",
              "      <td>598955.743942</td>\n",
              "      <td>1.222756e+06</td>\n",
              "      <td>145.0</td>\n",
              "      <td>239020.0</td>\n",
              "      <td>400000.0</td>\n",
              "      <td>600000.0</td>\n",
              "      <td>20000000.0</td>\n",
              "    </tr>\n",
              "  </tbody>\n",
              "</table>\n",
              "</div>"
            ],
            "text/plain": [
              "          salary_monthly_NETO                                                \\\n",
              "                        count           mean           std    min       25%   \n",
              "profile_g                                                                     \n",
              "H                      4207.0  603188.854935  1.020898e+06    1.0  269340.0   \n",
              "M                      1012.0  406553.960553  4.235321e+05    1.0  199750.0   \n",
              "NB                      347.0  598955.743942  1.222756e+06  145.0  239020.0   \n",
              "\n",
              "                                           \n",
              "                50%       75%         max  \n",
              "profile_g                                  \n",
              "H          420000.0  625000.0  45000000.0  \n",
              "M          334000.0  470750.0   6000000.0  \n",
              "NB         400000.0  600000.0  20000000.0  "
            ]
          },
          "execution_count": 26,
          "metadata": {},
          "output_type": "execute_result"
        }
      ],
      "source": [
        "df[[genero, neto]].groupby(genero).describe()"
      ]
    },
    {
      "cell_type": "code",
      "execution_count": 27,
      "metadata": {
        "id": "uZ1GxkLylHx0"
      },
      "outputs": [],
      "source": [
        "alpha = 0.05"
      ]
    },
    {
      "cell_type": "code",
      "execution_count": 28,
      "metadata": {
        "id": "IXt4OQherjYa"
      },
      "outputs": [],
      "source": [
        "is_man = df.profile_g == 'H'\n",
        "is_woman = df.profile_g == 'M'\n",
        "is_nobinary = df.profile_g == 'NB'"
      ]
    },
    {
      "cell_type": "code",
      "execution_count": 29,
      "metadata": {
        "id": "OfzFpDO-lYxk"
      },
      "outputs": [],
      "source": [
        "groupA = df[(df.salary_monthly_NETO > 10000) & is_man].salary_monthly_NETO\n",
        "groupB = df[(df.salary_monthly_NETO > 10000) & (is_woman | is_nobinary)].salary_monthly_NETO"
      ]
    },
    {
      "cell_type": "markdown",
      "metadata": {
        "id": "co_0M_ojtmUh"
      },
      "source": [
        "## Ejercicio 1: Estimación\n",
        "\n",
        "**Consigna:**  Calcular una estimación puntual y un intervalo de confianza de nivel (1-alpha) para la resta entre la media del salario Neto para Hombres menos la media del salario Neto para otros géneros(diferencia de las medias entre el grupoA y grupoB).\n",
        "¿Cómo se relaciona este intervalo de confianza con el test de hipótesis?"
      ]
    },
    {
      "cell_type": "markdown",
      "metadata": {
        "id": "kc5SbHXmFOHM"
      },
      "source": [
        "## Respuesta Ejercicio 1: Estimación"
      ]
    },
    {
      "cell_type": "markdown",
      "metadata": {
        "id": "ftQcFU7QFOHM"
      },
      "source": [
        "**Para comenzar a resolver este punto tenemos 2 grupos, donde en cada grupo se detallan:**\n",
        "1. GrupoA: Salarios Netos de Hombres\n",
        "2. GrupoB: Salarios Netos de Mujeres y No Binarios"
      ]
    },
    {
      "cell_type": "code",
      "execution_count": 30,
      "metadata": {
        "colab": {
          "base_uri": "https://localhost:8080/"
        },
        "id": "0fA1RQ0upe6N",
        "outputId": "c941110d-708d-4010-df29-5077fd8f01f9"
      },
      "outputs": [
        {
          "name": "stdout",
          "output_type": "stream",
          "text": [
            "Muestras del grupo A: 4006\n",
            "Muestras del grupo B: 1249\n"
          ]
        }
      ],
      "source": [
        "print(f'Muestras del grupo A: {len(groupA)}')\n",
        "print(f'Muestras del grupo B: {len(groupB)}')"
      ]
    },
    {
      "cell_type": "markdown",
      "metadata": {
        "id": "_5gMEtdSFOHM"
      },
      "source": [
        "**Calculamos el estimador puntual**"
      ]
    },
    {
      "cell_type": "code",
      "execution_count": 31,
      "metadata": {
        "colab": {
          "base_uri": "https://localhost:8080/"
        },
        "id": "eLWNAk35FOHN",
        "outputId": "6a36b36a-787d-4ab5-c3c7-1393d96161e2"
      },
      "outputs": [
        {
          "name": "stdout",
          "output_type": "stream",
          "text": [
            "Estimador Puntual = 137661.8\n"
          ]
        }
      ],
      "source": [
        "estimador = groupA.mean() - groupB.mean()\n",
        "print(f'Estimador Puntual = {round(estimador, 1)}')"
      ]
    },
    {
      "cell_type": "markdown",
      "metadata": {
        "id": "3tTpcFGjFOHN"
      },
      "source": [
        "**Para el calculo del Intervalo de confianza**"
      ]
    },
    {
      "cell_type": "markdown",
      "metadata": {
        "id": "N4fQ1enuFOHN"
      },
      "source": [
        "### MÉTODO A"
      ]
    },
    {
      "cell_type": "markdown",
      "metadata": {
        "id": "yuEWiBkuFOHN"
      },
      "source": [
        "**Un poco de teoría**\n",
        "\n",
        "Las variables aleatorias *Salario NETO de hombres* ($X_{a}$) y *Salario NETO de otros* ($X_{b}$) poseen una distribución que desconocemos.\n",
        "\n",
        "Tenemos una **muestra aleatoria** para cada una de estas variables.\n",
        "Por el **TCL** sabemos que vale lo siguiente:\n",
        "\n",
        "- Para el **promedio** de salarios de hombres.\n",
        "\n",
        "    $\\overline{X_{a}} \\sim N(\\mu_{a}, \\frac{\\sigma^{2}_{a}}{n_{a}})$\n",
        "\n",
        "- Para el **promedio** de salarios de otros.\n",
        "\n",
        "    $\\overline{X_{b}} \\sim N(\\mu_{b}, \\frac{\\sigma^{2}_{b}}{n_{b}})$\n",
        "\n",
        "Por lo tanto, asumiendo la *independencia* entre ambas variables, tenemos la distribución de nuestro **estimador**.\n",
        "\n",
        "- $\\overline{X_{a}} - \\overline{X_{b}} \\sim N(\\mu_{a} - \\mu_{b}, \\frac{\\sigma^{2}_{a}}{n_{a}} + \\frac{\\sigma^{2}_{b}}{n_{b}})$"
      ]
    },
    {
      "cell_type": "markdown",
      "metadata": {
        "id": "Au75F1rnFOHO"
      },
      "source": [
        "**Calculamos los parámetros para las distribuciones de las VA.**"
      ]
    },
    {
      "cell_type": "code",
      "execution_count": 32,
      "metadata": {
        "id": "nrXklxGDFOHO"
      },
      "outputs": [],
      "source": [
        "n_a = len(groupA)\n",
        "n_b = len(groupB)\n",
        "mu_a = groupA.mean()\n",
        "mu_b = groupB.mean()\n",
        "sigma2_a = groupA.var()\n",
        "sigma2_b = groupB.var()"
      ]
    },
    {
      "cell_type": "code",
      "execution_count": 33,
      "metadata": {
        "colab": {
          "base_uri": "https://localhost:8080/"
        },
        "id": "h7T6DdthFOHO",
        "outputId": "0cdfee27-b478-4930-ea7d-12ae76428a4f"
      },
      "outputs": [
        {
          "name": "stdout",
          "output_type": "stream",
          "text": [
            "Esperanza del Estimador = 137661.8\n",
            "Varianza del Estimador = 706931085.7\n",
            "Desviación del Estimador = 26588.2\n",
            "----------\n"
          ]
        }
      ],
      "source": [
        "mu = mu_a - mu_b\n",
        "print(f'Esperanza del Estimador = {round(mu, 1)}')\n",
        "\n",
        "sigma2 = (sigma2_a / n_a) + (sigma2_b / n_b)\n",
        "print(f'Varianza del Estimador = {round(sigma2, 1)}')\n",
        "\n",
        "sigma = numpy.sqrt(sigma2)\n",
        "print(f'Desviación del Estimador = {round(sigma, 1)}')\n",
        "\n",
        "print('----------')"
      ]
    },
    {
      "cell_type": "markdown",
      "metadata": {
        "id": "dj7GlrR2FOHO"
      },
      "source": [
        "**Vamos a utilizar la libreria Scipy, donde El intervalo de confianza para una distribución normal se puede calcular utilizando la función scipy.stats.norm.interval. Aquí está cómo se utiliza:**\n",
        "\n",
        "Definición de parámetros:\n",
        "1. alpha: El nivel de confianza deseado (por ejemplo, 0.95 para un intervalo de confianza del 95%).\n",
        "2. loc: La media de la distribución normal.\n",
        "3. scale: La desviación estándar de la distribución normal."
      ]
    },
    {
      "cell_type": "code",
      "execution_count": 34,
      "metadata": {
        "colab": {
          "base_uri": "https://localhost:8080/"
        },
        "id": "HrgnuRhhFOHP",
        "outputId": "4c1de594-51f9-489e-8fa3-23fda685c07a"
      },
      "outputs": [
        {
          "name": "stdout",
          "output_type": "stream",
          "text": [
            "Intervalo de Confianza (0.95) = (85549.92919738535, 189773.662668823)\n",
            "Longitud del IC = 104223.7)\n"
          ]
        }
      ],
      "source": [
        "intervalo = scipy.stats.norm.interval(1 - alpha, loc=mu, scale=sigma)\n",
        "print(f'Intervalo de Confianza ({ 1 - alpha}) = {intervalo}')\n",
        "\n",
        "i, s = intervalo\n",
        "print(f'Longitud del IC = {round(s - i, 1)})')"
      ]
    },
    {
      "cell_type": "markdown",
      "metadata": {
        "id": "DzGEqOx1FOHP"
      },
      "source": [
        "### MÉTODO B"
      ]
    },
    {
      "cell_type": "code",
      "execution_count": 35,
      "metadata": {
        "colab": {
          "base_uri": "https://localhost:8080/",
          "height": 927
        },
        "id": "18k4kfCDFOHP",
        "outputId": "bbc8bb65-3142-42f2-9f36-b8066f8a7190"
      },
      "outputs": [
        {
          "data": {
            "image/png": "[encoded data removed]",
            "text/plain": [
              "<Figure size 2000x1000 with 4 Axes>"
            ]
          },
          "metadata": {},
          "output_type": "display_data"
        }
      ],
      "source": [
        "#Antes de construir el intervalo tenemos que saber si podemos considerar varianzas iguales o distintas. Lo veamos por medio de gráficos\n",
        "fig, ax = plt.subplots(nrows=2, ncols=2, figsize=(20,10), sharey='row')\n",
        "seaborn.boxplot(groupA, ax=ax[0,0]).set(title='BoxPlot del salario mensual neto para la muestra del grupo A')\n",
        "seaborn.boxplot(groupB, ax=ax[0,1]).set(title='BoxPlot del salario mensual neto para la muestra del grupo B')\n",
        "\n",
        "seaborn.kdeplot(data=groupA, ax=ax[1,0]).set(title='Distribución del salario mensual neto del grupo A')\n",
        "seaborn.kdeplot(data=groupB, ax=ax[1,1]).set(title='Distribución del salario mensual neto del grupo B')\n",
        "\n",
        "plt.ticklabel_format(style='plain', axis='x')\n",
        "\n",
        "plt.show()"
      ]
    },
    {
      "cell_type": "code",
      "execution_count": 36,
      "metadata": {
        "colab": {
          "base_uri": "https://localhost:8080/"
        },
        "id": "F2IAYTKDFOHP",
        "outputId": "1e78584f-256b-4b71-f4ef-5df98ee18371"
      },
      "outputs": [
        {
          "name": "stdout",
          "output_type": "stream",
          "text": [
            "P-valor = 7.045041130062932e-05\n"
          ]
        }
      ],
      "source": [
        "# Levene test\n",
        "# ==============================================================================\n",
        "levene_test = scipy.stats.levene(groupA, groupB, center='mean')\n",
        "print(f'P-valor = {levene_test[1]}')"
      ]
    },
    {
      "cell_type": "markdown",
      "metadata": {
        "id": "UU-VPIhIFOHQ"
      },
      "source": [
        "A continuación analizamos si los datos de las muestras provienen de una distribución normal para determinar si el intervalos será asintótico o no.\n",
        "Los graficos ```qqplot``` nos sirve para intuir si las muestras van a tener distribucion normal (se comparan los quantiles teoricos de una N(0,1) con los muestrales).\n",
        "\n",
        "Los puntos azules (cuantiles muestrales) deberían caer en la linea roja (cuantiles teóricos para esos valores de la muestra), o estar muy cercanos a ella.\n",
        "\n",
        "**Por lo que podemos apreciar, las muestras no provienen de una distribución normal.**"
      ]
    },
    {
      "cell_type": "code",
      "execution_count": 37,
      "metadata": {
        "colab": {
          "base_uri": "https://localhost:8080/",
          "height": 750
        },
        "id": "lIVJxcZuFOHQ",
        "outputId": "b5475d87-51b1-43c3-96d4-dd5330ab6d10"
      },
      "outputs": [
        {
          "data": {
            "image/png": "[encoded data removed]",
            "text/plain": [
              "<Figure size 1200x800 with 2 Axes>"
            ]
          },
          "metadata": {},
          "output_type": "display_data"
        }
      ],
      "source": [
        "from statsmodels.graphics.gofplots import qqplot\n",
        "ig, ax = plt.subplots(nrows=1, ncols=2, figsize=(12, 8), sharey='row')\n",
        "\n",
        "qqplot(groupA , line='45', ax=ax[0])\n",
        "ax[0].set_title('Qqplot grupo A')\n",
        "qqplot(groupB , line='45', ax=ax[1] )\n",
        "ax[1].set_title('Qqplot grupo B')\n",
        "\n",
        "plt.show()"
      ]
    },
    {
      "cell_type": "markdown",
      "metadata": {
        "id": "xGXLlqrpFOHQ"
      },
      "source": [
        "A partir de los graficos, ahora vamos a realizar la prueba de **Shapiro-Wilk**"
      ]
    },
    {
      "cell_type": "code",
      "execution_count": 38,
      "metadata": {
        "colab": {
          "base_uri": "https://localhost:8080/"
        },
        "id": "_d6Pl5quFOHQ",
        "outputId": "ceb93c4b-9f5c-41c7-a2dc-ec69bc4a9cdf"
      },
      "outputs": [
        {
          "name": "stdout",
          "output_type": "stream",
          "text": [
            "P-valor para groupA: 1.2522944418346508e-292\n",
            "P-valor para groupB: 4.412847335677641e-81\n"
          ]
        }
      ],
      "source": [
        "from scipy.stats import norm, kstest\n",
        "def probability_is_normal(data):\n",
        "  \"\"\"\n",
        "  https://stackoverflow.com/questions/46678239/p-value-is-0-when-i-use-scipy-stats-kstest-for-large-dataset\n",
        "  \"\"\"\n",
        "  loc, scale = norm.fit(data)\n",
        "  # create a normal distribution with loc and scale\n",
        "  n = norm(loc=loc, scale=scale)\n",
        "  return kstest(data, n.cdf)[1]  #pvalue on second position\n",
        "\n",
        "print(f'P-valor para groupA: {probability_is_normal(groupA)}')\n",
        "print(f'P-valor para groupB: {probability_is_normal(groupB)}')"
      ]
    },
    {
      "cell_type": "markdown",
      "metadata": {
        "id": "Qu2KXg6mFOHQ"
      },
      "source": [
        "El test de Shapiro-Wilk muestra que efectivamente las distribuciones de ambas muestras no son normales, ya que el $p$-valor es prácticamente cero. Es decir, la probabilidad de que las muestras provengan de poblaciones con distribución normal se puede considerar nula.\n",
        "\n",
        "Las hipótesis que manejamos aquí son:\n",
        "\n",
        "$H_0:$ La muestra groupA (groupB) proviene de una población con distribución normal.\n",
        "\n",
        "$H_1:$ La muestra groupA (groupB) no proviene de una población con distribución normal.\n",
        "\n",
        "**Decisión**: como $p$-valor $<<< \\alpha=0.05$, se rechaza $H_0$ (esta decisión es compartida para ambos grupos).\n",
        "\n",
        "**Conclusión**: Hay evidencia estadísticamente significativa para decir que la muestra groupA (groupB) no proviene de una distribución normal."
      ]
    },
    {
      "cell_type": "markdown",
      "metadata": {
        "id": "VQjfNJJUFOHQ"
      },
      "source": [
        "----------------------"
      ]
    },
    {
      "cell_type": "markdown",
      "metadata": {
        "id": "oxPx4ATmFOHR"
      },
      "source": [
        "**Construcción del intervalo de confianza:** enfoque teórico en base a los resultados de los test."
      ]
    },
    {
      "cell_type": "markdown",
      "metadata": {
        "id": "CYrwBH14FOHR"
      },
      "source": [
        "**Tomando como referencia el libro de David Moore, Estadística Aplicada Básica, segunda edición.**"
      ]
    },
    {
      "cell_type": "markdown",
      "metadata": {
        "id": "32_eiocaFOHR"
      },
      "source": [
        "Dada las dos muestras A y B con tamaños muestrales $n_A$ y $n_B$, respectivamente. Si sus varianzas $s_{A}^{2}$ y $s_{B}^{2}$ son distintas, vamos a utilizar como pivote para la construcción del intervalo de contianza del 95%, el estadístico de la prueba $t$ de Welch. Este pivote se construye con la siguiente fórmula:\n",
        "\n",
        "$$\n",
        "t=\\frac{(\\bar{X_A}-\\bar{X_B})-(\\mu_{A}-\\mu_{B})}{\\sqrt{\\frac{s_{A}^{2}}{n_{A}}+\\frac{s_{B}^{2}}{n_{B}}}}\n",
        "$$\n",
        "\n",
        "y tiene una distribución $t$ de Student con $f$ grados de libertad dados por la ecuación de Welch-Sattertwaite, la cual se expresa como:\n",
        "\n",
        "$$\n",
        "\\text { f }=\\frac{\\left(s_{A}^{2} / n_{A}+s_{B}^{2} / n_{B}\\right)^{2}}{\\left(s_{A}^{2} / n_{A}\\right)^{2} /\\left(n_{A}-1\\right)+\\left(s_{B}^{2} / n_{B}\\right)^{2} /\\left(n_{B}-1\\right)}\n",
        "$$\n",
        "\n",
        "\n",
        "\n",
        "Moore* también propone obtener los grados de libertad $f$ con la siguiente expresión:\n",
        "\n",
        "$$f=min\\{n_A , n_B \\}-1$$\n",
        "\n",
        "sobre todo cuando no contamos con una computadora, la fórmula anterior nos brinda una herramienta sencilla para hacer los cálculos a mano.\n",
        "\n",
        "\n",
        "Entonces, el intervalo de confianza quedará construido de la siguiente manera**:\n",
        "\n",
        "Para $\\alpha = 0.05$:\n",
        "$$P\\left(\\hat{\\theta}_{1} \\leq \\theta \\leq \\hat{\\theta}_{2}\\right)=1-\\alpha$$\n",
        "\n",
        "Donde $ \\theta = \\mu_A - \\mu_B$ y,  $\\hat{\\theta}_{1}, \\hat{\\theta}_{2}$ son los extremos del intervalo a calcular utilizando la información de que el pivote sigue una distribución $t$ de Student con $f$ grados de libertad.\n",
        "\n",
        "$$\n",
        "P\\left(-t_f \\leq \\frac{(\\bar{X_A}-\\bar{X_B})-(\\mu_{A}-\\mu_{B})}{\\sqrt{\\frac{s_{A}^{2}}{n_{A}}+\\frac{s_{B}^{2}}{n_{B}}}} \\leq t_f\\right)=0.95\n",
        "$$\n",
        "\n",
        "\n",
        "$$\n",
        "P\\left(-t_f \\sqrt{\\frac{s_{A}^{2}}{n_{A}}+\\frac{s_{B}^{2}}{n_{B}}} \\leq (\\bar{X_A}-\\bar{X_B})-(\\mu_{A}-\\mu_{B}) \\leq t_f \\sqrt{\\frac{s_{A}^{2}}{n_{A}}+\\frac{s_{B}^{2}}{n_{B}}}\\right)=0.95\n",
        "$$\n",
        "\n",
        "$$\n",
        "P\\left((\\bar{X_A}-\\bar{X_B})-t_f \\sqrt{\\frac{s_{A}^{2}}{n_{A}}+\\frac{s_{B}^{2}}{n_{B}}} \\leq (\\mu_{A}-\\mu_{B}) \\leq (\\bar{X_A}-\\bar{X_B})+t_f \\sqrt{\\frac{s_{A}^{2}}{n_{A}}+\\frac{s_{B}^{2}}{n_{B}}}\\right)=0.95\n",
        "$$\n",
        "\n",
        "\n",
        "Así:\n",
        "\n",
        "$\\hat{\\theta}_{1}= (\\bar{X_A}-\\bar{X_B})-t_f \\sqrt{\\frac{s_{A}^{2}}{n_{A}}+\\frac{s_{B}^{2}}{n_{B}}}$\n",
        "\n",
        "y\n",
        "\n",
        "$\\hat{\\theta}_{2}= (\\bar{X_A}-\\bar{X_B})+t_f \\sqrt{\\frac{s_{A}^{2}}{n_{A}}+\\frac{s_{B}^{2}}{n_{B}}}$\n",
        "\n",
        "\n",
        "Nota: $t_f$ es el percentil correspondiente a una probabilidad acumulada de $97.5\\%$ de una distribución $t$ de Student con $f$ grados de libertad. Por simplicidad en la notación usamos $t_{f,0.975}=t_f$.\n",
        "\n",
        "\n",
        "(**) Supondremos un intervalo de confianza asintótico, pues las muestras no provienen de distribuciones normales."
      ]
    },
    {
      "cell_type": "code",
      "execution_count": 39,
      "metadata": {
        "id": "oEH7c43LFOHR"
      },
      "outputs": [],
      "source": [
        "meanA = groupA.mean()\n",
        "meanB = groupB.mean()\n",
        "stdA = groupA.std()\n",
        "stdB = groupB.std()\n",
        "\n",
        "estimador_puntual = round(meanA - meanB, 2)\n",
        "sample_std = round(stdA - stdB, 2)\n",
        "\n",
        "N_A = groupA.count()\n",
        "N_B = groupB.count()"
      ]
    },
    {
      "cell_type": "markdown",
      "metadata": {
        "id": "m-Sb7i4nFOHR"
      },
      "source": [
        "Grados de libertad propuesto por Welch"
      ]
    },
    {
      "cell_type": "code",
      "execution_count": 40,
      "metadata": {
        "id": "ZXeoRwsKFOHR"
      },
      "outputs": [],
      "source": [
        "N=((stdA**2/N_A)+ (stdB**2/N_B))**2\n",
        "D=(stdA**2/N_A)**2 / (N_A-1) + (stdB**2/N_B)**2 / (N_B-1)\n",
        "f_W=round(N/D)\n",
        "#---------------------------------------------------------------\n",
        "#Grados de libertad usando el mínimo entre N_A y N_B\n",
        "f_M=numpy.min([N_A, N_B])-1\n"
      ]
    },
    {
      "cell_type": "markdown",
      "metadata": {
        "id": "-Gh-KcSBFOHS"
      },
      "source": [
        "percentil 97.5% de una t de student con f_M grados de libertad"
      ]
    },
    {
      "cell_type": "code",
      "execution_count": 41,
      "metadata": {
        "colab": {
          "base_uri": "https://localhost:8080/"
        },
        "id": "3brmWrbsFOHS",
        "outputId": "eb501744-9538-4fd0-d2cf-39117a3eeda1"
      },
      "outputs": [
        {
          "name": "stdout",
          "output_type": "stream",
          "text": [
            "El percentil que corresponde a f_M= 1248 grados de libertad y una probabilidad acumulada de 97.5 % es: 1.962\n"
          ]
        }
      ],
      "source": [
        "t = scipy.stats.t(f_M)\n",
        "confianza=0.95\n",
        "t_f = numpy.abs(t.ppf((1-confianza)/2)) #saca el percentil para alpha=0.05/2 de una t de Student con f_M grados de libertad (esto es lo que sería nuestro z0975 si la distribución fuese N(0,1))\n",
        "print('El percentil que corresponde a f_M=',f_M, 'grados de libertad y una probabilidad acumulada de', confianza*100+(alpha*100)/2,'%', 'es:', round(t_f,3))"
      ]
    },
    {
      "cell_type": "markdown",
      "metadata": {
        "id": "_YRHRqGWFOHS"
      },
      "source": [
        "Construcción de intervalo de confianza asintótico para la diferencia de medias usando el pivote con f_M= 890 gdl"
      ]
    },
    {
      "cell_type": "code",
      "execution_count": 42,
      "metadata": {
        "colab": {
          "base_uri": "https://localhost:8080/"
        },
        "id": "J7szQf1FFOHS",
        "outputId": "fafe60e1-3436-4658-961f-aa8c8627a453"
      },
      "outputs": [
        {
          "name": "stdout",
          "output_type": "stream",
          "text": [
            "Intervalo de Confianza= ( 85499.345 , 189824.255 )\n",
            "La longitud del intervalo construido con 1248 grados de libertad es  104324.911\n"
          ]
        }
      ],
      "source": [
        "theta_cop_1= estimador_puntual - t_f * numpy.sqrt((stdA**2/N_A)+ (stdB**2/N_B)) #limite inferior del intervalo\n",
        "theta_cop_2= estimador_puntual + t_f * numpy.sqrt((stdA**2/N_A)+ (stdB**2/N_B)) #limite superior del intervalo\n",
        "\n",
        "print('Intervalo de Confianza= (', round(theta_cop_1,3), ',', round(theta_cop_2,3), ')')\n",
        "print('La longitud del intervalo construido con', f_M, 'grados de libertad es ', round(theta_cop_2-theta_cop_1,3))"
      ]
    },
    {
      "cell_type": "markdown",
      "metadata": {
        "id": "EIJ4Nn50FOHS"
      },
      "source": [
        "**El valor del Intervalo de confianza es el mismo en los metodos de calculo A y B**"
      ]
    },
    {
      "cell_type": "markdown",
      "metadata": {
        "id": "m05cGeVVFOHS"
      },
      "source": [
        "-----------------"
      ]
    },
    {
      "cell_type": "markdown",
      "metadata": {
        "id": "IFi2T7Y6nM92"
      },
      "source": [
        "## Ejercicio 2: Test de hipótesis\n"
      ]
    },
    {
      "cell_type": "markdown",
      "metadata": {
        "id": "Rzxe8UYU6EfJ"
      },
      "source": [
        "\n",
        "### 2.1 Formalización\n",
        "\n",
        "Describir formalmente los distintos componentes de un test de hipótesis para comprobar si la distribución de los salarios es distinta entre los grupos A y B.\n",
        "\n",
        "**Hipótesis Nula**\n",
        "\n",
        "$H_0=...$\n",
        "\n",
        "**Estadístico (Pivote)**\n",
        "  * Identificar el estadístico\n",
        "  * Escribir qué distribución tiene bajo $H_0$\n"
      ]
    },
    {
      "cell_type": "markdown",
      "metadata": {
        "id": "3Ip_5YdenC8u"
      },
      "source": [
        "### 2.2 P-valor\n",
        "\n",
        "1. Calcule el p-valor y decida si rechazar o no la hipótesis nula.\n",
        "2. Interprete el resultado.\n",
        "\n",
        "Links útiles:\n",
        "* [Test de hipótesis usando scipy](https://docs.scipy.org/doc/scipy/reference/generated/scipy.stats.ttest_ind.html)\n",
        "* [Test de Welch](http://daniellakens.blogspot.com/2015/01/always-use-welchs-t-test-instead-of.html)"
      ]
    },
    {
      "cell_type": "markdown",
      "metadata": {
        "id": "8VxiQr5YrQYR"
      },
      "source": [
        "### [Opcional] 2.3 Potencia del test\n",
        "\n",
        "Nuestra muestra, ¿era lo suficientemente grande para detectar si existe o no una diferencia entre los grupos?\n",
        "\n",
        "1. Utilice la función `tt_ind_solve_power` para calcular el tamaño necesario de la muestra para un poder estadístico de 0.8, 0.9 y 0.95, asumiendo una significancia estadística de 0.05.\n",
        "2. ¿Cómo intepretan el poder estadístico de un test? Dado su conocimiento de dominio sobre los datos, ¿les parece que esta muestra es lo suficientemente grande para ser representativo de la tendencia general? ¿y para utilizarlo en un juicio penal contra una empresa XX por una causa de discriminación?\n",
        "\n",
        "[Documentación](https://www.statsmodels.org/stable/generated/statsmodels.stats.power.tt_ind_solve_power.html)\n",
        "\n",
        "NOTA: este análisis debería hacerse ANTES de recolectar los datos."
      ]
    },
    {
      "cell_type": "code",
      "execution_count": 43,
      "metadata": {
        "id": "_IiqGfo4t6Db"
      },
      "outputs": [],
      "source": [
        "from statsmodels.stats.power import tt_ind_solve_power"
      ]
    },
    {
      "cell_type": "code",
      "execution_count": 44,
      "metadata": {
        "id": "LUQ7MA2Apj9x"
      },
      "outputs": [],
      "source": [
        "effect_size = (groupA.mean() - groupB.mean()) / groupB.std()\n",
        "# nobs1=None  - What we want to know\n",
        "alpha = 0.05\n",
        "ratio = len(groupB) / len(groupA)\n",
        "power= 0.8"
      ]
    },
    {
      "cell_type": "code",
      "execution_count": 45,
      "metadata": {
        "colab": {
          "base_uri": "https://localhost:8080/"
        },
        "id": "cvHcpY-3ty8Q",
        "outputId": "a8d20f32-4c82-4132-8b95-e16e60b72dab"
      },
      "outputs": [
        {
          "data": {
            "text/plain": [
              "955.7947934386485"
            ]
          },
          "execution_count": 45,
          "metadata": {},
          "output_type": "execute_result"
        }
      ],
      "source": [
        "tt_ind_solve_power(effect_size=effect_size, alpha=alpha,power=power,  ratio=ratio)"
      ]
    },
    {
      "cell_type": "markdown",
      "metadata": {
        "id": "gy08u2SmFOHT"
      },
      "source": [
        "## Respuesta Ejercicio 2: Test de hipótesis"
      ]
    },
    {
      "cell_type": "markdown",
      "metadata": {
        "id": "Bajq-KafFOHT"
      },
      "source": [
        "### 2.1 Formalización\n",
        "\n",
        "**Hipótesis Nula $H_0$:**\n",
        "Empezamos dando por verdadera esta hipótesis. Para este caso, la media de salarios NETO del Grupo A es igual a la media de salarios NETO del Grupo B.\n",
        "\n",
        "$H_0: \\mu_{A}-\\mu_{B} = 0$\n",
        "\n",
        "**Hipótesis alternativa $H_a$:**\n",
        "La siguiente hipótesis se logra al demostrar que que lo contrario de la hipótesis alternativa, o sea la hipótesis nula, es falsa.\n",
        "\n",
        "$H_1: \\mu_{A}-\\mu_{B} \\neq 0$\n",
        "\n",
        "**En palabras:**\n",
        "\n",
        "$H_0:$ No hay diferencia en la distribución promedio de los salarios entre los grupos A y B.\n",
        "\n",
        "$H_1:$ La distribución promedio de los salarios entre los grupos A y B es distinta.\n",
        "\n",
        "**Nivel de significancia**\n",
        "\n",
        "95%\n",
        "\n",
        "**Estadístico (Pivote):**\n",
        "  * Identificar el estadístico:\n",
        "\n",
        "Bajo $H_0$, usamos el estadístico de prueba $t$ de Welch\n",
        "\n",
        "**Estadistico**\n",
        "\n",
        "\n",
        "Es una función de las mediciones muestrales en el cual se fundamenta la decisión estadística.\n",
        "Se deberia hacer el *Test de Welch* porque no se conocen las desviaciones ($\\sigma_{a}$ y $\\sigma_{b}$) de las poblaciones, los tamaños de las muestras ($n_{a}$ y $n_{b}$) son distintos, y queremos verificar si las medias ($\\mu_{a}$ y $\\mu_{b}$) son equivalentes.\n",
        "\n",
        "$\n",
        "\\Large\n",
        "t_{Welch} = \\frac{ \\overline{X_{a}} - \\overline{X_{b}}} {s_{Welch}} \\sim t_{DoF}\n",
        "$\n",
        "\n",
        "$\n",
        "\\Large\n",
        "s_{Welch} = \\sqrt{ \\frac{s^{2}_{a}} {n_{a}} +  \\frac{s^{2}_{b}} {n_{b}}}\n",
        "$\n",
        "\n",
        "$\n",
        "\\Large\n",
        "{DoF} = \\frac{(\\frac{s^{2}_{a}}{n_{a}} + \\frac{s^{2}_{b}}{n_{b}})^{2}} {\\frac{(\\frac{s^{2}_{a}}{n_{a}})^{2}}{n_{a} - 1} + \\frac{(\\frac{s^{2}_{b}}{n_{b}})^{2}}{n_{b} - 1}}\n",
        "$\n",
        "\n",
        "**Región de rechazo:**\n",
        "\n",
        "\n",
        "Especifica los valores del estadístico para los cuales se rechaza la hipótesis nula y se acepta la hioótesis alternativa."
      ]
    },
    {
      "cell_type": "markdown",
      "metadata": {
        "id": "OmUOCTGMFOHU"
      },
      "source": [
        "### 2.2 P-valor"
      ]
    },
    {
      "cell_type": "markdown",
      "metadata": {
        "id": "Sqz5m9xhLiN2"
      },
      "source": [
        "El P-valor de un estadístico es el nivel significancia $\\alpha$ más pequeño para el cual la información observada indica que la hipótesis nula debe ser rechazada."
      ]
    },
    {
      "cell_type": "code",
      "execution_count": 46,
      "metadata": {
        "colab": {
          "base_uri": "https://localhost:8080/"
        },
        "id": "uFkbce2PFOHU",
        "outputId": "ba3a9626-601a-4e4b-8b7e-15ea5074ceaf"
      },
      "outputs": [
        {
          "name": "stdout",
          "output_type": "stream",
          "text": [
            "P-valor = 2.4014811485985473e-07\n"
          ]
        }
      ],
      "source": [
        "t_welch = scipy.stats.ttest_ind(groupA, groupB, equal_var=False)\n",
        "print(f'P-valor = {t_welch.pvalue}')"
      ]
    },
    {
      "cell_type": "markdown",
      "metadata": {
        "id": "OzTfO6vNFOHU"
      },
      "source": [
        "1. Se observa un **p-valor** significativamente menor al nivel de significancia ($\\alpha = 0.05$), por lo que se **rechaza** la *hipotesis nula* ($H_{0}$). Es decir se rechaza la suposición que las medias de los salarios de hombres, y otros géneros, sean idénticas.\n",
        "\n",
        "2. Se podría decir que el **p-valor** mide la probabilidad de observar la muestra aleatoria obtenida de nuestra población, asumiendo que $H_{0}$ es válida. Ya que el valor es muy bajo, esto indicaría que la muestra observada es muy poco probable (asumiendo verdadera la *hipótesis nula*), por lo tanto se descarta $H_{0}$.\n",
        "\n",
        "3. Al utilizar el *Test de Welch* logramos ignorar el problema que podría provocar el tener muestras de diferentes tamaños. El test empleado es más robusto, en comparación con el *Test de Student*."
      ]
    },
    {
      "cell_type": "markdown",
      "metadata": {
        "id": "RpIo9F7fFOHU"
      },
      "source": [
        "### 2.3 Potencia del Test"
      ]
    },
    {
      "cell_type": "code",
      "execution_count": 47,
      "metadata": {
        "id": "KYSCmWscGQJi"
      },
      "outputs": [],
      "source": [
        "from statsmodels.stats.power import tt_ind_solve_power\n",
        "\n",
        "effect_size = (groupA.mean() - groupB.mean()) / groupB.std()\n",
        "# nobs1=None  - What we want to know\n",
        "alpha = 0.05\n",
        "ratio = len(groupB) / len(groupA)\n",
        "#tt_ind_solve_power(effect_size=effect_size, alpha=alpha,power=power,  ratio=ratio)"
      ]
    },
    {
      "cell_type": "code",
      "execution_count": 48,
      "metadata": {
        "id": "mQ_4Bjz-OZgL"
      },
      "outputs": [],
      "source": [
        "power= [0.8, 0.85, 0.9, 0.95]     # Se crea una lista segun lo valores del enunciado"
      ]
    },
    {
      "cell_type": "code",
      "execution_count": 49,
      "metadata": {
        "colab": {
          "base_uri": "https://localhost:8080/"
        },
        "id": "NfpA0GlZM7lQ",
        "outputId": "6106a556-d44e-4000-8f06-3b74b61fe550"
      },
      "outputs": [
        {
          "name": "stdout",
          "output_type": "stream",
          "text": [
            "Tamaño necesario de muestras para tener un poder estadístico de 0.8 es 955.7947934386485\n",
            "Tamaño necesario de muestras para tener un poder estadístico de 0.85 es 1093.1317485950983\n",
            "Tamaño necesario de muestras para tener un poder estadístico de 0.9 es 1279.0436188091164\n",
            "Tamaño necesario de muestras para tener un poder estadístico de 0.95 es 1581.468304627634\n"
          ]
        }
      ],
      "source": [
        "for p in power:\n",
        "    sample_size = tt_ind_solve_power(effect_size=effect_size, alpha=alpha, power=p, ratio=ratio)\n",
        "    print(f'Tamaño necesario de muestras para tener un poder estadístico de {p} es {sample_size}')"
      ]
    },
    {
      "cell_type": "markdown",
      "metadata": {
        "id": "Wuk1OQzLPwFo"
      },
      "source": [
        "El poder estadistico de una prueba indica la probabilida de rechazar de forma correcta la hipótesis nula cuando es falsa. Para los distintos niveles de poder (80%, 85%, 90% y 95%) se calcula el tamaño de muestra necesario. En este caso, se requieren:\n",
        "- Para 80% se necesitan 956 muestras\n",
        "- Para 85% se necesitan 1093 muestras\n",
        "- Para 90% se necesitan 1279 muestras\n",
        "- Para 95% se necesitan 1581 muestras\n",
        "\n",
        "La cantidad de muestras del grupo A y grupo B son"
      ]
    },
    {
      "cell_type": "code",
      "execution_count": 50,
      "metadata": {
        "colab": {
          "base_uri": "https://localhost:8080/"
        },
        "id": "js8upyZaRDCg",
        "outputId": "883088c8-2648-4b5d-b6f1-4da0c38ad350"
      },
      "outputs": [
        {
          "name": "stdout",
          "output_type": "stream",
          "text": [
            "Muestras del grupo A: 4006\n",
            "Muestras del grupo B: 1249\n"
          ]
        }
      ],
      "source": [
        "print(f'Muestras del grupo A: {len(groupA)}')\n",
        "print(f'Muestras del grupo B: {len(groupB)}')"
      ]
    },
    {
      "cell_type": "markdown",
      "metadata": {
        "id": "BPnu7-ieREbc"
      },
      "source": [
        "A partir de estos resultados se puede concluir que los resultados obtenidos son representivativos con al menos un 85% de confianza, ya que supera este mínimo.\n"
      ]
    },
    {
      "cell_type": "markdown",
      "metadata": {
        "id": "useKMdPyMod5"
      },
      "source": [
        "## Ejercicio 3: Comunicación y visualización\n",
        "\n",
        "**Consigna:** Seleccionen un resultado que les parezca relevante a partir de alguno de los ejercicios del entregable. Diseñe e implemente una comunicación en base a este mensaje, en un archivo PDF.\n",
        "\n",
        "Elija las palabras y visualización más adecuada para que la comunicación sea entendible, efectiva y se dapte a UNA de las siguientes situaciones:\n",
        "\n",
        "1. Una sección en un artículo de difusión a presentar como parte de una organización sin fines de lucro.\n",
        "No más de 1 página A4 (o dos si los gráficos son muy grandes).\n",
        "  1. Ejemplo: Alguna de las secciones [Los ecosistemas de emprendimiento de América Latina y el Caribe frente al COVID-19: Impactos, necesidades y recomendaciones](https://publications.iadb.org/es/los-ecosistemas-de-emprendimiento-de-america-latina-y-el-caribe-frente-al-covid-19-impactos-necesidades-y-recomendaciones), por ejemplo la sección *2.2. Reacciones de los emprendedores*.\n",
        "  2. Ejemplo: Alguna de las secciones de [The state of gender pay gap in 2021](https://www.payscale.com/data/gender-pay-gap?tk=carousel-ps-rc-job)\n",
        "  3. Puntos clave:\n",
        "    1. Simpleza de los gráficos.\n",
        "    2. Comunicación en lenguaje simple a personas que no son necesariamente expertos de dominio.\n",
        "    2. Selección de UNA oración sobre la que se hace énfasis.\n",
        "    3. No es necesario que mencionen objetivos ni descripciones del conjunto de datos, se supone que eso ya estaría explicado en otras secciones del informe.\n",
        "\n",
        "2. Una publicación científica o reporte técnico interno. No más de una página A4:\n",
        "  2. Ejemplo: La sección de resultados de [IZA DP No. 12914: The Impact of a Minimum Wage Change on the Distribution of Wages and Household Income](https://www.iza.org/publications/dp/12914/the-impact-of-a-minimum-wage-change-on-the-distribution-of-wages-and-household-income).\n",
        "  2. Ejemplo: Alguna de las secciones de [Temporary reduction in daily global CO2 emissions during the COVID-19 forced confinement](https://www.nature.com/articles/s41558-020-0797-x)\n",
        "  3. Puntos clave:\n",
        "    3. Nivel de detalle técnico requerido. Es necesario justificar la validez del análisis.\n",
        "    4. La idea presentada puede ser más compleja. Pueden asumir que la audiencia tiene conocimiento técnico y va a analizar las visualizaciones en detalle.\n",
        "    5. Pueden presentar más en detalle las limitaciones del análisis (significancia estadística, etc.)\n",
        "    2. No es necesario que mencionen objetivos ni descripciones del conjunto de datos, se supone que eso ya estaría explicado en otras secciones del informe.\n",
        "\n",
        "3. Un tweet (o post de LinkedIn) para la cuenta de su empresa consultora que hace análisis de datos. El objetivo es promocionar un análisis de datos abiertos que van a incluir en su portfolio:\n",
        "  1. Ejemplo: [Comparación vacunas covid](https://twitter.com/infobeautiful/status/1381577746527236098?s=20)\n",
        "  2. Ejemplo: [Tweet del BID](https://twitter.com/el_BID/status/1388508583944507396?s=20). Lo valioso de este tweet es que usaron un único número para transmitir un mensaje. Puede ser algo así, o con un gráfico muy simple.\n",
        "  3. Ejemplo: [Cambio climático](https://twitter.com/UNFCCC/status/1387732156190011394?s=20) Es un muy buen ejemplo, excepto que el gráfico no se lee nada y hay que entrar a la publicación original.\n",
        "  3. Ejemplo: [¿Cuánto están los programadores en las empresas?](https://www.linkedin.com/posts/denis-rothman-0b034043_tech-career-work-activity-6793861923269054464-gS6y) (No verificamos la veracidad o seriedad de la fuente).\n",
        "  4. Puntos clave:\n",
        "    1. Su audiencia no va a mirar la visualización por más de unos segundos, y no tiene conocimiento técnico.\n",
        "  3. Tienen que incluir además una *breve* descripción de cómo obtuvieron los datos que están presentando, que no entraría en el tweet.\n"
      ]
    },
    {
      "cell_type": "code",
      "execution_count": null,
      "metadata": {
        "id": "pJ5OZQ6PsmF6"
      },
      "outputs": [],
      "source": []
    }
  ],
  "metadata": {
    "colab": {
      "provenance": []
    },
    "kernelspec": {
      "display_name": "env_1",
      "language": "python",
      "name": "python3"
    },
    "language_info": {
      "codemirror_mode": {
        "name": "ipython",
        "version": 3
      },
      "file_extension": ".py",
      "mimetype": "text/x-python",
      "name": "python",
      "nbconvert_exporter": "python",
      "pygments_lexer": "ipython3",
      "version": "3.11.4"
    }
  },
  "nbformat": 4,
  "nbformat_minor": 0
}
