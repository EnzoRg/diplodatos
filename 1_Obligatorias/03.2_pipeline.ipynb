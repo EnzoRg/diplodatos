{
  "cells": [
    {
      "cell_type": "markdown",
      "metadata": {
        "id": "sirQj1WNGbIO"
      },
      "source": [
        "# Laboratorio 2: Armado de un esquema de aprendizaje automático\n",
        "\n",
        "En el laboratorio final se espera que puedan poner en práctica los conocimientos adquiridos en el curso, trabajando con un conjunto de datos de clasificación.\n",
        "\n",
        "El objetivo es que se introduzcan en el desarrollo de un esquema para hacer tareas de aprendizaje automático: selección de un modelo, ajuste de hiperparámetros y evaluación.\n",
        "\n",
        "El conjunto de datos a utilizar está en `./data/loan_data.csv`. Si abren el archivo verán que al principio (las líneas que empiezan con `#`) describen el conjunto de datos y sus atributos (incluyendo el atributo de etiqueta o clase).\n",
        "\n",
        "Se espera que hagan uso de las herramientas vistas en el curso. Se espera que hagan uso especialmente de las herramientas brindadas por `scikit-learn`."
      ]
    },
    {
      "cell_type": "code",
      "execution_count": null,
      "metadata": {
        "id": "cQFq-a7uGbIR"
      },
      "outputs": [],
      "source": [
        "import time\n",
        "import numpy as np\n",
        "import pandas as pd\n",
        "import seaborn as sns\n",
        "import matplotlib.pyplot as plt\n",
        "from sklearn.model_selection import train_test_split, GridSearchCV\n",
        "from sklearn.linear_model import SGDClassifier\n",
        "from sklearn.tree import DecisionTreeClassifier\n",
        "from sklearn.preprocessing import StandardScaler\n",
        "from sklearn.pipeline import Pipeline\n",
        "from sklearn.metrics import classification_report, accuracy_score, confusion_matrix, precision_score, recall_score, f1_score, roc_curve, auc, RocCurveDisplay"
      ]
    },
    {
      "cell_type": "markdown",
      "metadata": {
        "id": "1unoG6dLGbIS"
      },
      "source": [
        "## Carga de datos y división en entrenamiento y evaluación\n",
        "\n",
        "La celda siguiente se encarga de la carga de datos (haciendo uso de pandas). Estos serán los que se trabajarán en el resto del laboratorio."
      ]
    },
    {
      "cell_type": "code",
      "execution_count": null,
      "metadata": {
        "id": "ny5ACaXBGbIS"
      },
      "outputs": [],
      "source": [
        "#dataset = pd.read_csv(\"./data/loan_data.csv\", comment=\"#\")\n",
        "dataset = pd.read_csv(\"https://raw.githubusercontent.com/DiploDatos/IntroduccionAprendizajeAutomatico/master/data/loan_data.csv\", comment=\"#\")\n",
        "\n",
        "# División entre instancias y etiquetas\n",
        "X, y = dataset.iloc[:, 1:], dataset.TARGET\n",
        "\n",
        "# división entre entrenamiento y evaluación\n",
        "X_train, X_test, y_train, y_test = train_test_split(X, y, test_size=0.2, random_state=0)"
      ]
    },
    {
      "cell_type": "markdown",
      "source": [
        "Se puede obtener información del dataset"
      ],
      "metadata": {
        "id": "1LiB4BlivGlQ"
      }
    },
    {
      "cell_type": "code",
      "source": [
        "dataset.head()"
      ],
      "metadata": {
        "colab": {
          "base_uri": "https://localhost:8080/",
          "height": 206
        },
        "id": "F51sc589vXLb",
        "outputId": "4a46ef9d-f724-4ae5-9c92-ab7ba292673e"
      },
      "execution_count": null,
      "outputs": [
        {
          "output_type": "execute_result",
          "data": {
            "text/plain": [
              "   TARGET   LOAN  MORTDUE     VALUE   YOJ  DEROG  DELINQ       CLAGE  NINQ  \\\n",
              "0       0   4700  88026.0  115506.0   6.0    0.0     0.0  182.248332   0.0   \n",
              "1       0  19300  39926.0  101208.0   4.0    0.0     0.0  140.051638   0.0   \n",
              "2       0   5700  71556.0   79538.0   2.0    0.0     0.0   92.643085   0.0   \n",
              "3       0  13000  44875.0   57713.0   0.0    1.0     0.0  184.990324   1.0   \n",
              "4       0  19300  72752.0  106084.0  11.0    0.0     0.0  193.707100   1.0   \n",
              "\n",
              "   CLNO    DEBTINC  \n",
              "0  27.0  29.209023  \n",
              "1  14.0  31.545694  \n",
              "2  15.0  41.210012  \n",
              "3  12.0  28.602076  \n",
              "4  13.0  30.686106  "
            ],
            "text/html": [
              "\n",
              "  <div id=\"df-e3bba979-0e9a-4bc5-979b-cf5f471d3f39\" class=\"colab-df-container\">\n",
              "    <div>\n",
              "<style scoped>\n",
              "    .dataframe tbody tr th:only-of-type {\n",
              "        vertical-align: middle;\n",
              "    }\n",
              "\n",
              "    .dataframe tbody tr th {\n",
              "        vertical-align: top;\n",
              "    }\n",
              "\n",
              "    .dataframe thead th {\n",
              "        text-align: right;\n",
              "    }\n",
              "</style>\n",
              "<table border=\"1\" class=\"dataframe\">\n",
              "  <thead>\n",
              "    <tr style=\"text-align: right;\">\n",
              "      <th></th>\n",
              "      <th>TARGET</th>\n",
              "      <th>LOAN</th>\n",
              "      <th>MORTDUE</th>\n",
              "      <th>VALUE</th>\n",
              "      <th>YOJ</th>\n",
              "      <th>DEROG</th>\n",
              "      <th>DELINQ</th>\n",
              "      <th>CLAGE</th>\n",
              "      <th>NINQ</th>\n",
              "      <th>CLNO</th>\n",
              "      <th>DEBTINC</th>\n",
              "    </tr>\n",
              "  </thead>\n",
              "  <tbody>\n",
              "    <tr>\n",
              "      <th>0</th>\n",
              "      <td>0</td>\n",
              "      <td>4700</td>\n",
              "      <td>88026.0</td>\n",
              "      <td>115506.0</td>\n",
              "      <td>6.0</td>\n",
              "      <td>0.0</td>\n",
              "      <td>0.0</td>\n",
              "      <td>182.248332</td>\n",
              "      <td>0.0</td>\n",
              "      <td>27.0</td>\n",
              "      <td>29.209023</td>\n",
              "    </tr>\n",
              "    <tr>\n",
              "      <th>1</th>\n",
              "      <td>0</td>\n",
              "      <td>19300</td>\n",
              "      <td>39926.0</td>\n",
              "      <td>101208.0</td>\n",
              "      <td>4.0</td>\n",
              "      <td>0.0</td>\n",
              "      <td>0.0</td>\n",
              "      <td>140.051638</td>\n",
              "      <td>0.0</td>\n",
              "      <td>14.0</td>\n",
              "      <td>31.545694</td>\n",
              "    </tr>\n",
              "    <tr>\n",
              "      <th>2</th>\n",
              "      <td>0</td>\n",
              "      <td>5700</td>\n",
              "      <td>71556.0</td>\n",
              "      <td>79538.0</td>\n",
              "      <td>2.0</td>\n",
              "      <td>0.0</td>\n",
              "      <td>0.0</td>\n",
              "      <td>92.643085</td>\n",
              "      <td>0.0</td>\n",
              "      <td>15.0</td>\n",
              "      <td>41.210012</td>\n",
              "    </tr>\n",
              "    <tr>\n",
              "      <th>3</th>\n",
              "      <td>0</td>\n",
              "      <td>13000</td>\n",
              "      <td>44875.0</td>\n",
              "      <td>57713.0</td>\n",
              "      <td>0.0</td>\n",
              "      <td>1.0</td>\n",
              "      <td>0.0</td>\n",
              "      <td>184.990324</td>\n",
              "      <td>1.0</td>\n",
              "      <td>12.0</td>\n",
              "      <td>28.602076</td>\n",
              "    </tr>\n",
              "    <tr>\n",
              "      <th>4</th>\n",
              "      <td>0</td>\n",
              "      <td>19300</td>\n",
              "      <td>72752.0</td>\n",
              "      <td>106084.0</td>\n",
              "      <td>11.0</td>\n",
              "      <td>0.0</td>\n",
              "      <td>0.0</td>\n",
              "      <td>193.707100</td>\n",
              "      <td>1.0</td>\n",
              "      <td>13.0</td>\n",
              "      <td>30.686106</td>\n",
              "    </tr>\n",
              "  </tbody>\n",
              "</table>\n",
              "</div>\n",
              "    <div class=\"colab-df-buttons\">\n",
              "\n",
              "  <div class=\"colab-df-container\">\n",
              "    <button class=\"colab-df-convert\" onclick=\"convertToInteractive('df-e3bba979-0e9a-4bc5-979b-cf5f471d3f39')\"\n",
              "            title=\"Convert this dataframe to an interactive table.\"\n",
              "            style=\"display:none;\">\n",
              "\n",
              "  <svg xmlns=\"http://www.w3.org/2000/svg\" height=\"24px\" viewBox=\"0 -960 960 960\">\n",
              "    <path d=\"M120-120v-720h720v720H120Zm60-500h600v-160H180v160Zm220 220h160v-160H400v160Zm0 220h160v-160H400v160ZM180-400h160v-160H180v160Zm440 0h160v-160H620v160ZM180-180h160v-160H180v160Zm440 0h160v-160H620v160Z\"/>\n",
              "  </svg>\n",
              "    </button>\n",
              "\n",
              "  <style>\n",
              "    .colab-df-container {\n",
              "      display:flex;\n",
              "      gap: 12px;\n",
              "    }\n",
              "\n",
              "    .colab-df-convert {\n",
              "      background-color: #E8F0FE;\n",
              "      border: none;\n",
              "      border-radius: 50%;\n",
              "      cursor: pointer;\n",
              "      display: none;\n",
              "      fill: #1967D2;\n",
              "      height: 32px;\n",
              "      padding: 0 0 0 0;\n",
              "      width: 32px;\n",
              "    }\n",
              "\n",
              "    .colab-df-convert:hover {\n",
              "      background-color: #E2EBFA;\n",
              "      box-shadow: 0px 1px 2px rgba(60, 64, 67, 0.3), 0px 1px 3px 1px rgba(60, 64, 67, 0.15);\n",
              "      fill: #174EA6;\n",
              "    }\n",
              "\n",
              "    .colab-df-buttons div {\n",
              "      margin-bottom: 4px;\n",
              "    }\n",
              "\n",
              "    [theme=dark] .colab-df-convert {\n",
              "      background-color: #3B4455;\n",
              "      fill: #D2E3FC;\n",
              "    }\n",
              "\n",
              "    [theme=dark] .colab-df-convert:hover {\n",
              "      background-color: #434B5C;\n",
              "      box-shadow: 0px 1px 3px 1px rgba(0, 0, 0, 0.15);\n",
              "      filter: drop-shadow(0px 1px 2px rgba(0, 0, 0, 0.3));\n",
              "      fill: #FFFFFF;\n",
              "    }\n",
              "  </style>\n",
              "\n",
              "    <script>\n",
              "      const buttonEl =\n",
              "        document.querySelector('#df-e3bba979-0e9a-4bc5-979b-cf5f471d3f39 button.colab-df-convert');\n",
              "      buttonEl.style.display =\n",
              "        google.colab.kernel.accessAllowed ? 'block' : 'none';\n",
              "\n",
              "      async function convertToInteractive(key) {\n",
              "        const element = document.querySelector('#df-e3bba979-0e9a-4bc5-979b-cf5f471d3f39');\n",
              "        const dataTable =\n",
              "          await google.colab.kernel.invokeFunction('convertToInteractive',\n",
              "                                                    [key], {});\n",
              "        if (!dataTable) return;\n",
              "\n",
              "        const docLinkHtml = 'Like what you see? Visit the ' +\n",
              "          '<a target=\"_blank\" href=https://colab.research.google.com/notebooks/data_table.ipynb>data table notebook</a>'\n",
              "          + ' to learn more about interactive tables.';\n",
              "        element.innerHTML = '';\n",
              "        dataTable['output_type'] = 'display_data';\n",
              "        await google.colab.output.renderOutput(dataTable, element);\n",
              "        const docLink = document.createElement('div');\n",
              "        docLink.innerHTML = docLinkHtml;\n",
              "        element.appendChild(docLink);\n",
              "      }\n",
              "    </script>\n",
              "  </div>\n",
              "\n",
              "\n",
              "<div id=\"df-b48974da-0172-45b7-8f7e-9bb466fb07f7\">\n",
              "  <button class=\"colab-df-quickchart\" onclick=\"quickchart('df-b48974da-0172-45b7-8f7e-9bb466fb07f7')\"\n",
              "            title=\"Suggest charts\"\n",
              "            style=\"display:none;\">\n",
              "\n",
              "<svg xmlns=\"http://www.w3.org/2000/svg\" height=\"24px\"viewBox=\"0 0 24 24\"\n",
              "     width=\"24px\">\n",
              "    <g>\n",
              "        <path d=\"M19 3H5c-1.1 0-2 .9-2 2v14c0 1.1.9 2 2 2h14c1.1 0 2-.9 2-2V5c0-1.1-.9-2-2-2zM9 17H7v-7h2v7zm4 0h-2V7h2v10zm4 0h-2v-4h2v4z\"/>\n",
              "    </g>\n",
              "</svg>\n",
              "  </button>\n",
              "\n",
              "<style>\n",
              "  .colab-df-quickchart {\n",
              "      --bg-color: #E8F0FE;\n",
              "      --fill-color: #1967D2;\n",
              "      --hover-bg-color: #E2EBFA;\n",
              "      --hover-fill-color: #174EA6;\n",
              "      --disabled-fill-color: #AAA;\n",
              "      --disabled-bg-color: #DDD;\n",
              "  }\n",
              "\n",
              "  [theme=dark] .colab-df-quickchart {\n",
              "      --bg-color: #3B4455;\n",
              "      --fill-color: #D2E3FC;\n",
              "      --hover-bg-color: #434B5C;\n",
              "      --hover-fill-color: #FFFFFF;\n",
              "      --disabled-bg-color: #3B4455;\n",
              "      --disabled-fill-color: #666;\n",
              "  }\n",
              "\n",
              "  .colab-df-quickchart {\n",
              "    background-color: var(--bg-color);\n",
              "    border: none;\n",
              "    border-radius: 50%;\n",
              "    cursor: pointer;\n",
              "    display: none;\n",
              "    fill: var(--fill-color);\n",
              "    height: 32px;\n",
              "    padding: 0;\n",
              "    width: 32px;\n",
              "  }\n",
              "\n",
              "  .colab-df-quickchart:hover {\n",
              "    background-color: var(--hover-bg-color);\n",
              "    box-shadow: 0 1px 2px rgba(60, 64, 67, 0.3), 0 1px 3px 1px rgba(60, 64, 67, 0.15);\n",
              "    fill: var(--button-hover-fill-color);\n",
              "  }\n",
              "\n",
              "  .colab-df-quickchart-complete:disabled,\n",
              "  .colab-df-quickchart-complete:disabled:hover {\n",
              "    background-color: var(--disabled-bg-color);\n",
              "    fill: var(--disabled-fill-color);\n",
              "    box-shadow: none;\n",
              "  }\n",
              "\n",
              "  .colab-df-spinner {\n",
              "    border: 2px solid var(--fill-color);\n",
              "    border-color: transparent;\n",
              "    border-bottom-color: var(--fill-color);\n",
              "    animation:\n",
              "      spin 1s steps(1) infinite;\n",
              "  }\n",
              "\n",
              "  @keyframes spin {\n",
              "    0% {\n",
              "      border-color: transparent;\n",
              "      border-bottom-color: var(--fill-color);\n",
              "      border-left-color: var(--fill-color);\n",
              "    }\n",
              "    20% {\n",
              "      border-color: transparent;\n",
              "      border-left-color: var(--fill-color);\n",
              "      border-top-color: var(--fill-color);\n",
              "    }\n",
              "    30% {\n",
              "      border-color: transparent;\n",
              "      border-left-color: var(--fill-color);\n",
              "      border-top-color: var(--fill-color);\n",
              "      border-right-color: var(--fill-color);\n",
              "    }\n",
              "    40% {\n",
              "      border-color: transparent;\n",
              "      border-right-color: var(--fill-color);\n",
              "      border-top-color: var(--fill-color);\n",
              "    }\n",
              "    60% {\n",
              "      border-color: transparent;\n",
              "      border-right-color: var(--fill-color);\n",
              "    }\n",
              "    80% {\n",
              "      border-color: transparent;\n",
              "      border-right-color: var(--fill-color);\n",
              "      border-bottom-color: var(--fill-color);\n",
              "    }\n",
              "    90% {\n",
              "      border-color: transparent;\n",
              "      border-bottom-color: var(--fill-color);\n",
              "    }\n",
              "  }\n",
              "</style>\n",
              "\n",
              "  <script>\n",
              "    async function quickchart(key) {\n",
              "      const quickchartButtonEl =\n",
              "        document.querySelector('#' + key + ' button');\n",
              "      quickchartButtonEl.disabled = true;  // To prevent multiple clicks.\n",
              "      quickchartButtonEl.classList.add('colab-df-spinner');\n",
              "      try {\n",
              "        const charts = await google.colab.kernel.invokeFunction(\n",
              "            'suggestCharts', [key], {});\n",
              "      } catch (error) {\n",
              "        console.error('Error during call to suggestCharts:', error);\n",
              "      }\n",
              "      quickchartButtonEl.classList.remove('colab-df-spinner');\n",
              "      quickchartButtonEl.classList.add('colab-df-quickchart-complete');\n",
              "    }\n",
              "    (() => {\n",
              "      let quickchartButtonEl =\n",
              "        document.querySelector('#df-b48974da-0172-45b7-8f7e-9bb466fb07f7 button');\n",
              "      quickchartButtonEl.style.display =\n",
              "        google.colab.kernel.accessAllowed ? 'block' : 'none';\n",
              "    })();\n",
              "  </script>\n",
              "</div>\n",
              "\n",
              "    </div>\n",
              "  </div>\n"
            ],
            "application/vnd.google.colaboratory.intrinsic+json": {
              "type": "dataframe",
              "variable_name": "dataset",
              "summary": "{\n  \"name\": \"dataset\",\n  \"rows\": 1854,\n  \"fields\": [\n    {\n      \"column\": \"TARGET\",\n      \"properties\": {\n        \"dtype\": \"number\",\n        \"std\": 0,\n        \"min\": 0,\n        \"max\": 1,\n        \"num_unique_values\": 2,\n        \"samples\": [\n          1,\n          0\n        ],\n        \"semantic_type\": \"\",\n        \"description\": \"\"\n      }\n    },\n    {\n      \"column\": \"LOAN\",\n      \"properties\": {\n        \"dtype\": \"number\",\n        \"std\": 11000,\n        \"min\": 1700,\n        \"max\": 89800,\n        \"num_unique_values\": 397,\n        \"samples\": [\n          7000,\n          31800\n        ],\n        \"semantic_type\": \"\",\n        \"description\": \"\"\n      }\n    },\n    {\n      \"column\": \"MORTDUE\",\n      \"properties\": {\n        \"dtype\": \"number\",\n        \"std\": 46227.02658491425,\n        \"min\": 5627.0,\n        \"max\": 399412.0,\n        \"num_unique_values\": 1843,\n        \"samples\": [\n          25972.0,\n          35448.0\n        ],\n        \"semantic_type\": \"\",\n        \"description\": \"\"\n      }\n    },\n    {\n      \"column\": \"VALUE\",\n      \"properties\": {\n        \"dtype\": \"number\",\n        \"std\": 56039.68506642442,\n        \"min\": 21144.0,\n        \"max\": 512650.0,\n        \"num_unique_values\": 1846,\n        \"samples\": [\n          35910.0,\n          94849.0\n        ],\n        \"semantic_type\": \"\",\n        \"description\": \"\"\n      }\n    },\n    {\n      \"column\": \"YOJ\",\n      \"properties\": {\n        \"dtype\": \"number\",\n        \"std\": 7.552676673864392,\n        \"min\": 0.0,\n        \"max\": 41.0,\n        \"num_unique_values\": 36,\n        \"samples\": [\n          41.0,\n          15.0\n        ],\n        \"semantic_type\": \"\",\n        \"description\": \"\"\n      }\n    },\n    {\n      \"column\": \"DEROG\",\n      \"properties\": {\n        \"dtype\": \"number\",\n        \"std\": 0.7048822155153706,\n        \"min\": 0.0,\n        \"max\": 10.0,\n        \"num_unique_values\": 11,\n        \"samples\": [\n          5.0,\n          0.0\n        ],\n        \"semantic_type\": \"\",\n        \"description\": \"\"\n      }\n    },\n    {\n      \"column\": \"DELINQ\",\n      \"properties\": {\n        \"dtype\": \"number\",\n        \"std\": 0.9284522101815268,\n        \"min\": 0.0,\n        \"max\": 10.0,\n        \"num_unique_values\": 10,\n        \"samples\": [\n          5.0,\n          1.0\n        ],\n        \"semantic_type\": \"\",\n        \"description\": \"\"\n      }\n    },\n    {\n      \"column\": \"CLAGE\",\n      \"properties\": {\n        \"dtype\": \"number\",\n        \"std\": 84.83830777196329,\n        \"min\": 0.4867114508,\n        \"max\": 1168.2335609000002,\n        \"num_unique_values\": 1854,\n        \"samples\": [\n          205.8658949,\n          204.10541489\n        ],\n        \"semantic_type\": \"\",\n        \"description\": \"\"\n      }\n    },\n    {\n      \"column\": \"NINQ\",\n      \"properties\": {\n        \"dtype\": \"number\",\n        \"std\": 1.6645554823023199,\n        \"min\": 0.0,\n        \"max\": 13.0,\n        \"num_unique_values\": 13,\n        \"samples\": [\n          11.0,\n          7.0\n        ],\n        \"semantic_type\": \"\",\n        \"description\": \"\"\n      }\n    },\n    {\n      \"column\": \"CLNO\",\n      \"properties\": {\n        \"dtype\": \"number\",\n        \"std\": 9.510840306977666,\n        \"min\": 0.0,\n        \"max\": 65.0,\n        \"num_unique_values\": 57,\n        \"samples\": [\n          27.0,\n          16.0\n        ],\n        \"semantic_type\": \"\",\n        \"description\": \"\"\n      }\n    },\n    {\n      \"column\": \"DEBTINC\",\n      \"properties\": {\n        \"dtype\": \"number\",\n        \"std\": 9.308794025658523,\n        \"min\": 0.8381175254000001,\n        \"max\": 144.18900129,\n        \"num_unique_values\": 1854,\n        \"samples\": [\n          41.654211317,\n          43.33840720600001\n        ],\n        \"semantic_type\": \"\",\n        \"description\": \"\"\n      }\n    }\n  ]\n}"
            }
          },
          "metadata": {},
          "execution_count": 3
        }
      ]
    },
    {
      "cell_type": "code",
      "source": [
        "dataset.describe()"
      ],
      "metadata": {
        "colab": {
          "base_uri": "https://localhost:8080/",
          "height": 300
        },
        "id": "itjuFvgHvZTQ",
        "outputId": "3aec8119-7994-424b-826d-c95e69996a79"
      },
      "execution_count": null,
      "outputs": [
        {
          "output_type": "execute_result",
          "data": {
            "text/plain": [
              "            TARGET          LOAN        MORTDUE          VALUE          YOJ  \\\n",
              "count  1854.000000   1854.000000    1854.000000    1854.000000  1854.000000   \n",
              "mean      0.166667  19111.758360   76316.051780  107321.088457     8.900216   \n",
              "std       0.372779  11000.345961   46227.026585   56039.685066     7.552677   \n",
              "min       0.000000   1700.000000    5627.000000   21144.000000     0.000000   \n",
              "25%       0.000000  12000.000000   48984.750000   70787.250000     3.000000   \n",
              "50%       0.000000  17000.000000   67201.000000   94198.000000     7.000000   \n",
              "75%       0.000000  23900.000000   93731.500000  122976.250000    13.000000   \n",
              "max       1.000000  89800.000000  399412.000000  512650.000000    41.000000   \n",
              "\n",
              "             DEROG       DELINQ        CLAGE         NINQ         CLNO  \\\n",
              "count  1854.000000  1854.000000  1854.000000  1854.000000  1854.000000   \n",
              "mean      0.187702     0.319849   180.300783     1.128910    21.857066   \n",
              "std       0.704882     0.928452    84.838308     1.664555     9.510840   \n",
              "min       0.000000     0.000000     0.486711     0.000000     0.000000   \n",
              "25%       0.000000     0.000000   116.970718     0.000000    16.000000   \n",
              "50%       0.000000     0.000000   174.967815     1.000000    21.000000   \n",
              "75%       0.000000     0.000000   232.261800     2.000000    27.000000   \n",
              "max      10.000000    10.000000  1168.233561    13.000000    65.000000   \n",
              "\n",
              "           DEBTINC  \n",
              "count  1854.000000  \n",
              "mean     34.573408  \n",
              "std       9.308794  \n",
              "min       0.838118  \n",
              "25%      29.427210  \n",
              "50%      35.363407  \n",
              "75%      39.357987  \n",
              "max     144.189001  "
            ],
            "text/html": [
              "\n",
              "  <div id=\"df-9fe71f8a-a91f-4492-a7aa-f2f034eabe07\" class=\"colab-df-container\">\n",
              "    <div>\n",
              "<style scoped>\n",
              "    .dataframe tbody tr th:only-of-type {\n",
              "        vertical-align: middle;\n",
              "    }\n",
              "\n",
              "    .dataframe tbody tr th {\n",
              "        vertical-align: top;\n",
              "    }\n",
              "\n",
              "    .dataframe thead th {\n",
              "        text-align: right;\n",
              "    }\n",
              "</style>\n",
              "<table border=\"1\" class=\"dataframe\">\n",
              "  <thead>\n",
              "    <tr style=\"text-align: right;\">\n",
              "      <th></th>\n",
              "      <th>TARGET</th>\n",
              "      <th>LOAN</th>\n",
              "      <th>MORTDUE</th>\n",
              "      <th>VALUE</th>\n",
              "      <th>YOJ</th>\n",
              "      <th>DEROG</th>\n",
              "      <th>DELINQ</th>\n",
              "      <th>CLAGE</th>\n",
              "      <th>NINQ</th>\n",
              "      <th>CLNO</th>\n",
              "      <th>DEBTINC</th>\n",
              "    </tr>\n",
              "  </thead>\n",
              "  <tbody>\n",
              "    <tr>\n",
              "      <th>count</th>\n",
              "      <td>1854.000000</td>\n",
              "      <td>1854.000000</td>\n",
              "      <td>1854.000000</td>\n",
              "      <td>1854.000000</td>\n",
              "      <td>1854.000000</td>\n",
              "      <td>1854.000000</td>\n",
              "      <td>1854.000000</td>\n",
              "      <td>1854.000000</td>\n",
              "      <td>1854.000000</td>\n",
              "      <td>1854.000000</td>\n",
              "      <td>1854.000000</td>\n",
              "    </tr>\n",
              "    <tr>\n",
              "      <th>mean</th>\n",
              "      <td>0.166667</td>\n",
              "      <td>19111.758360</td>\n",
              "      <td>76316.051780</td>\n",
              "      <td>107321.088457</td>\n",
              "      <td>8.900216</td>\n",
              "      <td>0.187702</td>\n",
              "      <td>0.319849</td>\n",
              "      <td>180.300783</td>\n",
              "      <td>1.128910</td>\n",
              "      <td>21.857066</td>\n",
              "      <td>34.573408</td>\n",
              "    </tr>\n",
              "    <tr>\n",
              "      <th>std</th>\n",
              "      <td>0.372779</td>\n",
              "      <td>11000.345961</td>\n",
              "      <td>46227.026585</td>\n",
              "      <td>56039.685066</td>\n",
              "      <td>7.552677</td>\n",
              "      <td>0.704882</td>\n",
              "      <td>0.928452</td>\n",
              "      <td>84.838308</td>\n",
              "      <td>1.664555</td>\n",
              "      <td>9.510840</td>\n",
              "      <td>9.308794</td>\n",
              "    </tr>\n",
              "    <tr>\n",
              "      <th>min</th>\n",
              "      <td>0.000000</td>\n",
              "      <td>1700.000000</td>\n",
              "      <td>5627.000000</td>\n",
              "      <td>21144.000000</td>\n",
              "      <td>0.000000</td>\n",
              "      <td>0.000000</td>\n",
              "      <td>0.000000</td>\n",
              "      <td>0.486711</td>\n",
              "      <td>0.000000</td>\n",
              "      <td>0.000000</td>\n",
              "      <td>0.838118</td>\n",
              "    </tr>\n",
              "    <tr>\n",
              "      <th>25%</th>\n",
              "      <td>0.000000</td>\n",
              "      <td>12000.000000</td>\n",
              "      <td>48984.750000</td>\n",
              "      <td>70787.250000</td>\n",
              "      <td>3.000000</td>\n",
              "      <td>0.000000</td>\n",
              "      <td>0.000000</td>\n",
              "      <td>116.970718</td>\n",
              "      <td>0.000000</td>\n",
              "      <td>16.000000</td>\n",
              "      <td>29.427210</td>\n",
              "    </tr>\n",
              "    <tr>\n",
              "      <th>50%</th>\n",
              "      <td>0.000000</td>\n",
              "      <td>17000.000000</td>\n",
              "      <td>67201.000000</td>\n",
              "      <td>94198.000000</td>\n",
              "      <td>7.000000</td>\n",
              "      <td>0.000000</td>\n",
              "      <td>0.000000</td>\n",
              "      <td>174.967815</td>\n",
              "      <td>1.000000</td>\n",
              "      <td>21.000000</td>\n",
              "      <td>35.363407</td>\n",
              "    </tr>\n",
              "    <tr>\n",
              "      <th>75%</th>\n",
              "      <td>0.000000</td>\n",
              "      <td>23900.000000</td>\n",
              "      <td>93731.500000</td>\n",
              "      <td>122976.250000</td>\n",
              "      <td>13.000000</td>\n",
              "      <td>0.000000</td>\n",
              "      <td>0.000000</td>\n",
              "      <td>232.261800</td>\n",
              "      <td>2.000000</td>\n",
              "      <td>27.000000</td>\n",
              "      <td>39.357987</td>\n",
              "    </tr>\n",
              "    <tr>\n",
              "      <th>max</th>\n",
              "      <td>1.000000</td>\n",
              "      <td>89800.000000</td>\n",
              "      <td>399412.000000</td>\n",
              "      <td>512650.000000</td>\n",
              "      <td>41.000000</td>\n",
              "      <td>10.000000</td>\n",
              "      <td>10.000000</td>\n",
              "      <td>1168.233561</td>\n",
              "      <td>13.000000</td>\n",
              "      <td>65.000000</td>\n",
              "      <td>144.189001</td>\n",
              "    </tr>\n",
              "  </tbody>\n",
              "</table>\n",
              "</div>\n",
              "    <div class=\"colab-df-buttons\">\n",
              "\n",
              "  <div class=\"colab-df-container\">\n",
              "    <button class=\"colab-df-convert\" onclick=\"convertToInteractive('df-9fe71f8a-a91f-4492-a7aa-f2f034eabe07')\"\n",
              "            title=\"Convert this dataframe to an interactive table.\"\n",
              "            style=\"display:none;\">\n",
              "\n",
              "  <svg xmlns=\"http://www.w3.org/2000/svg\" height=\"24px\" viewBox=\"0 -960 960 960\">\n",
              "    <path d=\"M120-120v-720h720v720H120Zm60-500h600v-160H180v160Zm220 220h160v-160H400v160Zm0 220h160v-160H400v160ZM180-400h160v-160H180v160Zm440 0h160v-160H620v160ZM180-180h160v-160H180v160Zm440 0h160v-160H620v160Z\"/>\n",
              "  </svg>\n",
              "    </button>\n",
              "\n",
              "  <style>\n",
              "    .colab-df-container {\n",
              "      display:flex;\n",
              "      gap: 12px;\n",
              "    }\n",
              "\n",
              "    .colab-df-convert {\n",
              "      background-color: #E8F0FE;\n",
              "      border: none;\n",
              "      border-radius: 50%;\n",
              "      cursor: pointer;\n",
              "      display: none;\n",
              "      fill: #1967D2;\n",
              "      height: 32px;\n",
              "      padding: 0 0 0 0;\n",
              "      width: 32px;\n",
              "    }\n",
              "\n",
              "    .colab-df-convert:hover {\n",
              "      background-color: #E2EBFA;\n",
              "      box-shadow: 0px 1px 2px rgba(60, 64, 67, 0.3), 0px 1px 3px 1px rgba(60, 64, 67, 0.15);\n",
              "      fill: #174EA6;\n",
              "    }\n",
              "\n",
              "    .colab-df-buttons div {\n",
              "      margin-bottom: 4px;\n",
              "    }\n",
              "\n",
              "    [theme=dark] .colab-df-convert {\n",
              "      background-color: #3B4455;\n",
              "      fill: #D2E3FC;\n",
              "    }\n",
              "\n",
              "    [theme=dark] .colab-df-convert:hover {\n",
              "      background-color: #434B5C;\n",
              "      box-shadow: 0px 1px 3px 1px rgba(0, 0, 0, 0.15);\n",
              "      filter: drop-shadow(0px 1px 2px rgba(0, 0, 0, 0.3));\n",
              "      fill: #FFFFFF;\n",
              "    }\n",
              "  </style>\n",
              "\n",
              "    <script>\n",
              "      const buttonEl =\n",
              "        document.querySelector('#df-9fe71f8a-a91f-4492-a7aa-f2f034eabe07 button.colab-df-convert');\n",
              "      buttonEl.style.display =\n",
              "        google.colab.kernel.accessAllowed ? 'block' : 'none';\n",
              "\n",
              "      async function convertToInteractive(key) {\n",
              "        const element = document.querySelector('#df-9fe71f8a-a91f-4492-a7aa-f2f034eabe07');\n",
              "        const dataTable =\n",
              "          await google.colab.kernel.invokeFunction('convertToInteractive',\n",
              "                                                    [key], {});\n",
              "        if (!dataTable) return;\n",
              "\n",
              "        const docLinkHtml = 'Like what you see? Visit the ' +\n",
              "          '<a target=\"_blank\" href=https://colab.research.google.com/notebooks/data_table.ipynb>data table notebook</a>'\n",
              "          + ' to learn more about interactive tables.';\n",
              "        element.innerHTML = '';\n",
              "        dataTable['output_type'] = 'display_data';\n",
              "        await google.colab.output.renderOutput(dataTable, element);\n",
              "        const docLink = document.createElement('div');\n",
              "        docLink.innerHTML = docLinkHtml;\n",
              "        element.appendChild(docLink);\n",
              "      }\n",
              "    </script>\n",
              "  </div>\n",
              "\n",
              "\n",
              "<div id=\"df-1c14d010-f20c-4259-8e67-1ce20cc8f02f\">\n",
              "  <button class=\"colab-df-quickchart\" onclick=\"quickchart('df-1c14d010-f20c-4259-8e67-1ce20cc8f02f')\"\n",
              "            title=\"Suggest charts\"\n",
              "            style=\"display:none;\">\n",
              "\n",
              "<svg xmlns=\"http://www.w3.org/2000/svg\" height=\"24px\"viewBox=\"0 0 24 24\"\n",
              "     width=\"24px\">\n",
              "    <g>\n",
              "        <path d=\"M19 3H5c-1.1 0-2 .9-2 2v14c0 1.1.9 2 2 2h14c1.1 0 2-.9 2-2V5c0-1.1-.9-2-2-2zM9 17H7v-7h2v7zm4 0h-2V7h2v10zm4 0h-2v-4h2v4z\"/>\n",
              "    </g>\n",
              "</svg>\n",
              "  </button>\n",
              "\n",
              "<style>\n",
              "  .colab-df-quickchart {\n",
              "      --bg-color: #E8F0FE;\n",
              "      --fill-color: #1967D2;\n",
              "      --hover-bg-color: #E2EBFA;\n",
              "      --hover-fill-color: #174EA6;\n",
              "      --disabled-fill-color: #AAA;\n",
              "      --disabled-bg-color: #DDD;\n",
              "  }\n",
              "\n",
              "  [theme=dark] .colab-df-quickchart {\n",
              "      --bg-color: #3B4455;\n",
              "      --fill-color: #D2E3FC;\n",
              "      --hover-bg-color: #434B5C;\n",
              "      --hover-fill-color: #FFFFFF;\n",
              "      --disabled-bg-color: #3B4455;\n",
              "      --disabled-fill-color: #666;\n",
              "  }\n",
              "\n",
              "  .colab-df-quickchart {\n",
              "    background-color: var(--bg-color);\n",
              "    border: none;\n",
              "    border-radius: 50%;\n",
              "    cursor: pointer;\n",
              "    display: none;\n",
              "    fill: var(--fill-color);\n",
              "    height: 32px;\n",
              "    padding: 0;\n",
              "    width: 32px;\n",
              "  }\n",
              "\n",
              "  .colab-df-quickchart:hover {\n",
              "    background-color: var(--hover-bg-color);\n",
              "    box-shadow: 0 1px 2px rgba(60, 64, 67, 0.3), 0 1px 3px 1px rgba(60, 64, 67, 0.15);\n",
              "    fill: var(--button-hover-fill-color);\n",
              "  }\n",
              "\n",
              "  .colab-df-quickchart-complete:disabled,\n",
              "  .colab-df-quickchart-complete:disabled:hover {\n",
              "    background-color: var(--disabled-bg-color);\n",
              "    fill: var(--disabled-fill-color);\n",
              "    box-shadow: none;\n",
              "  }\n",
              "\n",
              "  .colab-df-spinner {\n",
              "    border: 2px solid var(--fill-color);\n",
              "    border-color: transparent;\n",
              "    border-bottom-color: var(--fill-color);\n",
              "    animation:\n",
              "      spin 1s steps(1) infinite;\n",
              "  }\n",
              "\n",
              "  @keyframes spin {\n",
              "    0% {\n",
              "      border-color: transparent;\n",
              "      border-bottom-color: var(--fill-color);\n",
              "      border-left-color: var(--fill-color);\n",
              "    }\n",
              "    20% {\n",
              "      border-color: transparent;\n",
              "      border-left-color: var(--fill-color);\n",
              "      border-top-color: var(--fill-color);\n",
              "    }\n",
              "    30% {\n",
              "      border-color: transparent;\n",
              "      border-left-color: var(--fill-color);\n",
              "      border-top-color: var(--fill-color);\n",
              "      border-right-color: var(--fill-color);\n",
              "    }\n",
              "    40% {\n",
              "      border-color: transparent;\n",
              "      border-right-color: var(--fill-color);\n",
              "      border-top-color: var(--fill-color);\n",
              "    }\n",
              "    60% {\n",
              "      border-color: transparent;\n",
              "      border-right-color: var(--fill-color);\n",
              "    }\n",
              "    80% {\n",
              "      border-color: transparent;\n",
              "      border-right-color: var(--fill-color);\n",
              "      border-bottom-color: var(--fill-color);\n",
              "    }\n",
              "    90% {\n",
              "      border-color: transparent;\n",
              "      border-bottom-color: var(--fill-color);\n",
              "    }\n",
              "  }\n",
              "</style>\n",
              "\n",
              "  <script>\n",
              "    async function quickchart(key) {\n",
              "      const quickchartButtonEl =\n",
              "        document.querySelector('#' + key + ' button');\n",
              "      quickchartButtonEl.disabled = true;  // To prevent multiple clicks.\n",
              "      quickchartButtonEl.classList.add('colab-df-spinner');\n",
              "      try {\n",
              "        const charts = await google.colab.kernel.invokeFunction(\n",
              "            'suggestCharts', [key], {});\n",
              "      } catch (error) {\n",
              "        console.error('Error during call to suggestCharts:', error);\n",
              "      }\n",
              "      quickchartButtonEl.classList.remove('colab-df-spinner');\n",
              "      quickchartButtonEl.classList.add('colab-df-quickchart-complete');\n",
              "    }\n",
              "    (() => {\n",
              "      let quickchartButtonEl =\n",
              "        document.querySelector('#df-1c14d010-f20c-4259-8e67-1ce20cc8f02f button');\n",
              "      quickchartButtonEl.style.display =\n",
              "        google.colab.kernel.accessAllowed ? 'block' : 'none';\n",
              "    })();\n",
              "  </script>\n",
              "</div>\n",
              "\n",
              "    </div>\n",
              "  </div>\n"
            ],
            "application/vnd.google.colaboratory.intrinsic+json": {
              "type": "dataframe",
              "summary": "{\n  \"name\": \"dataset\",\n  \"rows\": 8,\n  \"fields\": [\n    {\n      \"column\": \"TARGET\",\n      \"properties\": {\n        \"dtype\": \"number\",\n        \"std\": 655.4103226932741,\n        \"min\": 0.0,\n        \"max\": 1854.0,\n        \"num_unique_values\": 5,\n        \"samples\": [\n          0.16666666666666666,\n          1.0,\n          0.37277854339768673\n        ],\n        \"semantic_type\": \"\",\n        \"description\": \"\"\n      }\n    },\n    {\n      \"column\": \"LOAN\",\n      \"properties\": {\n        \"dtype\": \"number\",\n        \"std\": 28467.32184377706,\n        \"min\": 1700.0,\n        \"max\": 89800.0,\n        \"num_unique_values\": 8,\n        \"samples\": [\n          19111.75836030205,\n          17000.0,\n          1854.0\n        ],\n        \"semantic_type\": \"\",\n        \"description\": \"\"\n      }\n    },\n    {\n      \"column\": \"MORTDUE\",\n      \"properties\": {\n        \"dtype\": \"number\",\n        \"std\": 128116.45380024379,\n        \"min\": 1854.0,\n        \"max\": 399412.0,\n        \"num_unique_values\": 8,\n        \"samples\": [\n          76316.05177993528,\n          67201.0,\n          1854.0\n        ],\n        \"semantic_type\": \"\",\n        \"description\": \"\"\n      }\n    },\n    {\n      \"column\": \"VALUE\",\n      \"properties\": {\n        \"dtype\": \"number\",\n        \"std\": 162639.9427351231,\n        \"min\": 1854.0,\n        \"max\": 512650.0,\n        \"num_unique_values\": 8,\n        \"samples\": [\n          107321.08845738943,\n          94198.0,\n          1854.0\n        ],\n        \"semantic_type\": \"\",\n        \"description\": \"\"\n      }\n    },\n    {\n      \"column\": \"YOJ\",\n      \"properties\": {\n        \"dtype\": \"number\",\n        \"std\": 651.5472527145978,\n        \"min\": 0.0,\n        \"max\": 1854.0,\n        \"num_unique_values\": 8,\n        \"samples\": [\n          8.900215749730313,\n          7.0,\n          1854.0\n        ],\n        \"semantic_type\": \"\",\n        \"description\": \"\"\n      }\n    },\n    {\n      \"column\": \"DEROG\",\n      \"properties\": {\n        \"dtype\": \"number\",\n        \"std\": 654.9469431220693,\n        \"min\": 0.0,\n        \"max\": 1854.0,\n        \"num_unique_values\": 5,\n        \"samples\": [\n          0.18770226537216828,\n          10.0,\n          0.7048822155153706\n        ],\n        \"semantic_type\": \"\",\n        \"description\": \"\"\n      }\n    },\n    {\n      \"column\": \"DELINQ\",\n      \"properties\": {\n        \"dtype\": \"number\",\n        \"std\": 654.9289013966663,\n        \"min\": 0.0,\n        \"max\": 1854.0,\n        \"num_unique_values\": 5,\n        \"samples\": [\n          0.319848975188781,\n          10.0,\n          0.9284522101815268\n        ],\n        \"semantic_type\": \"\",\n        \"description\": \"\"\n      }\n    },\n    {\n      \"column\": \"CLAGE\",\n      \"properties\": {\n        \"dtype\": \"number\",\n        \"std\": 667.9989669162704,\n        \"min\": 0.4867114508,\n        \"max\": 1854.0,\n        \"num_unique_values\": 8,\n        \"samples\": [\n          180.30078270290622,\n          174.96781503,\n          1854.0\n        ],\n        \"semantic_type\": \"\",\n        \"description\": \"\"\n      }\n    },\n    {\n      \"column\": \"NINQ\",\n      \"properties\": {\n        \"dtype\": \"number\",\n        \"std\": 654.5526961676585,\n        \"min\": 0.0,\n        \"max\": 1854.0,\n        \"num_unique_values\": 7,\n        \"samples\": [\n          1854.0,\n          1.12891046386192,\n          2.0\n        ],\n        \"semantic_type\": \"\",\n        \"description\": \"\"\n      }\n    },\n    {\n      \"column\": \"CLNO\",\n      \"properties\": {\n        \"dtype\": \"number\",\n        \"std\": 647.668944287657,\n        \"min\": 0.0,\n        \"max\": 1854.0,\n        \"num_unique_values\": 8,\n        \"samples\": [\n          21.857065803667744,\n          21.0,\n          1854.0\n        ],\n        \"semantic_type\": \"\",\n        \"description\": \"\"\n      }\n    },\n    {\n      \"column\": \"DEBTINC\",\n      \"properties\": {\n        \"dtype\": \"number\",\n        \"std\": 642.1862780853536,\n        \"min\": 0.8381175254000001,\n        \"max\": 1854.0,\n        \"num_unique_values\": 8,\n        \"samples\": [\n          34.57340818545302,\n          35.3634074135,\n          1854.0\n        ],\n        \"semantic_type\": \"\",\n        \"description\": \"\"\n      }\n    }\n  ]\n}"
            }
          },
          "metadata": {},
          "execution_count": 4
        }
      ]
    },
    {
      "cell_type": "markdown",
      "source": [
        "Se puede observar que la variable objetivo esta desbalanceada"
      ],
      "metadata": {
        "id": "gtKdO1LfvJhW"
      }
    },
    {
      "cell_type": "code",
      "source": [
        "dataset.TARGET.value_counts()"
      ],
      "metadata": {
        "colab": {
          "base_uri": "https://localhost:8080/"
        },
        "id": "D_cBBCSUJ4vP",
        "outputId": "d75bbcdb-b510-4a4e-8e26-598f6e316373"
      },
      "execution_count": null,
      "outputs": [
        {
          "output_type": "execute_result",
          "data": {
            "text/plain": [
              "TARGET\n",
              "0    1545\n",
              "1     309\n",
              "Name: count, dtype: int64"
            ]
          },
          "metadata": {},
          "execution_count": 5
        }
      ]
    },
    {
      "cell_type": "code",
      "source": [
        "plt.pie(dataset.TARGET.value_counts(), labels=['loan repaid [0]', 'client defaulted on loan [1]'], autopct='%1.1f%%')\n",
        "plt.title('Distribución de la variable objetivo')\n",
        "plt.show()"
      ],
      "metadata": {
        "colab": {
          "base_uri": "https://localhost:8080/",
          "height": 429
        },
        "id": "IOhWdI55gJmW",
        "outputId": "06a207e3-3277-4ce7-9955-f89dae35203e"
      },
      "execution_count": null,
      "outputs": [
        {
          "output_type": "display_data",
          "data": {
            "text/plain": [
              "<Figure size 640x480 with 1 Axes>"
            ],
            "image/png": "[encoded data removed]"
          },
          "metadata": {}
        }
      ]
    },
    {
      "cell_type": "markdown",
      "metadata": {
        "id": "DrGdsfl2GbIT"
      },
      "source": [
        "\n",
        "Documentación:\n",
        "\n",
        "- https://scikit-learn.org/stable/modules/generated/sklearn.model_selection.train_test_split.html"
      ]
    },
    {
      "cell_type": "markdown",
      "metadata": {
        "id": "KMP52gZ-GbIT"
      },
      "source": [
        "## Ejercicio 1: Descripción de los Datos y la Tarea\n",
        "\n",
        "Responder las siguientes preguntas:\n",
        "\n",
        "1. ¿De qué se trata el conjunto de datos?\n",
        "2. ¿Cuál es la variable objetivo que hay que predecir? ¿Qué significado tiene?\n",
        "3. ¿Qué información (atributos) hay disponible para hacer la predicción?\n",
        "4. ¿Qué atributos imagina ud. que son los más determinantes para la predicción?\n",
        "\n",
        "**No hace falta escribir código para responder estas preguntas.**"
      ]
    },
    {
      "cell_type": "markdown",
      "source": [
        "### Respuestas\n",
        "1. Es un conjunto de datos del departamento de creditos de un banco con la finalidad de automatizar el proceso de aprobacion de créditos con garantía hipotecaria.\n",
        "\n",
        "2. La variable objetivo indica si el cliente pago o no el prestamo.\n",
        "    - 1 = el cliente no cumplio con el pago del prestamo\n",
        "    - 0 = prestamo pagado.\n",
        "\n",
        "3. Los atributos son:\n",
        "    - Loan: monto del prestamo\n",
        "    - Mortdue: monto a pagar de la hipoteca existente\n",
        "    - Value: valor de la propiedad actual\n",
        "    - Yoj: años en el trabajo actual\n",
        "    - Derog: número de informes derogatorios importantes\n",
        "    - Deliq: número de lineas de crédito morosas\n",
        "    - Clage: años de la línea comercial más antigua en meses\n",
        "    - Ninq: número de líneas de crédito recientes\n",
        "    - Clno: número de líneas de crédito\n",
        "    - Debtinc: relación deuda-ingresos\n",
        "\n",
        "4. Los atributos más determinantes para la predicción serán: Mortdue, Value, Debtinc"
      ],
      "metadata": {
        "id": "L2MzSfpLK5bm"
      }
    },
    {
      "cell_type": "markdown",
      "source": [
        "Se puede ver la correlación entre las distintas variables"
      ],
      "metadata": {
        "id": "vDQN00ply0fB"
      }
    },
    {
      "cell_type": "code",
      "source": [
        "corr = dataset.corr()\n",
        "mask = np.triu(np.ones_like(corr, dtype=bool))\n",
        "sns.heatmap(data=corr, mask=mask, annot=True, fmt='.2f', cmap='viridis')\n",
        "plt.title('Matriz de correlación')"
      ],
      "metadata": {
        "colab": {
          "base_uri": "https://localhost:8080/",
          "height": 525
        },
        "id": "VX0ZdkQqyzlf",
        "outputId": "f1503fb6-c0d0-4716-9faa-4c9dc7e02b82"
      },
      "execution_count": null,
      "outputs": [
        {
          "output_type": "execute_result",
          "data": {
            "text/plain": [
              "Text(0.5, 1.0, 'Matriz de correlación')"
            ]
          },
          "metadata": {},
          "execution_count": 7
        },
        {
          "output_type": "display_data",
          "data": {
            "text/plain": [
              "<Figure size 640x480 with 2 Axes>"
            ],
            "image/png": "[encoded data removed]"
          },
          "metadata": {}
        }
      ]
    },
    {
      "cell_type": "markdown",
      "source": [
        "Según la correlación, las variables más determinantes serán: DELINQ, DEROG y DEBTINC"
      ],
      "metadata": {
        "id": "ueXfzPLfzjer"
      }
    },
    {
      "cell_type": "markdown",
      "metadata": {
        "id": "q8oqRyFQGbIT"
      },
      "source": [
        "## Ejercicio 2: Predicción con Modelos Lineales\n",
        "\n",
        "En este ejercicio se entrenarán modelos lineales de clasificación para predecir la variable objetivo.\n",
        "\n",
        "Para ello, deberán utilizar la clase SGDClassifier de scikit-learn.\n",
        "\n",
        "Documentación:\n",
        "- https://scikit-learn.org/stable/modules/sgd.html\n",
        "- https://scikit-learn.org/stable/modules/generated/sklearn.linear_model.SGDClassifier.html\n"
      ]
    },
    {
      "cell_type": "markdown",
      "metadata": {
        "id": "MhEiKTePGbIT"
      },
      "source": [
        "### Ejercicio 2.1: SGDClassifier con hiperparámetros por defecto\n",
        "\n",
        "Entrenar y evaluar el clasificador SGDClassifier usando los valores por omisión de scikit-learn para todos los parámetros. Únicamente **fijar la semilla aleatoria** para hacer repetible el experimento.\n",
        "\n",
        "Evaluar sobre el conjunto de **entrenamiento** y sobre el conjunto de **evaluación**, reportando:\n",
        "- Accuracy\n",
        "- Precision\n",
        "- Recall\n",
        "- F1\n",
        "- matriz de confusión"
      ]
    },
    {
      "cell_type": "markdown",
      "metadata": {
        "id": "Oz6gYnX9GbIT"
      },
      "source": [
        "### Ejercicio 2.2: Ajuste de Hiperparámetros\n",
        "\n",
        "Seleccionar valores para los hiperparámetros principales del SGDClassifier. Como mínimo, probar diferentes funciones de loss, tasas de entrenamiento y tasas de regularización.\n",
        "\n",
        "Para ello, usar grid-search y 5-fold cross-validation sobre el conjunto de entrenamiento para explorar muchas combinaciones posibles de valores.\n",
        "\n",
        "Reportar accuracy promedio y varianza para todas las configuraciones.\n",
        "\n",
        "Para la mejor configuración encontrada, evaluar sobre el conjunto de **entrenamiento** y sobre el conjunto de **evaluación**, reportando:\n",
        "- Accuracy\n",
        "- Precision\n",
        "- Recall\n",
        "- F1\n",
        "- matriz de confusión\n",
        "\n",
        "Documentación:\n",
        "- https://scikit-learn.org/stable/modules/grid_search.html\n",
        "- https://scikit-learn.org/stable/modules/generated/sklearn.model_selection.GridSearchCV.html"
      ]
    },
    {
      "cell_type": "markdown",
      "metadata": {
        "id": "thcsV0sdGbIT"
      },
      "source": [
        "## Ejercicio 3: Árboles de Decisión\n",
        "\n",
        "En este ejercicio se entrenarán árboles de decisión para predecir la variable objetivo.\n",
        "\n",
        "Para ello, deberán utilizar la clase DecisionTreeClassifier de scikit-learn.\n",
        "\n",
        "Documentación:\n",
        "- https://scikit-learn.org/stable/modules/tree.html\n",
        "  - https://scikit-learn.org/stable/modules/tree.html#tips-on-practical-use\n",
        "- https://scikit-learn.org/stable/modules/generated/sklearn.tree.DecisionTreeClassifier.html\n",
        "- https://scikit-learn.org/stable/auto_examples/tree/plot_unveil_tree_structure.html"
      ]
    },
    {
      "cell_type": "markdown",
      "metadata": {
        "id": "R1ZZ6gzGGbIT"
      },
      "source": [
        "### Ejercicio 3.1: DecisionTreeClassifier con hiperparámetros por defecto\n",
        "\n",
        "Entrenar y evaluar el clasificador DecisionTreeClassifier usando los valores por omisión de scikit-learn para todos los parámetros. Únicamente **fijar la semilla aleatoria** para hacer repetible el experimento.\n",
        "\n",
        "Evaluar sobre el conjunto de **entrenamiento** y sobre el conjunto de **evaluación**, reportando:\n",
        "- Accuracy\n",
        "- Precision\n",
        "- Recall\n",
        "- F1\n",
        "- matriz de confusión\n"
      ]
    },
    {
      "cell_type": "markdown",
      "metadata": {
        "id": "G-4Er2bNGbIU"
      },
      "source": [
        "### Ejercicio 3.2: Ajuste de Hiperparámetros\n",
        "\n",
        "Seleccionar valores para los hiperparámetros principales del DecisionTreeClassifier. Como mínimo, probar diferentes criterios de partición (criterion), profundidad máxima del árbol (max_depth), y cantidad mínima de samples por hoja (min_samples_leaf).\n",
        "\n",
        "Para ello, usar grid-search y 5-fold cross-validation sobre el conjunto de entrenamiento para explorar muchas combinaciones posibles de valores.\n",
        "\n",
        "Reportar accuracy promedio y varianza para todas las configuraciones.\n",
        "\n",
        "Para la mejor configuración encontrada, evaluar sobre el conjunto de **entrenamiento** y sobre el conjunto de **evaluación**, reportando:\n",
        "- Accuracy\n",
        "- Precision\n",
        "- Recall\n",
        "- F1\n",
        "- matriz de confusión\n",
        "\n",
        "\n",
        "Documentación:\n",
        "- https://scikit-learn.org/stable/modules/grid_search.html\n",
        "- https://scikit-learn.org/stable/modules/generated/sklearn.model_selection.GridSearchCV.html"
      ]
    },
    {
      "cell_type": "markdown",
      "source": [
        "### Respuestas"
      ],
      "metadata": {
        "id": "xoHSOVsvQ6Wd"
      }
    },
    {
      "cell_type": "markdown",
      "source": [
        "Definimos dos funciones para poder observar las métricas de los distintos modelos"
      ],
      "metadata": {
        "id": "OTo5i4Rk1Djq"
      }
    },
    {
      "cell_type": "code",
      "source": [
        "def metrics_display(model, X_test, y_test):\n",
        "    test_prediction = model.predict(X_test)\n",
        "\n",
        "    precision = precision_score(y_test, test_prediction)\n",
        "    recall = recall_score(y_test, test_prediction)\n",
        "    f1 = f1_score(y_test, test_prediction)\n",
        "    accuracy = accuracy_score(y_test, test_prediction)\n",
        "\n",
        "    print('Test results:')\n",
        "    print(f'Precision:\\t{precision:.3f}')\n",
        "    print(f'Recall:\\t\\t{recall:.3f}')\n",
        "    print(f'F1-Score:\\t{f1:.3f}')\n",
        "    print(f'Accuracy:\\t{accuracy:.3f}')\n",
        "\n",
        "    cm_test = confusion_matrix(y_test, test_prediction)\n",
        "    plot_confusion_matrix(cm_test, 'Test')\n",
        "\n",
        "    return test_prediction, [precision, recall, f1, accuracy]\n",
        "\n",
        "def plot_confusion_matrix(cm, title):\n",
        "    group_names = ['TN', 'FP', 'FN', 'TP']\n",
        "    group_counts = ['{0:0.0f}'.format(value) for value in cm.flatten()]\n",
        "    labels = [f'{v1}\\n{v2}' for v1, v2 in zip(group_names, group_counts)]\n",
        "\n",
        "    labels = np.asarray(labels).reshape(2, 2)\n",
        "\n",
        "    fig, ax = plt.subplots(figsize=(3, 3))\n",
        "    sns.heatmap(cm, annot=labels, fmt='', cmap='Reds', cbar=False, ax=ax)\n",
        "    ax.set_title(title)\n",
        "    ax.set_xlabel('Predicted label')\n",
        "    ax.set_ylabel('True label')\n",
        "    ax.set_xticklabels(['0', '1'])\n",
        "    ax.set_yticklabels(['0', '1'])\n",
        "    plt.show()"
      ],
      "metadata": {
        "id": "yPWsKRCoZsQW"
      },
      "execution_count": null,
      "outputs": []
    },
    {
      "cell_type": "code",
      "source": [
        "results = []"
      ],
      "metadata": {
        "id": "sjDfnXNcnQQI"
      },
      "execution_count": null,
      "outputs": []
    },
    {
      "cell_type": "markdown",
      "source": [
        "Las metricas evaluadas son:\n",
        "- **Accuracy (Exactitud):** es la proporción de predicciones correctas (tanto verdaderos positivos como verdaderos negativos, TP y TN) entre el total de predicciones realizadas. Es una métrica general que mide el rendimiento global del modelo\n",
        "- **Precision:** mide la proporción de verdaderos positivos entre todas las predicciones positivas. Indica qué tan bien el modelo identifica solo las instancias relevantes\n",
        "- **Recall (Sensitividad):** mide la proporción de verdaderos positivos entre todas las instancias que realmente son positivas\n",
        "- **F1:** es la media armónica entre la precision y recall. Proporciona un equilibrio entre las dos métricas, siendo útil cuando se necesita un balance entre precisión y recuperación.\n",
        "- **Matriz de confusion:** resume las predicciones correctas e incorrectas con conteos en cada una de las clases. La matriz generalmente tiene la siguiente forma para un problema binario:\n",
        "    - **TP (True Positive / Verdadero Positivo):** Número de instancias correctamente predichas como positivas\n",
        "    - **FP (False Positive / Falso Positivo):** Número de instancias incorrectamente predichas como positivas\n",
        "    - **TN (True Negative / Verdadero Negativo):** Número de instancias correctamente predichas como negativas\n",
        "    - **FN (False Negative / Falso Negativo):** Número de instancias incorrectamente predichas como negativas"
      ],
      "metadata": {
        "id": "acz9NTpiILWp"
      }
    },
    {
      "cell_type": "markdown",
      "source": [
        "#### 2.1 SGDClassifier con hiperparámetros por defecto"
      ],
      "metadata": {
        "id": "tKutKjTrQ_qU"
      }
    },
    {
      "cell_type": "markdown",
      "source": [
        "Se instancia el modelo mediante `Pipeline`"
      ],
      "metadata": {
        "id": "A7U8LDOfivQc"
      }
    },
    {
      "cell_type": "code",
      "source": [
        "sgd_default = Pipeline([('scaler', StandardScaler()),\n",
        "                        ('clf', SGDClassifier(random_state=0))])"
      ],
      "metadata": {
        "id": "cnYCiSdiQ5qn"
      },
      "execution_count": null,
      "outputs": []
    },
    {
      "cell_type": "code",
      "source": [
        "sgd_default.fit(X_train, y_train)"
      ],
      "metadata": {
        "colab": {
          "base_uri": "https://localhost:8080/",
          "height": 126
        },
        "id": "lc_KG0t3Sfr4",
        "outputId": "2fb88e7e-9b13-4a57-8250-46ccab172466"
      },
      "execution_count": null,
      "outputs": [
        {
          "output_type": "execute_result",
          "data": {
            "text/plain": [
              "Pipeline(steps=[('scaler', StandardScaler()),\n",
              "                ('clf', SGDClassifier(random_state=0))])"
            ],
            "text/html": [
              "<style>#sk-container-id-1 {color: black;background-color: white;}#sk-container-id-1 pre{padding: 0;}#sk-container-id-1 div.sk-toggleable {background-color: white;}#sk-container-id-1 label.sk-toggleable__label {cursor: pointer;display: block;width: 100%;margin-bottom: 0;padding: 0.3em;box-sizing: border-box;text-align: center;}#sk-container-id-1 label.sk-toggleable__label-arrow:before {content: \"▸\";float: left;margin-right: 0.25em;color: #696969;}#sk-container-id-1 label.sk-toggleable__label-arrow:hover:before {color: black;}#sk-container-id-1 div.sk-estimator:hover label.sk-toggleable__label-arrow:before {color: black;}#sk-container-id-1 div.sk-toggleable__content {max-height: 0;max-width: 0;overflow: hidden;text-align: left;background-color: #f0f8ff;}#sk-container-id-1 div.sk-toggleable__content pre {margin: 0.2em;color: black;border-radius: 0.25em;background-color: #f0f8ff;}#sk-container-id-1 input.sk-toggleable__control:checked~div.sk-toggleable__content {max-height: 200px;max-width: 100%;overflow: auto;}#sk-container-id-1 input.sk-toggleable__control:checked~label.sk-toggleable__label-arrow:before {content: \"▾\";}#sk-container-id-1 div.sk-estimator input.sk-toggleable__control:checked~label.sk-toggleable__label {background-color: #d4ebff;}#sk-container-id-1 div.sk-label input.sk-toggleable__control:checked~label.sk-toggleable__label {background-color: #d4ebff;}#sk-container-id-1 input.sk-hidden--visually {border: 0;clip: rect(1px 1px 1px 1px);clip: rect(1px, 1px, 1px, 1px);height: 1px;margin: -1px;overflow: hidden;padding: 0;position: absolute;width: 1px;}#sk-container-id-1 div.sk-estimator {font-family: monospace;background-color: #f0f8ff;border: 1px dotted black;border-radius: 0.25em;box-sizing: border-box;margin-bottom: 0.5em;}#sk-container-id-1 div.sk-estimator:hover {background-color: #d4ebff;}#sk-container-id-1 div.sk-parallel-item::after {content: \"\";width: 100%;border-bottom: 1px solid gray;flex-grow: 1;}#sk-container-id-1 div.sk-label:hover label.sk-toggleable__label {background-color: #d4ebff;}#sk-container-id-1 div.sk-serial::before {content: \"\";position: absolute;border-left: 1px solid gray;box-sizing: border-box;top: 0;bottom: 0;left: 50%;z-index: 0;}#sk-container-id-1 div.sk-serial {display: flex;flex-direction: column;align-items: center;background-color: white;padding-right: 0.2em;padding-left: 0.2em;position: relative;}#sk-container-id-1 div.sk-item {position: relative;z-index: 1;}#sk-container-id-1 div.sk-parallel {display: flex;align-items: stretch;justify-content: center;background-color: white;position: relative;}#sk-container-id-1 div.sk-item::before, #sk-container-id-1 div.sk-parallel-item::before {content: \"\";position: absolute;border-left: 1px solid gray;box-sizing: border-box;top: 0;bottom: 0;left: 50%;z-index: -1;}#sk-container-id-1 div.sk-parallel-item {display: flex;flex-direction: column;z-index: 1;position: relative;background-color: white;}#sk-container-id-1 div.sk-parallel-item:first-child::after {align-self: flex-end;width: 50%;}#sk-container-id-1 div.sk-parallel-item:last-child::after {align-self: flex-start;width: 50%;}#sk-container-id-1 div.sk-parallel-item:only-child::after {width: 0;}#sk-container-id-1 div.sk-dashed-wrapped {border: 1px dashed gray;margin: 0 0.4em 0.5em 0.4em;box-sizing: border-box;padding-bottom: 0.4em;background-color: white;}#sk-container-id-1 div.sk-label label {font-family: monospace;font-weight: bold;display: inline-block;line-height: 1.2em;}#sk-container-id-1 div.sk-label-container {text-align: center;}#sk-container-id-1 div.sk-container {/* jupyter's `normalize.less` sets `[hidden] { display: none; }` but bootstrap.min.css set `[hidden] { display: none !important; }` so we also need the `!important` here to be able to override the default hidden behavior on the sphinx rendered scikit-learn.org. See: https://github.com/scikit-learn/scikit-learn/issues/21755 */display: inline-block !important;position: relative;}#sk-container-id-1 div.sk-text-repr-fallback {display: none;}</style><div id=\"sk-container-id-1\" class=\"sk-top-container\"><div class=\"sk-text-repr-fallback\"><pre>Pipeline(steps=[(&#x27;scaler&#x27;, StandardScaler()),\n",
              "                (&#x27;clf&#x27;, SGDClassifier(random_state=0))])</pre><b>In a Jupyter environment, please rerun this cell to show the HTML representation or trust the notebook. <br />On GitHub, the HTML representation is unable to render, please try loading this page with nbviewer.org.</b></div><div class=\"sk-container\" hidden><div class=\"sk-item sk-dashed-wrapped\"><div class=\"sk-label-container\"><div class=\"sk-label sk-toggleable\"><input class=\"sk-toggleable__control sk-hidden--visually\" id=\"sk-estimator-id-1\" type=\"checkbox\" ><label for=\"sk-estimator-id-1\" class=\"sk-toggleable__label sk-toggleable__label-arrow\">Pipeline</label><div class=\"sk-toggleable__content\"><pre>Pipeline(steps=[(&#x27;scaler&#x27;, StandardScaler()),\n",
              "                (&#x27;clf&#x27;, SGDClassifier(random_state=0))])</pre></div></div></div><div class=\"sk-serial\"><div class=\"sk-item\"><div class=\"sk-estimator sk-toggleable\"><input class=\"sk-toggleable__control sk-hidden--visually\" id=\"sk-estimator-id-2\" type=\"checkbox\" ><label for=\"sk-estimator-id-2\" class=\"sk-toggleable__label sk-toggleable__label-arrow\">StandardScaler</label><div class=\"sk-toggleable__content\"><pre>StandardScaler()</pre></div></div></div><div class=\"sk-item\"><div class=\"sk-estimator sk-toggleable\"><input class=\"sk-toggleable__control sk-hidden--visually\" id=\"sk-estimator-id-3\" type=\"checkbox\" ><label for=\"sk-estimator-id-3\" class=\"sk-toggleable__label sk-toggleable__label-arrow\">SGDClassifier</label><div class=\"sk-toggleable__content\"><pre>SGDClassifier(random_state=0)</pre></div></div></div></div></div></div></div>"
            ]
          },
          "metadata": {},
          "execution_count": 11
        }
      ]
    },
    {
      "cell_type": "markdown",
      "source": [
        "Se utiliza la funcion y el modelo creado para ver sus métricas"
      ],
      "metadata": {
        "id": "p9eEI_t5lE2J"
      }
    },
    {
      "cell_type": "code",
      "source": [
        "result, result_sgd_default = metrics_display(sgd_default, X_test, y_test)\n",
        "results.append(result)"
      ],
      "metadata": {
        "colab": {
          "base_uri": "https://localhost:8080/",
          "height": 420
        },
        "id": "u8Wxr5ui040G",
        "outputId": "4c850cc0-bc2a-43c4-c272-bfe2eb307dac"
      },
      "execution_count": null,
      "outputs": [
        {
          "output_type": "stream",
          "name": "stdout",
          "text": [
            "Test results:\n",
            "Precision:\t0.645\n",
            "Recall:\t\t0.345\n",
            "F1-Score:\t0.449\n",
            "Accuracy:\t0.868\n"
          ]
        },
        {
          "output_type": "display_data",
          "data": {
            "text/plain": [
              "<Figure size 300x300 with 1 Axes>"
            ],
            "image/png": "[encoded data removed]"
          },
          "metadata": {}
        }
      ]
    },
    {
      "cell_type": "markdown",
      "source": [
        "El modelo tiene un gran rendimiento con una acurracy del 86%. Pero al momento de identificar las casos su desempeño es muy disparejo. Para la mayoria de los casos, es decir, prestamo pagado [0] tiene un precision y recall altos > 90% pero para los otros casos, prestamo no pagado [1] su resultados son < 50%. Esto indica que el modelo tiende a predecir de forma incorrecto que los clientes que incumplieron el pago si lograron pagar el préstamo"
      ],
      "metadata": {
        "id": "ctah_RD_1GkO"
      }
    },
    {
      "cell_type": "markdown",
      "source": [
        "#### 2.2 SGDClassifier con ajuste de hiperparámetros"
      ],
      "metadata": {
        "id": "XAH5_DeUH2ma"
      }
    },
    {
      "cell_type": "markdown",
      "source": [
        "El dataset presenta un gran desbalanace entre los valores positivos y negativos de la variable objetivo. No es recomendable utilizar **Accuracy**, ya que se entrenara con un gran número de casos"
      ],
      "metadata": {
        "id": "TAekTwzAnmgR"
      }
    },
    {
      "cell_type": "markdown",
      "source": [
        "Se define la métrica con la cual se van a buscar los mejores hiperparámetros"
      ],
      "metadata": {
        "id": "eD-TDJ08lLYn"
      }
    },
    {
      "cell_type": "code",
      "source": [
        "metrica = 'f1'"
      ],
      "metadata": {
        "id": "JcTuDCzkwv8T"
      },
      "execution_count": null,
      "outputs": []
    },
    {
      "cell_type": "markdown",
      "source": [
        "Se instancia el modelo"
      ],
      "metadata": {
        "id": "Mv0bkjjNlRVJ"
      }
    },
    {
      "cell_type": "code",
      "source": [
        "start = time.time()\n",
        "sgd_pipe = Pipeline([('std', StandardScaler()),\n",
        "                     ('sgd', SGDClassifier(random_state=0))])\n",
        "\n",
        "params = { 'sgd__loss'          : ['hinge', 'log_loss', 'modified_huber', 'squared_hinge', 'perceptron'],\n",
        "           'sgd__learning_rate' : ['adaptive', 'optimal', 'constant', 'invscaling'],\n",
        "           'sgd__alpha'         : [0.0001, 0.001, 0.01, 0.1],\n",
        "           'sgd__eta0'          : [0.0001, 0.001, 0.01, 0.1]}\n",
        "\n",
        "gs_sgd = GridSearchCV(sgd_pipe,\n",
        "                      param_grid=params,\n",
        "                      scoring=metrica,\n",
        "                      cv=5)\n",
        "\n",
        "gs_sgd.fit(X_train, y_train)\n",
        "end = time.time()\n",
        "print(f\"Tiempo: {end - start:.2f} segundos\")"
      ],
      "metadata": {
        "colab": {
          "base_uri": "https://localhost:8080/"
        },
        "id": "z5w6oq4PnPkg",
        "outputId": "3c568d61-f376-48a0-fe03-8eac0948aff7"
      },
      "execution_count": null,
      "outputs": [
        {
          "output_type": "stream",
          "name": "stdout",
          "text": [
            "Tiempo: 40.51 segundos\n"
          ]
        }
      ]
    },
    {
      "cell_type": "markdown",
      "source": [
        "El mejor resultado obtenido es"
      ],
      "metadata": {
        "id": "E4uHIs9NA9W_"
      }
    },
    {
      "cell_type": "code",
      "source": [
        "print(\"Mejor resultado\")\n",
        "print(\"- Parámetros:\",gs_sgd.best_params_)\n",
        "print(f\"- F1:\\t      {gs_sgd.best_score_:.4f}\")"
      ],
      "metadata": {
        "colab": {
          "base_uri": "https://localhost:8080/"
        },
        "id": "8Ig9sFqgvH3M",
        "outputId": "f951ab59-b30f-4745-9ef2-5fb612858fc1"
      },
      "execution_count": null,
      "outputs": [
        {
          "output_type": "stream",
          "name": "stdout",
          "text": [
            "Mejor resultado\n",
            "- Parámetros: {'sgd__alpha': 0.01, 'sgd__eta0': 0.0001, 'sgd__learning_rate': 'optimal', 'sgd__loss': 'perceptron'}\n",
            "- F1:\t      0.4946\n"
          ]
        }
      ]
    },
    {
      "cell_type": "markdown",
      "source": [
        "Se observan las métricas del modelo con los hiperparametros encontrados"
      ],
      "metadata": {
        "id": "O_yJMKWj0D74"
      }
    },
    {
      "cell_type": "code",
      "source": [
        "result, result_sgd_hparam = metrics_display(gs_sgd, X_test, y_test)\n",
        "results.append(result)"
      ],
      "metadata": {
        "colab": {
          "base_uri": "https://localhost:8080/",
          "height": 420
        },
        "id": "735fnnJo0U0J",
        "outputId": "e650fc54-8e0f-46f8-8c13-fc0d10b4da21"
      },
      "execution_count": null,
      "outputs": [
        {
          "output_type": "stream",
          "name": "stdout",
          "text": [
            "Test results:\n",
            "Precision:\t0.418\n",
            "Recall:\t\t0.483\n",
            "F1-Score:\t0.448\n",
            "Accuracy:\t0.814\n"
          ]
        },
        {
          "output_type": "display_data",
          "data": {
            "text/plain": [
              "<Figure size 300x300 with 1 Axes>"
            ],
            "image/png": "[encoded data removed]"
          },
          "metadata": {}
        }
      ]
    },
    {
      "cell_type": "markdown",
      "source": [
        "El modelo es inferior en terminos de accuracy comparado con el anterior (86% vs. 81%). Aunque tiene una leve mejora: mayor recall para los casos de prestamo no pagado [1] y mayor precision para los casos de prestamo pagado [0]. En general el modelo es un poco más balanceado que el anterior"
      ],
      "metadata": {
        "id": "SwNh-56c2ebx"
      }
    },
    {
      "cell_type": "markdown",
      "source": [
        "#### 3.1 DecisionTreeClassifier con hiperparámetros por defecto"
      ],
      "metadata": {
        "id": "UWy8YDCuwk2G"
      }
    },
    {
      "cell_type": "code",
      "source": [
        "dtc_default = Pipeline([('scaler', StandardScaler()),\n",
        "                        ('dtc', DecisionTreeClassifier(random_state=0))])"
      ],
      "metadata": {
        "id": "RrCjkEvFwsyV"
      },
      "execution_count": null,
      "outputs": []
    },
    {
      "cell_type": "code",
      "source": [
        "dtc_default.fit(X_train, y_train)"
      ],
      "metadata": {
        "colab": {
          "base_uri": "https://localhost:8080/",
          "height": 126
        },
        "id": "Rq3QQDuAwvUR",
        "outputId": "a6d9205e-4245-4045-ccb1-c070e0016e88"
      },
      "execution_count": null,
      "outputs": [
        {
          "output_type": "execute_result",
          "data": {
            "text/plain": [
              "Pipeline(steps=[('scaler', StandardScaler()),\n",
              "                ('dtc', DecisionTreeClassifier(random_state=0))])"
            ],
            "text/html": [
              "<style>#sk-container-id-2 {color: black;background-color: white;}#sk-container-id-2 pre{padding: 0;}#sk-container-id-2 div.sk-toggleable {background-color: white;}#sk-container-id-2 label.sk-toggleable__label {cursor: pointer;display: block;width: 100%;margin-bottom: 0;padding: 0.3em;box-sizing: border-box;text-align: center;}#sk-container-id-2 label.sk-toggleable__label-arrow:before {content: \"▸\";float: left;margin-right: 0.25em;color: #696969;}#sk-container-id-2 label.sk-toggleable__label-arrow:hover:before {color: black;}#sk-container-id-2 div.sk-estimator:hover label.sk-toggleable__label-arrow:before {color: black;}#sk-container-id-2 div.sk-toggleable__content {max-height: 0;max-width: 0;overflow: hidden;text-align: left;background-color: #f0f8ff;}#sk-container-id-2 div.sk-toggleable__content pre {margin: 0.2em;color: black;border-radius: 0.25em;background-color: #f0f8ff;}#sk-container-id-2 input.sk-toggleable__control:checked~div.sk-toggleable__content {max-height: 200px;max-width: 100%;overflow: auto;}#sk-container-id-2 input.sk-toggleable__control:checked~label.sk-toggleable__label-arrow:before {content: \"▾\";}#sk-container-id-2 div.sk-estimator input.sk-toggleable__control:checked~label.sk-toggleable__label {background-color: #d4ebff;}#sk-container-id-2 div.sk-label input.sk-toggleable__control:checked~label.sk-toggleable__label {background-color: #d4ebff;}#sk-container-id-2 input.sk-hidden--visually {border: 0;clip: rect(1px 1px 1px 1px);clip: rect(1px, 1px, 1px, 1px);height: 1px;margin: -1px;overflow: hidden;padding: 0;position: absolute;width: 1px;}#sk-container-id-2 div.sk-estimator {font-family: monospace;background-color: #f0f8ff;border: 1px dotted black;border-radius: 0.25em;box-sizing: border-box;margin-bottom: 0.5em;}#sk-container-id-2 div.sk-estimator:hover {background-color: #d4ebff;}#sk-container-id-2 div.sk-parallel-item::after {content: \"\";width: 100%;border-bottom: 1px solid gray;flex-grow: 1;}#sk-container-id-2 div.sk-label:hover label.sk-toggleable__label {background-color: #d4ebff;}#sk-container-id-2 div.sk-serial::before {content: \"\";position: absolute;border-left: 1px solid gray;box-sizing: border-box;top: 0;bottom: 0;left: 50%;z-index: 0;}#sk-container-id-2 div.sk-serial {display: flex;flex-direction: column;align-items: center;background-color: white;padding-right: 0.2em;padding-left: 0.2em;position: relative;}#sk-container-id-2 div.sk-item {position: relative;z-index: 1;}#sk-container-id-2 div.sk-parallel {display: flex;align-items: stretch;justify-content: center;background-color: white;position: relative;}#sk-container-id-2 div.sk-item::before, #sk-container-id-2 div.sk-parallel-item::before {content: \"\";position: absolute;border-left: 1px solid gray;box-sizing: border-box;top: 0;bottom: 0;left: 50%;z-index: -1;}#sk-container-id-2 div.sk-parallel-item {display: flex;flex-direction: column;z-index: 1;position: relative;background-color: white;}#sk-container-id-2 div.sk-parallel-item:first-child::after {align-self: flex-end;width: 50%;}#sk-container-id-2 div.sk-parallel-item:last-child::after {align-self: flex-start;width: 50%;}#sk-container-id-2 div.sk-parallel-item:only-child::after {width: 0;}#sk-container-id-2 div.sk-dashed-wrapped {border: 1px dashed gray;margin: 0 0.4em 0.5em 0.4em;box-sizing: border-box;padding-bottom: 0.4em;background-color: white;}#sk-container-id-2 div.sk-label label {font-family: monospace;font-weight: bold;display: inline-block;line-height: 1.2em;}#sk-container-id-2 div.sk-label-container {text-align: center;}#sk-container-id-2 div.sk-container {/* jupyter's `normalize.less` sets `[hidden] { display: none; }` but bootstrap.min.css set `[hidden] { display: none !important; }` so we also need the `!important` here to be able to override the default hidden behavior on the sphinx rendered scikit-learn.org. See: https://github.com/scikit-learn/scikit-learn/issues/21755 */display: inline-block !important;position: relative;}#sk-container-id-2 div.sk-text-repr-fallback {display: none;}</style><div id=\"sk-container-id-2\" class=\"sk-top-container\"><div class=\"sk-text-repr-fallback\"><pre>Pipeline(steps=[(&#x27;scaler&#x27;, StandardScaler()),\n",
              "                (&#x27;dtc&#x27;, DecisionTreeClassifier(random_state=0))])</pre><b>In a Jupyter environment, please rerun this cell to show the HTML representation or trust the notebook. <br />On GitHub, the HTML representation is unable to render, please try loading this page with nbviewer.org.</b></div><div class=\"sk-container\" hidden><div class=\"sk-item sk-dashed-wrapped\"><div class=\"sk-label-container\"><div class=\"sk-label sk-toggleable\"><input class=\"sk-toggleable__control sk-hidden--visually\" id=\"sk-estimator-id-4\" type=\"checkbox\" ><label for=\"sk-estimator-id-4\" class=\"sk-toggleable__label sk-toggleable__label-arrow\">Pipeline</label><div class=\"sk-toggleable__content\"><pre>Pipeline(steps=[(&#x27;scaler&#x27;, StandardScaler()),\n",
              "                (&#x27;dtc&#x27;, DecisionTreeClassifier(random_state=0))])</pre></div></div></div><div class=\"sk-serial\"><div class=\"sk-item\"><div class=\"sk-estimator sk-toggleable\"><input class=\"sk-toggleable__control sk-hidden--visually\" id=\"sk-estimator-id-5\" type=\"checkbox\" ><label for=\"sk-estimator-id-5\" class=\"sk-toggleable__label sk-toggleable__label-arrow\">StandardScaler</label><div class=\"sk-toggleable__content\"><pre>StandardScaler()</pre></div></div></div><div class=\"sk-item\"><div class=\"sk-estimator sk-toggleable\"><input class=\"sk-toggleable__control sk-hidden--visually\" id=\"sk-estimator-id-6\" type=\"checkbox\" ><label for=\"sk-estimator-id-6\" class=\"sk-toggleable__label sk-toggleable__label-arrow\">DecisionTreeClassifier</label><div class=\"sk-toggleable__content\"><pre>DecisionTreeClassifier(random_state=0)</pre></div></div></div></div></div></div></div>"
            ]
          },
          "metadata": {},
          "execution_count": 18
        }
      ]
    },
    {
      "cell_type": "code",
      "source": [
        "result, result_dtc_default = metrics_display(dtc_default, X_test, y_test)\n",
        "results.append(result)"
      ],
      "metadata": {
        "colab": {
          "base_uri": "https://localhost:8080/",
          "height": 420
        },
        "id": "JdGfZuJ8xNEt",
        "outputId": "9dcc95c3-019d-4666-baa6-61f7b9154d41"
      },
      "execution_count": null,
      "outputs": [
        {
          "output_type": "stream",
          "name": "stdout",
          "text": [
            "Test results:\n",
            "Precision:\t0.617\n",
            "Recall:\t\t0.638\n",
            "F1-Score:\t0.627\n",
            "Accuracy:\t0.881\n"
          ]
        },
        {
          "output_type": "display_data",
          "data": {
            "text/plain": [
              "<Figure size 300x300 with 1 Axes>"
            ],
            "image/png": "[encoded data removed]"
          },
          "metadata": {}
        }
      ]
    },
    {
      "cell_type": "markdown",
      "source": [
        "El modelo presenta un mejor resultado general comparado con los anteriores, tiene una mejora significavimante en la identificacion de los casos prestamo no pagado [1] de un 40% a > 60%. Es más adecuado para aplicaciones donde se requiere identificar ambos resultados"
      ],
      "metadata": {
        "id": "FHe8iPdlF1_B"
      }
    },
    {
      "cell_type": "markdown",
      "source": [
        "#### 3.2 DecisionTreeClassifier con ajuste de hiperparámetros"
      ],
      "metadata": {
        "id": "tgLXgtH5xeDY"
      }
    },
    {
      "cell_type": "code",
      "source": [
        "metrica = 'f1'"
      ],
      "metadata": {
        "id": "qRGOsg2BzCEM"
      },
      "execution_count": null,
      "outputs": []
    },
    {
      "cell_type": "code",
      "source": [
        "start = time.time()\n",
        "dtc_pipe = Pipeline([('std', StandardScaler()),\n",
        "                     ('dtc', DecisionTreeClassifier(random_state=0))])\n",
        "\n",
        "params = {  'dtc__criterion': ['gini', 'entropy', 'log_loss'],\n",
        "            'dtc__splitter': ['best', 'random'],\n",
        "            'dtc__max_depth': [30, 40, 50, None],\n",
        "            'dtc__min_samples_split': [2, 5, 10],\n",
        "            'dtc__min_samples_leaf': [1, 2, 4]}\n",
        "\n",
        "gs_dtc = GridSearchCV(dtc_pipe,\n",
        "                      param_grid=params,\n",
        "                      scoring=metrica,\n",
        "                      cv=5)\n",
        "\n",
        "gs_dtc.fit(X_train, y_train)\n",
        "end = time.time()\n",
        "print(f\"Tiempo: {end - start:.2f} segundos\")"
      ],
      "metadata": {
        "colab": {
          "base_uri": "https://localhost:8080/"
        },
        "id": "NL2BB9iLy_tZ",
        "outputId": "58f34990-f4ea-433b-f667-1c0849f619a4"
      },
      "execution_count": null,
      "outputs": [
        {
          "output_type": "stream",
          "name": "stdout",
          "text": [
            "Tiempo: 18.08 segundos\n"
          ]
        }
      ]
    },
    {
      "cell_type": "code",
      "source": [
        "print(\"Mejor resultado\")\n",
        "print(\"- Parámetros:\",gs_dtc.best_params_)\n",
        "print(f\"- F1:\\t      {gs_dtc.best_score_:.4f}\")"
      ],
      "metadata": {
        "colab": {
          "base_uri": "https://localhost:8080/"
        },
        "id": "kxL4ar_fzCeV",
        "outputId": "09189752-2692-4062-b1d2-2b6080381a2f"
      },
      "execution_count": null,
      "outputs": [
        {
          "output_type": "stream",
          "name": "stdout",
          "text": [
            "Mejor resultado\n",
            "- Parámetros: {'dtc__criterion': 'entropy', 'dtc__max_depth': 30, 'dtc__min_samples_leaf': 1, 'dtc__min_samples_split': 2, 'dtc__splitter': 'random'}\n",
            "- F1:\t      0.6084\n"
          ]
        }
      ]
    },
    {
      "cell_type": "code",
      "source": [
        "result, result_dtc_hparam = metrics_display(gs_dtc, X_test, y_test)\n",
        "results.append(result)"
      ],
      "metadata": {
        "colab": {
          "base_uri": "https://localhost:8080/",
          "height": 420
        },
        "id": "6FOvV8c5zGSy",
        "outputId": "a48e79ca-4634-440e-f423-0c6630e15d6a"
      },
      "execution_count": null,
      "outputs": [
        {
          "output_type": "stream",
          "name": "stdout",
          "text": [
            "Test results:\n",
            "Precision:\t0.692\n",
            "Recall:\t\t0.621\n",
            "F1-Score:\t0.655\n",
            "Accuracy:\t0.898\n"
          ]
        },
        {
          "output_type": "display_data",
          "data": {
            "text/plain": [
              "<Figure size 300x300 with 1 Axes>"
            ],
            "image/png": "[encoded data removed]"
          },
          "metadata": {}
        }
      ]
    },
    {
      "cell_type": "markdown",
      "source": [
        "El modelo mejora incluso más los resultados ya que presenta resultados más equilibrados"
      ],
      "metadata": {
        "id": "sQqbuKI4IdCE"
      }
    },
    {
      "cell_type": "markdown",
      "source": [
        "#### Conclusión"
      ],
      "metadata": {
        "id": "rDQ8EQEJqpcZ"
      }
    },
    {
      "cell_type": "markdown",
      "source": [
        "A partir de los modelos creados, se pueden graficar sus métricas"
      ],
      "metadata": {
        "id": "Nu5CER14hxfK"
      }
    },
    {
      "cell_type": "code",
      "source": [
        "columns = [ 'Precision', 'Recall', 'F1-Score', 'Accuracy']\n",
        "names = ['SGD Default', 'SGD Hyperparameter', 'DecisionTree Default', 'DecisionTree Hyperparameter']\n",
        "df_results = pd.DataFrame([result_sgd_default, result_sgd_hparam, result_dtc_default,result_dtc_hparam], columns=columns)\n",
        "df_results.insert(0, 'Model', names, True)"
      ],
      "metadata": {
        "id": "q-r4RZyXcVlc"
      },
      "execution_count": null,
      "outputs": []
    },
    {
      "cell_type": "code",
      "source": [
        "df_results.set_index('Model').plot(kind = 'bar', figsize = (10, 4))\n",
        "\n",
        "plt.title('Resultados')\n",
        "plt.xlabel('Modelo')\n",
        "plt.xticks(rotation = 0, fontsize = 9)\n",
        "plt.ylim(0, 1)\n",
        "plt.grid(axis='y', alpha = 0.5)\n",
        "plt.legend(loc = 'upper left', fontsize = 9)\n",
        "plt.savefig('results_precision.png', bbox_inches='tight')"
      ],
      "metadata": {
        "colab": {
          "base_uri": "https://localhost:8080/",
          "height": 409
        },
        "id": "DGW0FJNceAKH",
        "outputId": "2a1e4431-f13e-4439-bb0f-b46b59651ea5"
      },
      "execution_count": null,
      "outputs": [
        {
          "output_type": "display_data",
          "data": {
            "text/plain": [
              "<Figure size 1000x400 with 1 Axes>"
            ],
            "image/png": "[encoded data removed]"
          },
          "metadata": {}
        }
      ]
    },
    {
      "cell_type": "markdown",
      "source": [
        "Tambien se puede evaluar las curvas ROC"
      ],
      "metadata": {
        "id": "qMo6NBGOif66"
      }
    },
    {
      "cell_type": "code",
      "source": [
        "fig, ax = plt.subplots()\n",
        "\n",
        "for index in range(len(results)):\n",
        "    fpr, tpr, thresholds = roc_curve(y_test, results[index])\n",
        "    roc_auc = auc(fpr, tpr)\n",
        "    display = RocCurveDisplay(fpr=fpr, tpr=tpr, roc_auc=roc_auc, estimator_name=names[index])\n",
        "    display.plot(ax=ax)\n",
        "\n",
        "plt.legend(fontsize = 9, loc = 'lower right')\n",
        "plt.grid(alpha = 0.5)\n",
        "plt.show()"
      ],
      "metadata": {
        "colab": {
          "base_uri": "https://localhost:8080/",
          "height": 449
        },
        "id": "UDqoK9zMlhYi",
        "outputId": "efa72065-6fe9-4de4-975e-db6b3ab634f0"
      },
      "execution_count": null,
      "outputs": [
        {
          "output_type": "display_data",
          "data": {
            "text/plain": [
              "<Figure size 640x480 with 1 Axes>"
            ],
            "image/png": "[encoded data removed]"
          },
          "metadata": {}
        }
      ]
    },
    {
      "cell_type": "markdown",
      "source": [
        "A partir de las curvas ROC se puede determinar:\n",
        "- SGDClassifier: muestra un FPR bajo y un TPR moderado, aunque tiene una buena capacidad para identificar los negativos, su capacidad para identificar los positivos es limitada\n",
        "- SGDClasffier ajustado: tiene un FPR más alto que el modelo anterior, pero un TPR un poco mejor. Esto indica que ajustar los hiperparámetros mejora la identificación de verdaderos positivos a cambio de más falsos positivos\n",
        "- DecisionTreeClassifier: mejor capacidad para identificar verdaderos positivos (TPR más alto), pero también genera falsos positivos\n",
        "- DecisionTreeClassifier ajustado: mejora el balance entre TPR y FPR, lo que sugiere una mejor capacidad general para discriminar entre las clases\n",
        "\n",
        "Siendo el último el mejor modelo para estos datos, ya que es el más equilibrado y tiene un mejor balance de TPR y FPR"
      ],
      "metadata": {
        "id": "xmhpcQy2W421"
      }
    }
  ],
  "metadata": {
    "kernelspec": {
      "display_name": "Python 3 (ipykernel)",
      "language": "python",
      "name": "python3"
    },
    "language_info": {
      "codemirror_mode": {
        "name": "ipython",
        "version": 3
      },
      "file_extension": ".py",
      "mimetype": "text/x-python",
      "name": "python",
      "nbconvert_exporter": "python",
      "pygments_lexer": "ipython3",
      "version": "3.11.4"
    },
    "colab": {
      "provenance": []
    }
  },
  "nbformat": 4,
  "nbformat_minor": 0
}